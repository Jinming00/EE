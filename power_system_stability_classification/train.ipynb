{
 "cells": [
  {
   "cell_type": "markdown",
   "id": "e26a1269",
   "metadata": {},
   "source": [
    "# 电力系统稳定性分类模型\n",
    "\n",
    "包含了电力系统稳定性分类的完整代码，包括数据处理、特征工程、模型训练和评估。"
   ]
  },
  {
   "cell_type": "markdown",
   "id": "b059082e",
   "metadata": {},
   "source": [
    "## 1. 导入所需的库"
   ]
  },
  {
   "cell_type": "code",
   "execution_count": 2,
   "id": "5aabe23e",
   "metadata": {},
   "outputs": [
    {
     "name": "stderr",
     "output_type": "stream",
     "text": [
      "/data/jinming/miniconda/envs/ee/lib/python3.8/site-packages/tqdm/auto.py:21: TqdmWarning: IProgress not found. Please update jupyter and ipywidgets. See https://ipywidgets.readthedocs.io/en/stable/user_install.html\n",
      "  from .autonotebook import tqdm as notebook_tqdm\n"
     ]
    }
   ],
   "source": [
    "import pandas as pd\n",
    "import numpy as np\n",
    "import matplotlib.pyplot as plt\n",
    "import seaborn as sns\n",
    "from sklearn.preprocessing import StandardScaler\n",
    "from sklearn.model_selection import train_test_split\n",
    "from sklearn.metrics import (accuracy_score, confusion_matrix, classification_report, \n",
    "                           roc_auc_score, roc_curve, precision_recall_curve, \n",
    "                           average_precision_score, f1_score)\n",
    "import catboost as cb\n",
    "import lightgbm as lgb\n",
    "import xgboost as xgb\n",
    "import optuna\n",
    "import time\n",
    "import warnings\n",
    "import os\n",
    "import joblib\n",
    "\n",
    "# 忽略警告\n",
    "warnings.filterwarnings('ignore')"
   ]
  },
  {
   "cell_type": "markdown",
   "id": "66dd0c93",
   "metadata": {},
   "source": [
    "## 2. 设置输出目录与全局参数"
   ]
  },
  {
   "cell_type": "code",
   "execution_count": 3,
   "id": "0d7e1918",
   "metadata": {},
   "outputs": [
    {
     "name": "stdout",
     "output_type": "stream",
     "text": [
      "创建了最终比较结果目录: ./comparison\n",
      "创建了SHAP分析目录: ./shap\n",
      "设置统一的Optuna超参数优化trials数量: 100\n",
      "设置统一的并行处理线程数: 16\n",
      "为 catboost 创建了输出目录\n",
      "为 lightgbm 创建了输出目录\n",
      "为 xgboost 创建了输出目录\n"
     ]
    }
   ],
   "source": [
    "# 基础目录设置\n",
    "base_dir = '.'   \n",
    "\n",
    "# 创建最终结果比较和SHAP分析的目录\n",
    "comparison_dir = f'{base_dir}/comparison'\n",
    "shap_dir = f'{base_dir}/shap'\n",
    "os.makedirs(comparison_dir, exist_ok=True)\n",
    "os.makedirs(shap_dir, exist_ok=True)\n",
    "print(f\"创建了最终比较结果目录: {comparison_dir}\")\n",
    "print(f\"创建了SHAP分析目录: {shap_dir}\")\n",
    "\n",
    "\n",
    "\n",
    "# 设置统一的超参数优化trials数量和并行处理线程数\n",
    "n_trials_optuna = 100 # 可以根据计算资源和时间调整\n",
    "n_proc = 16          # 并行处理的线程数(CPU)\n",
    "print(f\"设置统一的Optuna超参数优化trials数量: {n_trials_optuna}\")\n",
    "print(f\"设置统一的并行处理线程数: {n_proc}\")\n",
    "\n",
    "# 创建各个模型的输出目录\n",
    "models = ['catboost', 'lightgbm', 'xgboost']\n",
    "for model in models:\n",
    "    model_dir = f'{base_dir}/{model}'\n",
    "    plots_dir = f'{model_dir}/plots'\n",
    "    models_dir = f'{model_dir}/models'\n",
    "    results_dir = f'{model_dir}/results'\n",
    "    \n",
    "    for directory in [plots_dir, models_dir, results_dir]:\n",
    "        os.makedirs(directory, exist_ok=True)\n",
    "        \n",
    "    print(f\"为 {model} 创建了输出目录\")"
   ]
  },
  {
   "cell_type": "markdown",
   "id": "2468825d",
   "metadata": {},
   "source": [
    "## 3. 数据加载与准备"
   ]
  },
  {
   "cell_type": "code",
   "execution_count": 4,
   "id": "37a50de3",
   "metadata": {},
   "outputs": [
    {
     "name": "stdout",
     "output_type": "stream",
     "text": [
      "===== 加载数据 =====\n",
      "===== 准备数据 =====\n",
      "数据集维度 - 训练集: (8000, 12), 验证集: (1000, 12), 测试集: (1000, 12)\n"
     ]
    }
   ],
   "source": [
    "# 加载数据\n",
    "print(\"===== 加载数据 =====\")\n",
    "train_df = pd.read_csv(f'{base_dir}/data/train.csv')\n",
    "test_df = pd.read_csv(f'{base_dir}/data/test.csv')\n",
    "val_df = pd.read_csv(f'{base_dir}/data/val.csv')\n",
    "\n",
    "# 数据准备\n",
    "print(\"===== 准备数据 =====\")\n",
    "# 排除不需要的列\n",
    "# drop_columns = ['stab', 'stabf_encoded', 'stabf', 'p1', 'p2', 'p3', 'p4']\n",
    "drop_columns = ['stab', 'stabf_encoded', 'stabf']\n",
    "\n",
    "X_train = train_df.drop(drop_columns, axis=1)\n",
    "X_test = test_df.drop(drop_columns, axis=1)\n",
    "X_val = val_df.drop(drop_columns, axis=1)\n",
    "\n",
    "y_train = train_df['stabf_encoded']\n",
    "y_test = test_df['stabf_encoded']\n",
    "y_val = val_df['stabf_encoded']\n",
    "\n",
    "print(f\"数据集维度 - 训练集: {X_train.shape}, 验证集: {X_val.shape}, 测试集: {X_test.shape}\")"
   ]
  },
  {
   "cell_type": "markdown",
   "id": "b9913eab",
   "metadata": {},
   "source": [
    "## 4. 特征工程"
   ]
  },
  {
   "cell_type": "code",
   "execution_count": 5,
   "id": "203be401",
   "metadata": {},
   "outputs": [
    {
     "name": "stdout",
     "output_type": "stream",
     "text": [
      "\n",
      "===== 执行特征工程 =====\n",
      "特征工程后特征数量: 29\n"
     ]
    }
   ],
   "source": [
    "def create_features(X_train, X_test, X_val):\n",
    "    \"\"\"为所有数据集创建特征\"\"\"\n",
    "    # 深拷贝，避免修改原始数据\n",
    "    X_train_new = X_train.copy()\n",
    "    X_test_new = X_test.copy()\n",
    "    X_val_new = X_val.copy()\n",
    "    \n",
    "    # 为所有数据集应用特征工程\n",
    "    for df in [X_train_new, X_test_new, X_val_new]:\n",
    "        # 基本交互特征\n",
    "        df['tau1_g1'] = df['tau1'] * df['g1']\n",
    "        df['tau2_g2'] = df['tau2'] * df['g2']\n",
    "        df['tau3_g3'] = df['tau3'] * df['g3']\n",
    "        df['tau4_g4'] = df['tau4'] * df['g4']\n",
    "        \n",
    "        # 延迟比率\n",
    "        df['tau_ratio'] = df[['tau1', 'tau2', 'tau3', 'tau4']].max(axis=1) / df[['tau1', 'tau2', 'tau3', 'tau4']].min(axis=1).replace(0, 0.001)\n",
    "        \n",
    "        # 延迟-弹性比率：每个节点的响应灵敏度\n",
    "        df['tau1_g1_ratio'] = df['tau1'] / df['g1'].replace(0, 0.001)\n",
    "        df['tau2_g2_ratio'] = df['tau2'] / df['g2'].replace(0, 0.001)\n",
    "        df['tau3_g3_ratio'] = df['tau3'] / df['g3'].replace(0, 0.001)\n",
    "        df['tau4_g4_ratio'] = df['tau4'] / df['g4'].replace(0, 0.001)\n",
    "        \n",
    "        # 系统总体弹性\n",
    "        df['total_elasticity'] = df['g1'] + df['g2'] + df['g3'] + df['g4']\n",
    "        \n",
    "        # 弹性分布的不均匀性\n",
    "        df['elasticity_disparity'] = df[['g1', 'g2', 'g3', 'g4']].max(axis=1) / df[['g1', 'g2', 'g3', 'g4']].min(axis=1).replace(0, 0.001)\n",
    "        \n",
    "        # 非线性特征 - 二次项\n",
    "        df['tau1_squared'] = df['tau1'] ** 2\n",
    "        df['tau2_squared'] = df['tau2'] ** 2\n",
    "        df['tau3_squared'] = df['tau3'] ** 2\n",
    "        df['tau4_squared'] = df['tau4'] ** 2\n",
    "        \n",
    "        # 节点间关系特征\n",
    "        df['tau_g_correlation'] = (\n",
    "            (df['tau1'] * df['g1']) + \n",
    "            (df['tau2'] * df['g2']) + \n",
    "            (df['tau3'] * df['g3']) + \n",
    "            (df['tau4'] * df['g4'])\n",
    "        ) / (df['tau1'] + df['tau2'] + df['tau3'] + df['tau4'] + 0.001)\n",
    "        \n",
    "        # 系统整体响应速度指标\n",
    "        df['system_response_speed'] = 4 / (\n",
    "            (1/df['tau1'].replace(0, 0.001)) + \n",
    "            (1/df['tau2'].replace(0, 0.001)) + \n",
    "            (1/df['tau3'].replace(0, 0.001)) + \n",
    "            (1/df['tau4'].replace(0, 0.001))\n",
    "        )\n",
    "    \n",
    "    return X_train_new, X_test_new, X_val_new\n",
    "\n",
    "# 应用特征工程\n",
    "print(\"\\n===== 执行特征工程 =====\")\n",
    "X_train_featured, X_test_featured, X_val_featured = create_features(X_train, X_test, X_val)\n",
    "print(f\"特征工程后特征数量: {X_train_featured.shape[1]}\")"
   ]
  },
  {
   "cell_type": "markdown",
   "id": "085630ae",
   "metadata": {},
   "source": [
    "## 5. 特征选择"
   ]
  },
  {
   "cell_type": "code",
   "execution_count": 6,
   "id": "f552d7bc",
   "metadata": {},
   "outputs": [
    {
     "name": "stdout",
     "output_type": "stream",
     "text": [
      "\n",
      "===== 使用手动指定的特征 =====\n",
      "使用指定的 13 个特征:\n",
      "选择的特征: tau1, tau2, tau3, tau4, g1, g2, g3, g4, tau1_g1, tau2_g2, tau3_g3, tau4_g4, tau_ratio\n",
      "特征选择后特征数量: 13\n"
     ]
    }
   ],
   "source": [
    "def select_features(X_train, X_test, X_val, y_train):\n",
    "    \"\"\"\n",
    "    基于相关性和重要性的特征自动选择\n",
    "    \"\"\"\n",
    "    print(\"\\n===== 开始自动特征选择 =====\")\n",
    "    \n",
    "    # 步骤1: 计算与目标变量的相关性\n",
    "    print(\"步骤1: 计算每个特征与目标的相关性\")\n",
    "    \n",
    "    # 特征与目标的相关性\n",
    "    feature_target_corr = {}\n",
    "    for col in X_train.columns:\n",
    "        # 使用点二列相关系数计算相关性\n",
    "        corr = abs(np.corrcoef(X_train[col], y_train)[0, 1])\n",
    "        feature_target_corr[col] = corr\n",
    "    \n",
    "    feature_corr_df = pd.DataFrame({\n",
    "        'Feature': list(feature_target_corr.keys()),\n",
    "        'Target_Correlation': list(feature_target_corr.values())\n",
    "    }).sort_values('Target_Correlation', ascending=False)\n",
    "    \n",
    "    # 可视化与目标的相关性\n",
    "    plt.figure(figsize=(12, 10))\n",
    "    sns.barplot(x='Target_Correlation', y='Feature', data=feature_corr_df.head(20))\n",
    "    plt.title('Feature Correlation with Target')\n",
    "    plt.tight_layout()\n",
    "    plt.savefig(f'{base_dir}/catboost/plots/target_correlation.png')\n",
    "    plt.close()\n",
    "    \n",
    "    print(\"Top 10 与目标高相关的特征:\")\n",
    "    print(feature_corr_df.head(10))\n",
    "    \n",
    "    # 步骤2: 智能去除高相关特征，保留与目标相关性更高的特征\n",
    "    print(\"\\n步骤2: 智能去除冗余特征\")\n",
    "    \n",
    "    # 计算特征间相关性\n",
    "    corr_matrix = X_train.corr().abs()\n",
    "    upper = corr_matrix.where(np.triu(np.ones(corr_matrix.shape), k=1).astype(bool))\n",
    "    \n",
    "    # 可视化相关性矩阵\n",
    "    plt.figure(figsize=(16, 14))\n",
    "    mask = np.triu(np.ones_like(corr_matrix, dtype=bool))\n",
    "    sns.heatmap(corr_matrix, cmap='coolwarm', center=0, mask=mask,\n",
    "                square=True, linewidths=.5, annot=False, fmt='.2f')\n",
    "    plt.title('Feature Correlation Matrix')\n",
    "    plt.tight_layout()\n",
    "    plt.savefig(f'{base_dir}/catboost/plots/feature_correlation.png')\n",
    "    plt.close()\n",
    "    \n",
    "    # 高度相关的特征对\n",
    "    correlation_threshold = 0.7\n",
    "    to_drop = set()\n",
    "    \n",
    "    for i, row_name in enumerate(upper.index):\n",
    "        for col_name in upper.columns[i:]:\n",
    "            if upper.loc[row_name, col_name] > correlation_threshold:\n",
    "                if feature_target_corr[row_name] > feature_target_corr[col_name]:\n",
    "                    to_drop.add(col_name)\n",
    "                else:\n",
    "                    to_drop.add(row_name)\n",
    "    \n",
    "    print(f\"移除 {len(to_drop)} 个高相关冗余特征:\")\n",
    "    print(\", \".join(list(to_drop)))\n",
    "    \n",
    "    # 移除冗余特征\n",
    "    X_train_filtered = X_train.drop(columns=list(to_drop))\n",
    "    X_test_filtered = X_test.drop(columns=list(to_drop))\n",
    "    X_val_filtered = X_val.drop(columns=list(to_drop))\n",
    "    \n",
    "    # 步骤3: 使用模型评估特征重要性\n",
    "    print(\"\\n步骤3: 基于模型特征重要性筛选\")\n",
    "    \n",
    "    # 训练一个LightGBM模型用于特征重要性评估\n",
    "    feature_selector = lgb.LGBMClassifier(\n",
    "        objective='binary',\n",
    "        metric='auc',\n",
    "        boosting_type='gbdt',\n",
    "        num_leaves=31,\n",
    "        learning_rate=0.1,\n",
    "        n_estimators=100,\n",
    "        random_state=42\n",
    "    )\n",
    "    \n",
    "    feature_selector.fit(X_train_filtered, y_train)\n",
    "    \n",
    "    # 获取特征重要性\n",
    "    importances = feature_selector.feature_importances_\n",
    "    feature_importance_df = pd.DataFrame({\n",
    "        'Feature': X_train_filtered.columns,\n",
    "        'Importance': importances\n",
    "    }).sort_values('Importance', ascending=False)\n",
    "    \n",
    "    # 可视化特征重要性\n",
    "    plt.figure(figsize=(12, 10))\n",
    "    sns.barplot(x='Importance', y='Feature', data=feature_importance_df.head(20))\n",
    "    plt.title('LightGBM Feature Importance')\n",
    "    plt.tight_layout()\n",
    "    plt.savefig(f'{base_dir}/catboost/plots/feature_importance.png')\n",
    "    plt.close()\n",
    "    \n",
    "    # 动态阈值设置\n",
    "    mean_importance = feature_importance_df['Importance'].mean()\n",
    "    importance_threshold = mean_importance * 0.5  # 使用平均值的50%作为阈值\n",
    "    print(f\"动态阈值: {importance_threshold:.2f} (平均重要性的50%)\")\n",
    "    selected_features = feature_importance_df[feature_importance_df['Importance'] > importance_threshold]['Feature'].tolist()\n",
    "    \n",
    "    # 如果筛选的特征太少，保留至少10个最重要的特征\n",
    "    if len(selected_features) < 10:\n",
    "        selected_features = feature_importance_df.head(10)['Feature'].tolist()\n",
    "    \n",
    "    print(f\"\\n最终选择了 {len(selected_features)}/{X_train.shape[1]} 个特征\")\n",
    "    print(f\"选择的特征: {', '.join(selected_features)}\")\n",
    "    \n",
    "    return X_train[selected_features], X_test[selected_features], X_val[selected_features], selected_features\n",
    "\n",
    "def select_features_manual(X_train, X_test, X_val):\n",
    "    \"\"\"手动选择指定的特征集\"\"\"\n",
    "    print(\"\\n===== 使用手动指定的特征 =====\")\n",
    "    \n",
    "   # 指定要保留的特征\n",
    "    selected_features = [\n",
    "        # 原始特征\n",
    "        'tau1', 'tau2', 'tau3', 'tau4',\n",
    "        \n",
    "        'g1', 'g2', 'g3', 'g4',\n",
    "                \n",
    "        # 'p1', 'p2', 'p3', 'p4',\n",
    "        \n",
    "        # # tau与g的交互项\n",
    "        'tau1_g1', 'tau2_g2', 'tau3_g3', 'tau4_g4',\n",
    "\n",
    "        'tau_ratio'\n",
    "    ]\n",
    "\n",
    "\n",
    "\n",
    "    # 验证所有指定的特征都存在\n",
    "    missing_features = [f for f in selected_features if f not in X_train.columns]\n",
    "    if missing_features:\n",
    "        print(f\"警告: 以下指定特征不存在: {', '.join(missing_features)}\")\n",
    "        # 过滤掉不存在的特征\n",
    "        selected_features = [f for f in selected_features if f in X_train.columns]\n",
    "    \n",
    "    print(f\"使用指定的 {len(selected_features)} 个特征:\")\n",
    "    print(f\"选择的特征: {', '.join(selected_features)}\")\n",
    "    \n",
    "    return X_train[selected_features], X_test[selected_features], X_val[selected_features], selected_features\n",
    "\n",
    "# 可以选择自动特征选择或手动特征选择\n",
    "\n",
    "# 使用自动特征选择: 根据feature_correlation 和 LightGBM 输出的 Feature Importance 来选择特征\n",
    "# X_train_final, X_test_final, X_val_final, selected_features = select_features(\n",
    "#     X_train_featured, X_test_featured, X_val_featured, y_train)\n",
    "\n",
    "# 使用手动特征选择：自己根据上面的特征工程和分析选择了几个觉得更好的特征\n",
    "X_train_final, X_test_final, X_val_final, selected_features = select_features_manual(\n",
    "   X_train_featured, X_test_featured, X_val_featured)\n",
    "\n",
    "print(f\"特征选择后特征数量: {X_train_final.shape[1]}\")"
   ]
  },
  {
   "cell_type": "markdown",
   "id": "39290759",
   "metadata": {},
   "source": [
    "## 6. 模型训练和评估函数"
   ]
  },
  {
   "cell_type": "code",
   "execution_count": 7,
   "id": "3a59451c",
   "metadata": {},
   "outputs": [],
   "source": [
    "def evaluate_model(model, X_train, y_train, X_val, y_val, X_test, y_test, model_name, is_xgb=False):\n",
    "    \"\"\"评估模型性能并生成可视化结果\"\"\"\n",
    "    # 准备评估报告的字典\n",
    "    results = {}\n",
    "    \n",
    "    # 如果是XGBoost模型，需要转换为DMatrix格式\n",
    "    if is_xgb:\n",
    "        dtrain = xgb.DMatrix(X_train, label=y_train)\n",
    "        dval = xgb.DMatrix(X_val, label=y_val)\n",
    "        dtest = xgb.DMatrix(X_test, label=y_test)\n",
    "        \n",
    "        # 预测概率\n",
    "        y_val_prob = model.predict(dval)\n",
    "        y_test_prob = model.predict(dtest)\n",
    "        \n",
    "        # 预测类别\n",
    "        y_val_pred = (y_val_prob > 0.5).astype(int)\n",
    "        y_test_pred = (y_test_prob > 0.5).astype(int)\n",
    "    else:\n",
    "        # 预测概率\n",
    "        y_val_prob = model.predict_proba(X_val)[:, 1]\n",
    "        y_test_prob = model.predict_proba(X_test)[:, 1]\n",
    "        \n",
    "        # 预测类别\n",
    "        y_val_pred = model.predict(X_val)\n",
    "        y_test_pred = model.predict(X_test)\n",
    "    \n",
    "    # 计算各种评估指标\n",
    "    val_auc = roc_auc_score(y_val, y_val_prob)\n",
    "    val_acc = accuracy_score(y_val, y_val_pred)\n",
    "    val_f1 = f1_score(y_val, y_val_pred)\n",
    "    val_f1_weighted = f1_score(y_val, y_val_pred, average='weighted')\n",
    "    \n",
    "    test_auc = roc_auc_score(y_test, y_test_prob)\n",
    "    test_acc = accuracy_score(y_test, y_test_pred)\n",
    "    test_f1 = f1_score(y_test, y_test_pred)\n",
    "    test_f1_weighted = f1_score(y_test, y_test_pred, average='weighted')\n",
    "    \n",
    "    # 打印评估结果\n",
    "    print(f\"\\n===== {model_name} 在验证集上的性能 =====\")\n",
    "    print(f\"AUC: {val_auc:.4f}\")\n",
    "    print(f\"Weighted F1 Score: {val_f1_weighted:.4f}\")\n",
    "    print(f\"F1 Score: {val_f1:.4f}\")\n",
    "    print(f\"Accuracy: {val_acc:.4f}\")\n",
    "    \n",
    "    print(f\"\\n===== {model_name} 在测试集上的性能 =====\")\n",
    "    print(f\"AUC: {test_auc:.4f}\")\n",
    "    print(f\"Weighted F1 Score: {test_f1_weighted:.4f}\")\n",
    "    print(f\"F1 Score: {test_f1:.4f}\")\n",
    "    print(f\"Accuracy: {test_acc:.4f}\")\n",
    "    \n",
    "    # 保存评估结果\n",
    "    results = {\n",
    "        'model_name': model_name,\n",
    "        'validation': {\n",
    "            'auc': val_auc,\n",
    "            'accuracy': val_acc,\n",
    "            'f1': val_f1,\n",
    "            'f1_weighted': val_f1_weighted\n",
    "        },\n",
    "        'test': {\n",
    "            'auc': test_auc,\n",
    "            'accuracy': test_acc,\n",
    "            'f1': test_f1,\n",
    "            'f1_weighted': test_f1_weighted\n",
    "        }\n",
    "    }\n",
    "    \n",
    "    # 创建模型的基本目录\n",
    "    model_dir = f'{base_dir}/{model_name.lower()}'\n",
    "    plots_dir = f'{model_dir}/plots'\n",
    "    results_dir = f'{model_dir}/results'\n",
    "    \n",
    "    # 绘制ROC曲线\n",
    "    plt.figure(figsize=(12, 10))\n",
    "    # 验证集\n",
    "    fpr_val, tpr_val, _ = roc_curve(y_val, y_val_prob)\n",
    "    plt.plot(fpr_val, tpr_val, label=f'Validation Set (AUC = {val_auc:.4f})')\n",
    "    # 测试集\n",
    "    fpr_test, tpr_test, _ = roc_curve(y_test, y_test_prob)\n",
    "    plt.plot(fpr_test, tpr_test, label=f'Test Set (AUC = {test_auc:.4f})')\n",
    "    # 参考线\n",
    "    plt.plot([0, 1], [0, 1], 'k--', label='Random Guess')\n",
    "    plt.xlabel('False Positive Rate')\n",
    "    plt.ylabel('True Positive Rate')\n",
    "    plt.title(f'ROC Curve - {model_name}')\n",
    "    plt.legend()\n",
    "    plt.grid(True, alpha=0.3)\n",
    "    plt.tight_layout()\n",
    "    plt.savefig(f'{plots_dir}/{model_name.lower()}_roc_curves.png')\n",
    "    plt.close()\n",
    "    \n",
    "    # 绘制PR曲线\n",
    "    plt.figure(figsize=(12, 10))\n",
    "    # 验证集\n",
    "    prec_val, rec_val, _ = precision_recall_curve(y_val, y_val_prob)\n",
    "    avg_prec_val = average_precision_score(y_val, y_val_prob)\n",
    "    plt.plot(rec_val, prec_val, label=f'Validation Set (AP = {avg_prec_val:.4f})')\n",
    "    # 测试集\n",
    "    prec_test, rec_test, _ = precision_recall_curve(y_test, y_test_prob)\n",
    "    avg_prec_test = average_precision_score(y_test, y_test_prob)\n",
    "    plt.plot(rec_test, prec_test, label=f'Test Set (AP = {avg_prec_test:.4f})')\n",
    "    plt.xlabel('Recall')\n",
    "    plt.ylabel('Precision')\n",
    "    plt.title(f'PR Curve - {model_name}')\n",
    "    plt.legend()\n",
    "    plt.grid(True, alpha=0.3)\n",
    "    plt.tight_layout()\n",
    "    plt.savefig(f'{plots_dir}/{model_name.lower()}_pr_curves.png')\n",
    "    plt.close()\n",
    "    \n",
    "    # 保存性能结果\n",
    "    results_df = pd.DataFrame({\n",
    "        'Metric': ['AUC', 'Accuracy', 'F1 Score', 'Weighted F1 Score'],\n",
    "        'Validation Set': [val_auc, val_acc, val_f1, val_f1_weighted],\n",
    "        'Test Set': [test_auc, test_acc, test_f1, test_f1_weighted]\n",
    "    })\n",
    "    results_df.to_csv(f'{results_dir}/{model_name.lower()}_auc_performance.csv', index=False)\n",
    "    \n",
    "    return results"
   ]
  },
  {
   "cell_type": "markdown",
   "id": "db83a8fb",
   "metadata": {},
   "source": [
    "## 7. 使用CatBoost训练模型 (AUC优化)"
   ]
  },
  {
   "cell_type": "code",
   "execution_count": 32,
   "id": "3a59451c",
   "metadata": {},
   "outputs": [
    {
     "name": "stderr",
     "output_type": "stream",
     "text": [
      "[I 2025-05-26 07:51:59,830] A new study created in memory with name: catboost_auc_optimization\n"
     ]
    },
    {
     "name": "stdout",
     "output_type": "stream",
     "text": [
      "\n",
      "===== 开始CatBoost模型的Optuna调参过程 (AUC) =====\n",
      "开始运行 100 次调参试验...\n"
     ]
    },
    {
     "name": "stderr",
     "output_type": "stream",
     "text": [
      "[I 2025-05-26 07:52:00,287] Trial 0 finished with value: 0.9903104763322548 and parameters: {'learning_rate': 0.19646439398892807, 'depth': 8, 'l2_leaf_reg': 1.02817136248092e-08, 'random_strength': 5.9760489319430485e-05, 'bagging_temperature': 1.204617223589055, 'min_data_in_leaf': 94, 'leaf_estimation_iterations': 5, 'rsm': 0.6577226361765014}. Best is trial 0 with value: 0.9903104763322548.\n"
     ]
    },
    {
     "name": "stdout",
     "output_type": "stream",
     "text": [
      "Trial 0: AUC = 0.9903\n"
     ]
    },
    {
     "name": "stderr",
     "output_type": "stream",
     "text": [
      "[I 2025-05-26 07:52:03,618] Trial 1 finished with value: 0.9923683507668866 and parameters: {'learning_rate': 0.012819012108365358, 'depth': 6, 'l2_leaf_reg': 8.667251137553514e-05, 'random_strength': 5.7445044986196866e-05, 'bagging_temperature': 7.718250082979413, 'min_data_in_leaf': 48, 'leaf_estimation_iterations': 15, 'rsm': 0.9320454085933476}. Best is trial 1 with value: 0.9923683507668866.\n"
     ]
    },
    {
     "name": "stdout",
     "output_type": "stream",
     "text": [
      "Trial 1: AUC = 0.9924\n"
     ]
    },
    {
     "name": "stderr",
     "output_type": "stream",
     "text": [
      "[I 2025-05-26 07:52:05,091] Trial 2 finished with value: 0.991370062743278 and parameters: {'learning_rate': 0.14163538377452334, 'depth': 9, 'l2_leaf_reg': 1.2648338070660669e-05, 'random_strength': 5.099497462265223, 'bagging_temperature': 3.1564416054568367, 'min_data_in_leaf': 65, 'leaf_estimation_iterations': 15, 'rsm': 0.3451403202315315}. Best is trial 1 with value: 0.9923683507668866.\n"
     ]
    },
    {
     "name": "stdout",
     "output_type": "stream",
     "text": [
      "Trial 2: AUC = 0.9914\n"
     ]
    },
    {
     "name": "stderr",
     "output_type": "stream",
     "text": [
      "[I 2025-05-26 07:52:13,287] Trial 3 finished with value: 0.9945575788888353 and parameters: {'learning_rate': 0.010816607454220408, 'depth': 10, 'l2_leaf_reg': 7.14637931049362e-06, 'random_strength': 1.8015046170071911, 'bagging_temperature': 8.75969185040536, 'min_data_in_leaf': 44, 'leaf_estimation_iterations': 1, 'rsm': 0.6950525903408613}. Best is trial 3 with value: 0.9945575788888353.\n"
     ]
    },
    {
     "name": "stdout",
     "output_type": "stream",
     "text": [
      "Trial 3: AUC = 0.9946\n"
     ]
    },
    {
     "name": "stderr",
     "output_type": "stream",
     "text": [
      "[I 2025-05-26 07:52:16,810] Trial 4 finished with value: 0.9943911975515672 and parameters: {'learning_rate': 0.2834011202170796, 'depth': 8, 'l2_leaf_reg': 1.0035934505724607e-07, 'random_strength': 1.67634810187861e-05, 'bagging_temperature': 2.9518397922348907, 'min_data_in_leaf': 99, 'leaf_estimation_iterations': 10, 'rsm': 0.6752810926587877}. Best is trial 3 with value: 0.9945575788888353.\n"
     ]
    },
    {
     "name": "stdout",
     "output_type": "stream",
     "text": [
      "Trial 4: AUC = 0.9944\n"
     ]
    },
    {
     "name": "stderr",
     "output_type": "stream",
     "text": [
      "[I 2025-05-26 07:52:19,331] Trial 5 finished with value: 0.9953894855751759 and parameters: {'learning_rate': 0.03304601098338728, 'depth': 6, 'l2_leaf_reg': 2.823580322287272e-07, 'random_strength': 0.0035213727569053488, 'bagging_temperature': 2.890406758086188, 'min_data_in_leaf': 68, 'leaf_estimation_iterations': 1, 'rsm': 0.42614420262818864}. Best is trial 5 with value: 0.9953894855751759.\n"
     ]
    },
    {
     "name": "stdout",
     "output_type": "stream",
     "text": [
      "Trial 5: AUC = 0.9954\n"
     ]
    },
    {
     "name": "stderr",
     "output_type": "stream",
     "text": [
      "[I 2025-05-26 07:52:22,626] Trial 6 finished with value: 0.9938964319960069 and parameters: {'learning_rate': 0.01153665471969852, 'depth': 5, 'l2_leaf_reg': 6.509348091780683e-06, 'random_strength': 0.0006756276490726492, 'bagging_temperature': 1.9977215867075682, 'min_data_in_leaf': 13, 'leaf_estimation_iterations': 1, 'rsm': 0.5827125123513945}. Best is trial 5 with value: 0.9953894855751759.\n"
     ]
    },
    {
     "name": "stdout",
     "output_type": "stream",
     "text": [
      "Trial 6: AUC = 0.9939\n"
     ]
    },
    {
     "name": "stderr",
     "output_type": "stream",
     "text": [
      "[I 2025-05-26 07:52:24,514] Trial 7 finished with value: 0.9939402165584459 and parameters: {'learning_rate': 0.03545456048033501, 'depth': 8, 'l2_leaf_reg': 0.012328765603225177, 'random_strength': 1.2112443898347843e-06, 'bagging_temperature': 8.81796077228859, 'min_data_in_leaf': 15, 'leaf_estimation_iterations': 11, 'rsm': 0.8387632327828719}. Best is trial 5 with value: 0.9953894855751759.\n"
     ]
    },
    {
     "name": "stdout",
     "output_type": "stream",
     "text": [
      "Trial 7: AUC = 0.9939\n"
     ]
    },
    {
     "name": "stderr",
     "output_type": "stream",
     "text": [
      "[I 2025-05-26 07:52:25,260] Trial 8 finished with value: 0.9922151047983502 and parameters: {'learning_rate': 0.20955460050877847, 'depth': 6, 'l2_leaf_reg': 1.4018786280757444e-08, 'random_strength': 4.743752355293751e-07, 'bagging_temperature': 6.603240416081054, 'min_data_in_leaf': 29, 'leaf_estimation_iterations': 19, 'rsm': 0.1464055783429366}. Best is trial 5 with value: 0.9953894855751759.\n"
     ]
    },
    {
     "name": "stdout",
     "output_type": "stream",
     "text": [
      "Trial 8: AUC = 0.9922\n"
     ]
    },
    {
     "name": "stderr",
     "output_type": "stream",
     "text": [
      "[I 2025-05-26 07:52:29,466] Trial 9 finished with value: 0.9929944700097639 and parameters: {'learning_rate': 0.015911284566538925, 'depth': 4, 'l2_leaf_reg': 0.09505287490594891, 'random_strength': 0.1920307816816565, 'bagging_temperature': 3.472825114973289, 'min_data_in_leaf': 47, 'leaf_estimation_iterations': 13, 'rsm': 0.4220696940324661}. Best is trial 5 with value: 0.9953894855751759.\n"
     ]
    },
    {
     "name": "stdout",
     "output_type": "stream",
     "text": [
      "Trial 9: AUC = 0.9930\n"
     ]
    },
    {
     "name": "stderr",
     "output_type": "stream",
     "text": [
      "[I 2025-05-26 07:52:30,690] Trial 10 finished with value: 0.991238709055961 and parameters: {'learning_rate': 0.057344290436016805, 'depth': 4, 'l2_leaf_reg': 0.0017144922530731804, 'random_strength': 0.005008073707672188, 'bagging_temperature': 0.0776817031689716, 'min_data_in_leaf': 74, 'leaf_estimation_iterations': 7, 'rsm': 0.11707202849659176}. Best is trial 5 with value: 0.9953894855751759.\n"
     ]
    },
    {
     "name": "stdout",
     "output_type": "stream",
     "text": [
      "Trial 10: AUC = 0.9912\n"
     ]
    },
    {
     "name": "stderr",
     "output_type": "stream",
     "text": [
      "[I 2025-05-26 07:52:33,301] Trial 11 finished with value: 0.9935198847590316 and parameters: {'learning_rate': 0.027534717420782288, 'depth': 10, 'l2_leaf_reg': 6.395460383870193e-07, 'random_strength': 0.03718900005888196, 'bagging_temperature': 5.208655935573129, 'min_data_in_leaf': 65, 'leaf_estimation_iterations': 1, 'rsm': 0.40003458501855516}. Best is trial 5 with value: 0.9953894855751759.\n"
     ]
    },
    {
     "name": "stdout",
     "output_type": "stream",
     "text": [
      "Trial 11: AUC = 0.9935\n"
     ]
    },
    {
     "name": "stderr",
     "output_type": "stream",
     "text": [
      "[I 2025-05-26 07:52:34,028] Trial 12 finished with value: 0.9915189302555705 and parameters: {'learning_rate': 0.07734625370375388, 'depth': 7, 'l2_leaf_reg': 1.487754549273071e-06, 'random_strength': 8.395060194698937, 'bagging_temperature': 9.569312147386963, 'min_data_in_leaf': 34, 'leaf_estimation_iterations': 5, 'rsm': 0.7853519547873464}. Best is trial 5 with value: 0.9953894855751759.\n"
     ]
    },
    {
     "name": "stdout",
     "output_type": "stream",
     "text": [
      "Trial 12: AUC = 0.9915\n"
     ]
    },
    {
     "name": "stderr",
     "output_type": "stream",
     "text": [
      "[I 2025-05-26 07:52:41,131] Trial 13 finished with value: 0.9948859631071277 and parameters: {'learning_rate': 0.023471709133359372, 'depth': 10, 'l2_leaf_reg': 3.190048037178792, 'random_strength': 1.2161550678508535e-08, 'bagging_temperature': 4.6463033333480475, 'min_data_in_leaf': 76, 'leaf_estimation_iterations': 3, 'rsm': 0.5011700699947088}. Best is trial 5 with value: 0.9953894855751759.\n"
     ]
    },
    {
     "name": "stdout",
     "output_type": "stream",
     "text": [
      "Trial 13: AUC = 0.9949\n"
     ]
    },
    {
     "name": "stderr",
     "output_type": "stream",
     "text": [
      "[I 2025-05-26 07:52:42,646] Trial 14 finished with value: 0.9939664872959091 and parameters: {'learning_rate': 0.025721422282815796, 'depth': 6, 'l2_leaf_reg': 2.053608928454835, 'random_strength': 1.282836465324233e-08, 'bagging_temperature': 5.0568861963405665, 'min_data_in_leaf': 82, 'leaf_estimation_iterations': 4, 'rsm': 0.4898638486283915}. Best is trial 5 with value: 0.9953894855751759.\n"
     ]
    },
    {
     "name": "stdout",
     "output_type": "stream",
     "text": [
      "Trial 14: AUC = 0.9940\n"
     ]
    },
    {
     "name": "stderr",
     "output_type": "stream",
     "text": [
      "[I 2025-05-26 07:52:48,110] Trial 15 finished with value: 0.9955383530874684 and parameters: {'learning_rate': 0.04225225560279748, 'depth': 9, 'l2_leaf_reg': 7.372582485531797, 'random_strength': 1.1442231638910778e-08, 'bagging_temperature': 4.316990766260625, 'min_data_in_leaf': 64, 'leaf_estimation_iterations': 8, 'rsm': 0.2793317015930153}. Best is trial 15 with value: 0.9955383530874684.\n"
     ]
    },
    {
     "name": "stdout",
     "output_type": "stream",
     "text": [
      "Trial 15: AUC = 0.9955\n"
     ]
    },
    {
     "name": "stderr",
     "output_type": "stream",
     "text": [
      "[I 2025-05-26 07:52:49,176] Trial 16 finished with value: 0.9926573288789837 and parameters: {'learning_rate': 0.08598847625855377, 'depth': 7, 'l2_leaf_reg': 0.0004804268705838992, 'random_strength': 0.0025173393937165086, 'bagging_temperature': 6.52260192014362, 'min_data_in_leaf': 61, 'leaf_estimation_iterations': 8, 'rsm': 0.27586164053348583}. Best is trial 15 with value: 0.9955383530874684.\n"
     ]
    },
    {
     "name": "stdout",
     "output_type": "stream",
     "text": [
      "Trial 16: AUC = 0.9927\n"
     ]
    },
    {
     "name": "stderr",
     "output_type": "stream",
     "text": [
      "[I 2025-05-26 07:52:54,488] Trial 17 finished with value: 0.9945269296951282 and parameters: {'learning_rate': 0.04096720753467239, 'depth': 9, 'l2_leaf_reg': 0.2859189411618916, 'random_strength': 8.00719099441653e-07, 'bagging_temperature': 4.243341759441477, 'min_data_in_leaf': 89, 'leaf_estimation_iterations': 20, 'rsm': 0.23341710632483234}. Best is trial 15 with value: 0.9955383530874684.\n"
     ]
    },
    {
     "name": "stdout",
     "output_type": "stream",
     "text": [
      "Trial 17: AUC = 0.9945\n"
     ]
    },
    {
     "name": "stderr",
     "output_type": "stream",
     "text": [
      "[I 2025-05-26 07:52:55,781] Trial 18 finished with value: 0.9941284901769335 and parameters: {'learning_rate': 0.05759395230650165, 'depth': 5, 'l2_leaf_reg': 0.01056805391438657, 'random_strength': 0.0274473917703556, 'bagging_temperature': 2.0786159316020276, 'min_data_in_leaf': 57, 'leaf_estimation_iterations': 7, 'rsm': 0.2601847358994206}. Best is trial 15 with value: 0.9955383530874684.\n"
     ]
    },
    {
     "name": "stdout",
     "output_type": "stream",
     "text": [
      "Trial 18: AUC = 0.9941\n"
     ]
    },
    {
     "name": "stderr",
     "output_type": "stream",
     "text": [
      "[I 2025-05-26 07:52:58,099] Trial 19 finished with value: 0.9957178697934682 and parameters: {'learning_rate': 0.0946368288661265, 'depth': 9, 'l2_leaf_reg': 9.742511977255065, 'random_strength': 1.0555944272630233e-05, 'bagging_temperature': 6.430069349784906, 'min_data_in_leaf': 2, 'leaf_estimation_iterations': 9, 'rsm': 0.34381266104386626}. Best is trial 19 with value: 0.9957178697934682.\n"
     ]
    },
    {
     "name": "stdout",
     "output_type": "stream",
     "text": [
      "Trial 19: AUC = 0.9957\n"
     ]
    },
    {
     "name": "stderr",
     "output_type": "stream",
     "text": [
      "[I 2025-05-26 07:53:01,473] Trial 20 finished with value: 0.995814195830834 and parameters: {'learning_rate': 0.10603222610912916, 'depth': 9, 'l2_leaf_reg': 8.307159439752008, 'random_strength': 1.0410508481792894e-07, 'bagging_temperature': 6.197259901209437, 'min_data_in_leaf': 2, 'leaf_estimation_iterations': 10, 'rsm': 0.18556432790991234}. Best is trial 20 with value: 0.995814195830834.\n"
     ]
    },
    {
     "name": "stdout",
     "output_type": "stream",
     "text": [
      "Trial 20: AUC = 0.9958\n"
     ]
    },
    {
     "name": "stderr",
     "output_type": "stream",
     "text": [
      "[I 2025-05-26 07:53:03,661] Trial 21 finished with value: 0.9948815846508838 and parameters: {'learning_rate': 0.10073425774248569, 'depth': 9, 'l2_leaf_reg': 0.4555915829352507, 'random_strength': 8.122775648946436e-08, 'bagging_temperature': 6.449997630944283, 'min_data_in_leaf': 9, 'leaf_estimation_iterations': 10, 'rsm': 0.20488580086428798}. Best is trial 20 with value: 0.995814195830834.\n"
     ]
    },
    {
     "name": "stdout",
     "output_type": "stream",
     "text": [
      "Trial 21: AUC = 0.9949\n"
     ]
    },
    {
     "name": "stderr",
     "output_type": "stream",
     "text": [
      "[I 2025-05-26 07:53:05,249] Trial 22 finished with value: 0.9951924550442005 and parameters: {'learning_rate': 0.11521286748397883, 'depth': 9, 'l2_leaf_reg': 9.555166731557293, 'random_strength': 1.3784553248383438e-07, 'bagging_temperature': 5.787789350815223, 'min_data_in_leaf': 3, 'leaf_estimation_iterations': 12, 'rsm': 0.3225483495419479}. Best is trial 20 with value: 0.995814195830834.\n"
     ]
    },
    {
     "name": "stdout",
     "output_type": "stream",
     "text": [
      "Trial 22: AUC = 0.9952\n"
     ]
    },
    {
     "name": "stderr",
     "output_type": "stream",
     "text": [
      "[I 2025-05-26 07:53:06,804] Trial 23 finished with value: 0.9958754942182485 and parameters: {'learning_rate': 0.06872673770732128, 'depth': 8, 'l2_leaf_reg': 9.763865981584205, 'random_strength': 5.190742348361501e-06, 'bagging_temperature': 7.565042163648678, 'min_data_in_leaf': 23, 'leaf_estimation_iterations': 8, 'rsm': 0.19073090391825867}. Best is trial 23 with value: 0.9958754942182485.\n"
     ]
    },
    {
     "name": "stdout",
     "output_type": "stream",
     "text": [
      "Trial 23: AUC = 0.9959\n"
     ]
    },
    {
     "name": "stderr",
     "output_type": "stream",
     "text": [
      "[I 2025-05-26 07:53:07,605] Trial 24 finished with value: 0.994443739026494 and parameters: {'learning_rate': 0.15904664108226413, 'depth': 8, 'l2_leaf_reg': 0.9475978647415519, 'random_strength': 5.406039511872729e-06, 'bagging_temperature': 7.840586572344547, 'min_data_in_leaf': 22, 'leaf_estimation_iterations': 14, 'rsm': 0.16870097272146592}. Best is trial 23 with value: 0.9958754942182485.\n"
     ]
    },
    {
     "name": "stdout",
     "output_type": "stream",
     "text": [
      "Trial 24: AUC = 0.9944\n"
     ]
    },
    {
     "name": "stderr",
     "output_type": "stream",
     "text": [
      "[I 2025-05-26 07:53:08,396] Trial 25 finished with value: 0.9922851600982526 and parameters: {'learning_rate': 0.07074950895585476, 'depth': 8, 'l2_leaf_reg': 0.04588679543271175, 'random_strength': 6.732014751480214e-06, 'bagging_temperature': 7.4707666307915135, 'min_data_in_leaf': 3, 'leaf_estimation_iterations': 9, 'rsm': 0.10845116979995575}. Best is trial 23 with value: 0.9958754942182485.\n"
     ]
    },
    {
     "name": "stdout",
     "output_type": "stream",
     "text": [
      "Trial 25: AUC = 0.9923\n"
     ]
    },
    {
     "name": "stderr",
     "output_type": "stream",
     "text": [
      "[I 2025-05-26 07:53:10,119] Trial 26 finished with value: 0.991882342123814 and parameters: {'learning_rate': 0.11235408403747062, 'depth': 10, 'l2_leaf_reg': 0.16573401518352351, 'random_strength': 0.0001608374293094459, 'bagging_temperature': 7.256617874990887, 'min_data_in_leaf': 21, 'leaf_estimation_iterations': 17, 'rsm': 0.3443467255502116}. Best is trial 23 with value: 0.9958754942182485.\n"
     ]
    },
    {
     "name": "stdout",
     "output_type": "stream",
     "text": [
      "Trial 26: AUC = 0.9919\n"
     ]
    },
    {
     "name": "stderr",
     "output_type": "stream",
     "text": [
      "[I 2025-05-26 07:53:11,307] Trial 27 finished with value: 0.9951136428318104 and parameters: {'learning_rate': 0.06712914806886995, 'depth': 7, 'l2_leaf_reg': 2.1213678006180454, 'random_strength': 3.48779863346008e-06, 'bagging_temperature': 5.656374137281012, 'min_data_in_leaf': 1, 'leaf_estimation_iterations': 6, 'rsm': 0.19659041765863108}. Best is trial 23 with value: 0.9958754942182485.\n"
     ]
    },
    {
     "name": "stdout",
     "output_type": "stream",
     "text": [
      "Trial 27: AUC = 0.9951\n"
     ]
    },
    {
     "name": "stderr",
     "output_type": "stream",
     "text": [
      "[I 2025-05-26 07:53:13,027] Trial 28 finished with value: 0.9936687522713241 and parameters: {'learning_rate': 0.13692496451312222, 'depth': 9, 'l2_leaf_reg': 0.02815777235909822, 'random_strength': 1.91474473951908e-07, 'bagging_temperature': 9.883098618765676, 'min_data_in_leaf': 37, 'leaf_estimation_iterations': 11, 'rsm': 0.3269474517992629}. Best is trial 23 with value: 0.9958754942182485.\n"
     ]
    },
    {
     "name": "stdout",
     "output_type": "stream",
     "text": [
      "Trial 28: AUC = 0.9937\n"
     ]
    },
    {
     "name": "stderr",
     "output_type": "stream",
     "text": [
      "[I 2025-05-26 07:53:14,579] Trial 29 finished with value: 0.994570714257567 and parameters: {'learning_rate': 0.09447755592686767, 'depth': 8, 'l2_leaf_reg': 0.8260958994749241, 'random_strength': 3.625007226056824e-05, 'bagging_temperature': 5.906421195525499, 'min_data_in_leaf': 21, 'leaf_estimation_iterations': 9, 'rsm': 0.5951867487402043}. Best is trial 23 with value: 0.9958754942182485.\n"
     ]
    },
    {
     "name": "stdout",
     "output_type": "stream",
     "text": [
      "Trial 29: AUC = 0.9946\n"
     ]
    },
    {
     "name": "stderr",
     "output_type": "stream",
     "text": [
      "[I 2025-05-26 07:53:15,649] Trial 30 finished with value: 0.9927843041100569 and parameters: {'learning_rate': 0.19619299748176844, 'depth': 8, 'l2_leaf_reg': 0.0031464986589037135, 'random_strength': 5.7195289983591883e-08, 'bagging_temperature': 8.823479081763825, 'min_data_in_leaf': 8, 'leaf_estimation_iterations': 12, 'rsm': 0.18830922423854318}. Best is trial 23 with value: 0.9958754942182485.\n"
     ]
    },
    {
     "name": "stdout",
     "output_type": "stream",
     "text": [
      "Trial 30: AUC = 0.9928\n"
     ]
    },
    {
     "name": "stderr",
     "output_type": "stream",
     "text": [
      "[I 2025-05-26 07:53:20,165] Trial 31 finished with value: 0.9955821376499074 and parameters: {'learning_rate': 0.04261498555897196, 'depth': 9, 'l2_leaf_reg': 6.608650246934943, 'random_strength': 4.224812654592348e-08, 'bagging_temperature': 7.1869440518835885, 'min_data_in_leaf': 54, 'leaf_estimation_iterations': 8, 'rsm': 0.2798786146924849}. Best is trial 23 with value: 0.9958754942182485.\n"
     ]
    },
    {
     "name": "stdout",
     "output_type": "stream",
     "text": [
      "Trial 31: AUC = 0.9956\n"
     ]
    },
    {
     "name": "stderr",
     "output_type": "stream",
     "text": [
      "[I 2025-05-26 07:53:23,784] Trial 32 finished with value: 0.9955295961749806 and parameters: {'learning_rate': 0.04747903904445801, 'depth': 9, 'l2_leaf_reg': 4.526582768764759, 'random_strength': 2.04080699252109e-06, 'bagging_temperature': 8.098741823399758, 'min_data_in_leaf': 29, 'leaf_estimation_iterations': 6, 'rsm': 0.26687681508951594}. Best is trial 23 with value: 0.9958754942182485.\n"
     ]
    },
    {
     "name": "stdout",
     "output_type": "stream",
     "text": [
      "Trial 32: AUC = 0.9955\n"
     ]
    },
    {
     "name": "stderr",
     "output_type": "stream",
     "text": [
      "[I 2025-05-26 07:53:25,431] Trial 33 finished with value: 0.9939183242772263 and parameters: {'learning_rate': 0.05353853835038841, 'depth': 10, 'l2_leaf_reg': 1.0086264213247431, 'random_strength': 3.6131357835955713e-07, 'bagging_temperature': 6.9376049714803445, 'min_data_in_leaf': 55, 'leaf_estimation_iterations': 9, 'rsm': 0.3840547217158863}. Best is trial 23 with value: 0.9958754942182485.\n"
     ]
    },
    {
     "name": "stdout",
     "output_type": "stream",
     "text": [
      "Trial 33: AUC = 0.9939\n"
     ]
    },
    {
     "name": "stderr",
     "output_type": "stream",
     "text": [
      "[I 2025-05-26 07:53:29,203] Trial 34 finished with value: 0.9954507839625905 and parameters: {'learning_rate': 0.06831805326647407, 'depth': 9, 'l2_leaf_reg': 8.2419790992655, 'random_strength': 1.3914520017651813e-05, 'bagging_temperature': 8.302191461376896, 'min_data_in_leaf': 16, 'leaf_estimation_iterations': 7, 'rsm': 0.47731691143656113}. Best is trial 23 with value: 0.9958754942182485.\n"
     ]
    },
    {
     "name": "stdout",
     "output_type": "stream",
     "text": [
      "Trial 34: AUC = 0.9955\n"
     ]
    },
    {
     "name": "stderr",
     "output_type": "stream",
     "text": [
      "[I 2025-05-26 07:53:30,962] Trial 35 finished with value: 0.9922720247295209 and parameters: {'learning_rate': 0.018351033319470852, 'depth': 8, 'l2_leaf_reg': 7.637069219491231e-05, 'random_strength': 4.844789691447155e-08, 'bagging_temperature': 7.022543357318565, 'min_data_in_leaf': 39, 'leaf_estimation_iterations': 8, 'rsm': 0.3056335018192986}. Best is trial 23 with value: 0.9958754942182485.\n"
     ]
    },
    {
     "name": "stdout",
     "output_type": "stream",
     "text": [
      "Trial 35: AUC = 0.9923\n"
     ]
    },
    {
     "name": "stderr",
     "output_type": "stream",
     "text": [
      "[I 2025-05-26 07:53:32,499] Trial 36 finished with value: 0.9935111278465438 and parameters: {'learning_rate': 0.13781289393462368, 'depth': 9, 'l2_leaf_reg': 0.18398040707440103, 'random_strength': 0.00011461232721094627, 'bagging_temperature': 6.045300213508361, 'min_data_in_leaf': 8, 'leaf_estimation_iterations': 12, 'rsm': 0.22990433519735315}. Best is trial 23 with value: 0.9958754942182485.\n"
     ]
    },
    {
     "name": "stdout",
     "output_type": "stream",
     "text": [
      "Trial 36: AUC = 0.9935\n"
     ]
    },
    {
     "name": "stderr",
     "output_type": "stream",
     "text": [
      "[I 2025-05-26 07:53:33,670] Trial 37 finished with value: 0.9933447465092758 and parameters: {'learning_rate': 0.08350875499648809, 'depth': 10, 'l2_leaf_reg': 1.933020295231041, 'random_strength': 3.903803033241698e-05, 'bagging_temperature': 8.353489501827982, 'min_data_in_leaf': 43, 'leaf_estimation_iterations': 10, 'rsm': 0.1471278181448205}. Best is trial 23 with value: 0.9958754942182485.\n"
     ]
    },
    {
     "name": "stdout",
     "output_type": "stream",
     "text": [
      "Trial 37: AUC = 0.9933\n"
     ]
    },
    {
     "name": "stderr",
     "output_type": "stream",
     "text": [
      "[I 2025-05-26 07:53:34,620] Trial 38 finished with value: 0.9954770547000538 and parameters: {'learning_rate': 0.1836284717236799, 'depth': 7, 'l2_leaf_reg': 9.695936072042807, 'random_strength': 0.0007120232778193061, 'bagging_temperature': 7.576007779907098, 'min_data_in_leaf': 51, 'leaf_estimation_iterations': 5, 'rsm': 0.9581766586218379}. Best is trial 23 with value: 0.9958754942182485.\n"
     ]
    },
    {
     "name": "stdout",
     "output_type": "stream",
     "text": [
      "Trial 38: AUC = 0.9955\n"
     ]
    },
    {
     "name": "stderr",
     "output_type": "stream",
     "text": [
      "[I 2025-05-26 07:53:35,423] Trial 39 finished with value: 0.993633724621373 and parameters: {'learning_rate': 0.25813266366887877, 'depth': 8, 'l2_leaf_reg': 0.5669754170374247, 'random_strength': 3.567243226629409e-08, 'bagging_temperature': 5.380762244587944, 'min_data_in_leaf': 29, 'leaf_estimation_iterations': 16, 'rsm': 0.10764737243056136}. Best is trial 23 with value: 0.9958754942182485.\n"
     ]
    },
    {
     "name": "stdout",
     "output_type": "stream",
     "text": [
      "Trial 39: AUC = 0.9936\n"
     ]
    },
    {
     "name": "stderr",
     "output_type": "stream",
     "text": [
      "[I 2025-05-26 07:53:39,478] Trial 40 finished with value: 0.9949078553883471 and parameters: {'learning_rate': 0.03268205472663081, 'depth': 9, 'l2_leaf_reg': 0.08268172154278453, 'random_strength': 1.185775536847763e-06, 'bagging_temperature': 9.134546114501434, 'min_data_in_leaf': 12, 'leaf_estimation_iterations': 3, 'rsm': 0.37978490087347155}. Best is trial 23 with value: 0.9958754942182485.\n"
     ]
    },
    {
     "name": "stdout",
     "output_type": "stream",
     "text": [
      "Trial 40: AUC = 0.9949\n"
     ]
    },
    {
     "name": "stderr",
     "output_type": "stream",
     "text": [
      "[I 2025-05-26 07:53:43,936] Trial 41 finished with value: 0.9955383530874684 and parameters: {'learning_rate': 0.04315053706278061, 'depth': 9, 'l2_leaf_reg': 5.3783550663463595, 'random_strength': 1.2386048823035238e-08, 'bagging_temperature': 3.801160205446183, 'min_data_in_leaf': 68, 'leaf_estimation_iterations': 8, 'rsm': 0.2852350142890779}. Best is trial 23 with value: 0.9958754942182485.\n"
     ]
    },
    {
     "name": "stdout",
     "output_type": "stream",
     "text": [
      "Trial 41: AUC = 0.9955\n"
     ]
    },
    {
     "name": "stderr",
     "output_type": "stream",
     "text": [
      "[I 2025-05-26 07:53:48,258] Trial 42 finished with value: 0.9949779106882495 and parameters: {'learning_rate': 0.037565810618099535, 'depth': 9, 'l2_leaf_reg': 2.1835609945642327, 'random_strength': 2.43709961202997e-07, 'bagging_temperature': 4.166642782760759, 'min_data_in_leaf': 50, 'leaf_estimation_iterations': 10, 'rsm': 0.2307905365880758}. Best is trial 23 with value: 0.9958754942182485.\n"
     ]
    },
    {
     "name": "stdout",
     "output_type": "stream",
     "text": [
      "Trial 42: AUC = 0.9950\n"
     ]
    },
    {
     "name": "stderr",
     "output_type": "stream",
     "text": [
      "[I 2025-05-26 07:53:51,243] Trial 43 finished with value: 0.9945663358013231 and parameters: {'learning_rate': 0.04989693846344525, 'depth': 10, 'l2_leaf_reg': 3.4123530664208466, 'random_strength': 3.126086372181638e-08, 'bagging_temperature': 6.3209704963183615, 'min_data_in_leaf': 59, 'leaf_estimation_iterations': 6, 'rsm': 0.43976224309507184}. Best is trial 23 with value: 0.9958754942182485.\n"
     ]
    },
    {
     "name": "stdout",
     "output_type": "stream",
     "text": [
      "Trial 43: AUC = 0.9946\n"
     ]
    },
    {
     "name": "stderr",
     "output_type": "stream",
     "text": [
      "[I 2025-05-26 07:53:52,619] Trial 44 finished with value: 0.9944919020451769 and parameters: {'learning_rate': 0.058366091985317906, 'depth': 8, 'l2_leaf_reg': 0.9885322812566899, 'random_strength': 5.781148521840121e-07, 'bagging_temperature': 4.6295829229518555, 'min_data_in_leaf': 16, 'leaf_estimation_iterations': 9, 'rsm': 0.35417975463412477}. Best is trial 23 with value: 0.9958754942182485.\n"
     ]
    },
    {
     "name": "stdout",
     "output_type": "stream",
     "text": [
      "Trial 44: AUC = 0.9945\n"
     ]
    },
    {
     "name": "stderr",
     "output_type": "stream",
     "text": [
      "[I 2025-05-26 07:53:55,898] Trial 45 finished with value: 0.9951442920255176 and parameters: {'learning_rate': 0.0315566901042353, 'depth': 9, 'l2_leaf_reg': 9.08472605675873, 'random_strength': 1.0880682483728251e-07, 'bagging_temperature': 6.878981732260913, 'min_data_in_leaf': 73, 'leaf_estimation_iterations': 8, 'rsm': 0.15637066503585817}. Best is trial 23 with value: 0.9958754942182485.\n"
     ]
    },
    {
     "name": "stdout",
     "output_type": "stream",
     "text": [
      "Trial 45: AUC = 0.9951\n"
     ]
    },
    {
     "name": "stderr",
     "output_type": "stream",
     "text": [
      "[I 2025-05-26 07:53:56,426] Trial 46 finished with value: 0.9925128398229353 and parameters: {'learning_rate': 0.10705014455923118, 'depth': 8, 'l2_leaf_reg': 2.8989709620946985e-05, 'random_strength': 1.3029469642960857e-05, 'bagging_temperature': 2.49011788020988, 'min_data_in_leaf': 44, 'leaf_estimation_iterations': 7, 'rsm': 0.5526898043499677}. Best is trial 23 with value: 0.9958754942182485.\n"
     ]
    },
    {
     "name": "stdout",
     "output_type": "stream",
     "text": [
      "Trial 46: AUC = 0.9925\n"
     ]
    },
    {
     "name": "stderr",
     "output_type": "stream",
     "text": [
      "[I 2025-05-26 07:53:59,881] Trial 47 finished with value: 0.9937475644837144 and parameters: {'learning_rate': 0.0207953292668132, 'depth': 10, 'l2_leaf_reg': 0.25114597758709695, 'random_strength': 3.6259381474552544e-08, 'bagging_temperature': 4.923046064042987, 'min_data_in_leaf': 63, 'leaf_estimation_iterations': 11, 'rsm': 0.733659188825962}. Best is trial 23 with value: 0.9958754942182485.\n"
     ]
    },
    {
     "name": "stdout",
     "output_type": "stream",
     "text": [
      "Trial 47: AUC = 0.9937\n"
     ]
    },
    {
     "name": "stderr",
     "output_type": "stream",
     "text": [
      "[I 2025-05-26 07:54:00,494] Trial 48 finished with value: 0.9910022724187906 and parameters: {'learning_rate': 0.06374328156441889, 'depth': 7, 'l2_leaf_reg': 3.207366240920603e-08, 'random_strength': 2.9483206301392834e-06, 'bagging_temperature': 5.464141767947807, 'min_data_in_leaf': 53, 'leaf_estimation_iterations': 13, 'rsm': 0.22068177284736828}. Best is trial 23 with value: 0.9958754942182485.\n"
     ]
    },
    {
     "name": "stdout",
     "output_type": "stream",
     "text": [
      "Trial 48: AUC = 0.9910\n"
     ]
    },
    {
     "name": "stderr",
     "output_type": "stream",
     "text": [
      "[I 2025-05-26 07:54:02,591] Trial 49 finished with value: 0.994702067944884 and parameters: {'learning_rate': 0.08201374110112639, 'depth': 10, 'l2_leaf_reg': 3.617841923237515, 'random_strength': 1.3560007005461725, 'bagging_temperature': 6.1547420560056825, 'min_data_in_leaf': 5, 'leaf_estimation_iterations': 9, 'rsm': 0.2921049414535771}. Best is trial 23 with value: 0.9958754942182485.\n"
     ]
    },
    {
     "name": "stdout",
     "output_type": "stream",
     "text": [
      "Trial 49: AUC = 0.9947\n"
     ]
    },
    {
     "name": "stderr",
     "output_type": "stream",
     "text": [
      "[I 2025-05-26 07:54:06,193] Trial 50 finished with value: 0.9955077038937611 and parameters: {'learning_rate': 0.045732837392244124, 'depth': 9, 'l2_leaf_reg': 1.5445134856122689, 'random_strength': 1.0562940677259729e-08, 'bagging_temperature': 6.969248986466224, 'min_data_in_leaf': 24, 'leaf_estimation_iterations': 4, 'rsm': 0.4478201146789712}. Best is trial 23 with value: 0.9958754942182485.\n"
     ]
    },
    {
     "name": "stdout",
     "output_type": "stream",
     "text": [
      "Trial 50: AUC = 0.9955\n"
     ]
    },
    {
     "name": "stderr",
     "output_type": "stream",
     "text": [
      "[I 2025-05-26 07:54:10,819] Trial 51 finished with value: 0.9952887810815663 and parameters: {'learning_rate': 0.039712873542600835, 'depth': 9, 'l2_leaf_reg': 4.7310336856362225, 'random_strength': 2.0684028353345363e-08, 'bagging_temperature': 3.2789689381603604, 'min_data_in_leaf': 66, 'leaf_estimation_iterations': 8, 'rsm': 0.26350240251400353}. Best is trial 23 with value: 0.9958754942182485.\n"
     ]
    },
    {
     "name": "stdout",
     "output_type": "stream",
     "text": [
      "Trial 51: AUC = 0.9953\n"
     ]
    },
    {
     "name": "stderr",
     "output_type": "stream",
     "text": [
      "[I 2025-05-26 07:54:13,531] Trial 52 finished with value: 0.9942904930579576 and parameters: {'learning_rate': 0.04335352740991957, 'depth': 9, 'l2_leaf_reg': 0.39921971501984876, 'random_strength': 1.2068028418426068e-07, 'bagging_temperature': 3.6780921096962578, 'min_data_in_leaf': 70, 'leaf_estimation_iterations': 8, 'rsm': 0.28465410064972463}. Best is trial 23 with value: 0.9958754942182485.\n"
     ]
    },
    {
     "name": "stdout",
     "output_type": "stream",
     "text": [
      "Trial 52: AUC = 0.9943\n"
     ]
    },
    {
     "name": "stderr",
     "output_type": "stream",
     "text": [
      "[I 2025-05-26 07:54:15,469] Trial 53 finished with value: 0.9960024694493215 and parameters: {'learning_rate': 0.12457174609582199, 'depth': 9, 'l2_leaf_reg': 5.0776469081926665, 'random_strength': 1.0156318345612647e-08, 'bagging_temperature': 4.350757406250324, 'min_data_in_leaf': 77, 'leaf_estimation_iterations': 7, 'rsm': 0.16985510978515728}. Best is trial 53 with value: 0.9960024694493215.\n"
     ]
    },
    {
     "name": "stdout",
     "output_type": "stream",
     "text": [
      "Trial 53: AUC = 0.9960\n"
     ]
    },
    {
     "name": "stderr",
     "output_type": "stream",
     "text": [
      "[I 2025-05-26 07:54:16,453] Trial 54 finished with value: 0.9948027724384937 and parameters: {'learning_rate': 0.12265006797727104, 'depth': 8, 'l2_leaf_reg': 3.194303817621687, 'random_strength': 2.3921186409282495e-08, 'bagging_temperature': 4.3499184933162, 'min_data_in_leaf': 82, 'leaf_estimation_iterations': 6, 'rsm': 0.14183924608949455}. Best is trial 53 with value: 0.9960024694493215.\n"
     ]
    },
    {
     "name": "stdout",
     "output_type": "stream",
     "text": [
      "Trial 54: AUC = 0.9948\n"
     ]
    },
    {
     "name": "stderr",
     "output_type": "stream",
     "text": [
      "[I 2025-05-26 07:54:18,711] Trial 55 finished with value: 0.995595273018639 and parameters: {'learning_rate': 0.09595698024037733, 'depth': 10, 'l2_leaf_reg': 9.90535908225243, 'random_strength': 2.818860514624312e-07, 'bagging_temperature': 4.989810611935447, 'min_data_in_leaf': 95, 'leaf_estimation_iterations': 10, 'rsm': 0.1967033782072307}. Best is trial 53 with value: 0.9960024694493215.\n"
     ]
    },
    {
     "name": "stdout",
     "output_type": "stream",
     "text": [
      "Trial 55: AUC = 0.9956\n"
     ]
    },
    {
     "name": "stderr",
     "output_type": "stream",
     "text": [
      "[I 2025-05-26 07:54:19,666] Trial 56 finished with value: 0.9904637223007913 and parameters: {'learning_rate': 0.0943913543301541, 'depth': 10, 'l2_leaf_reg': 2.651873892065677e-06, 'random_strength': 4.150861882996377e-07, 'bagging_temperature': 1.0150176865302662, 'min_data_in_leaf': 92, 'leaf_estimation_iterations': 11, 'rsm': 0.1765218921882613}. Best is trial 53 with value: 0.9960024694493215.\n"
     ]
    },
    {
     "name": "stdout",
     "output_type": "stream",
     "text": [
      "Trial 56: AUC = 0.9905\n"
     ]
    },
    {
     "name": "stderr",
     "output_type": "stream",
     "text": [
      "[I 2025-05-26 07:54:20,671] Trial 57 finished with value: 0.9944743882202014 and parameters: {'learning_rate': 0.1517885227321959, 'depth': 10, 'l2_leaf_reg': 0.5556242273361323, 'random_strength': 1.8865391622874112e-06, 'bagging_temperature': 4.952643484111682, 'min_data_in_leaf': 99, 'leaf_estimation_iterations': 7, 'rsm': 0.13526627817221976}. Best is trial 53 with value: 0.9960024694493215.\n"
     ]
    },
    {
     "name": "stdout",
     "output_type": "stream",
     "text": [
      "Trial 57: AUC = 0.9945\n"
     ]
    },
    {
     "name": "stderr",
     "output_type": "stream",
     "text": [
      "[I 2025-05-26 07:54:23,974] Trial 58 finished with value: 0.994448117482738 and parameters: {'learning_rate': 0.07519255453459955, 'depth': 10, 'l2_leaf_reg': 9.893484631513543, 'random_strength': 1.0494773895480736e-06, 'bagging_temperature': 6.6048655875447055, 'min_data_in_leaf': 85, 'leaf_estimation_iterations': 10, 'rsm': 0.8736676665158795}. Best is trial 53 with value: 0.9960024694493215.\n"
     ]
    },
    {
     "name": "stdout",
     "output_type": "stream",
     "text": [
      "Trial 58: AUC = 0.9944\n"
     ]
    },
    {
     "name": "stderr",
     "output_type": "stream",
     "text": [
      "[I 2025-05-26 07:54:25,516] Trial 59 finished with value: 0.995126778200542 and parameters: {'learning_rate': 0.17250161849978118, 'depth': 8, 'l2_leaf_reg': 1.5751615520935414, 'random_strength': 2.1271353818105144e-07, 'bagging_temperature': 7.422184597348366, 'min_data_in_leaf': 78, 'leaf_estimation_iterations': 11, 'rsm': 0.2035058174142631}. Best is trial 53 with value: 0.9960024694493215.\n"
     ]
    },
    {
     "name": "stdout",
     "output_type": "stream",
     "text": [
      "Trial 59: AUC = 0.9951\n"
     ]
    },
    {
     "name": "stderr",
     "output_type": "stream",
     "text": [
      "[I 2025-05-26 07:54:27,544] Trial 60 finished with value: 0.9946407695574693 and parameters: {'learning_rate': 0.12785969895816882, 'depth': 9, 'l2_leaf_reg': 0.11725639708539913, 'random_strength': 8.11056315566054e-08, 'bagging_temperature': 7.776659579583185, 'min_data_in_leaf': 96, 'leaf_estimation_iterations': 5, 'rsm': 0.2436453761667479}. Best is trial 53 with value: 0.9960024694493215.\n"
     ]
    },
    {
     "name": "stdout",
     "output_type": "stream",
     "text": [
      "Trial 60: AUC = 0.9946\n"
     ]
    },
    {
     "name": "stderr",
     "output_type": "stream",
     "text": [
      "[I 2025-05-26 07:54:29,550] Trial 61 finished with value: 0.9950085598819569 and parameters: {'learning_rate': 0.09553003719850604, 'depth': 9, 'l2_leaf_reg': 5.281542727385149, 'random_strength': 1.9716432637529206e-08, 'bagging_temperature': 3.8791152427297177, 'min_data_in_leaf': 86, 'leaf_estimation_iterations': 9, 'rsm': 0.1818352348301906}. Best is trial 53 with value: 0.9960024694493215.\n"
     ]
    },
    {
     "name": "stdout",
     "output_type": "stream",
     "text": [
      "Trial 61: AUC = 0.9950\n"
     ]
    },
    {
     "name": "stderr",
     "output_type": "stream",
     "text": [
      "[I 2025-05-26 07:54:34,263] Trial 62 finished with value: 0.9945926065387866 and parameters: {'learning_rate': 0.028544591402186025, 'depth': 9, 'l2_leaf_reg': 1.337015598292628, 'random_strength': 6.651334488206738e-08, 'bagging_temperature': 5.250118315104422, 'min_data_in_leaf': 60, 'leaf_estimation_iterations': 10, 'rsm': 0.34409990727983064}. Best is trial 53 with value: 0.9960024694493215.\n"
     ]
    },
    {
     "name": "stdout",
     "output_type": "stream",
     "text": [
      "Trial 62: AUC = 0.9946\n"
     ]
    },
    {
     "name": "stderr",
     "output_type": "stream",
     "text": [
      "[I 2025-05-26 07:54:37,908] Trial 63 finished with value: 0.9953194302752736 and parameters: {'learning_rate': 0.0627860140183506, 'depth': 10, 'l2_leaf_reg': 4.692951925237943, 'random_strength': 3.7262732237203127e-07, 'bagging_temperature': 4.378668380429138, 'min_data_in_leaf': 78, 'leaf_estimation_iterations': 7, 'rsm': 0.24710116658469305}. Best is trial 53 with value: 0.9960024694493215.\n"
     ]
    },
    {
     "name": "stdout",
     "output_type": "stream",
     "text": [
      "Trial 63: AUC = 0.9953\n"
     ]
    },
    {
     "name": "stderr",
     "output_type": "stream",
     "text": [
      "[I 2025-05-26 07:54:39,552] Trial 64 finished with value: 0.9947283386823473 and parameters: {'learning_rate': 0.08839419245028024, 'depth': 9, 'l2_leaf_reg': 3.1447401690485224, 'random_strength': 1.2811076263744921e-07, 'bagging_temperature': 4.721130810860449, 'min_data_in_leaf': 47, 'leaf_estimation_iterations': 8, 'rsm': 0.21135278660818213}. Best is trial 53 with value: 0.9960024694493215.\n"
     ]
    },
    {
     "name": "stdout",
     "output_type": "stream",
     "text": [
      "Trial 64: AUC = 0.9947\n"
     ]
    },
    {
     "name": "stderr",
     "output_type": "stream",
     "text": [
      "[I 2025-05-26 07:54:40,989] Trial 65 finished with value: 0.9935286416715194 and parameters: {'learning_rate': 0.10522778515945666, 'depth': 8, 'l2_leaf_reg': 0.00031287941966376637, 'random_strength': 5.1918290278012573e-08, 'bagging_temperature': 5.777783144845436, 'min_data_in_leaf': 92, 'leaf_estimation_iterations': 13, 'rsm': 0.3136171212868171}. Best is trial 53 with value: 0.9960024694493215.\n"
     ]
    },
    {
     "name": "stdout",
     "output_type": "stream",
     "text": [
      "Trial 65: AUC = 0.9935\n"
     ]
    },
    {
     "name": "stderr",
     "output_type": "stream",
     "text": [
      "[I 2025-05-26 07:54:42,371] Trial 66 finished with value: 0.9933622603342513 and parameters: {'learning_rate': 0.054579141481226626, 'depth': 5, 'l2_leaf_reg': 0.8804934211997297, 'random_strength': 9.067856782387753e-06, 'bagging_temperature': 6.597723248466651, 'min_data_in_leaf': 12, 'leaf_estimation_iterations': 9, 'rsm': 0.12509119420242243}. Best is trial 53 with value: 0.9960024694493215.\n"
     ]
    },
    {
     "name": "stdout",
     "output_type": "stream",
     "text": [
      "Trial 66: AUC = 0.9934\n"
     ]
    },
    {
     "name": "stderr",
     "output_type": "stream",
     "text": [
      "[I 2025-05-26 07:54:47,832] Trial 67 finished with value: 0.9953632148377125 and parameters: {'learning_rate': 0.07416330669581381, 'depth': 9, 'l2_leaf_reg': 9.831947714752427, 'random_strength': 0.0006308361449442445, 'bagging_temperature': 8.1221124135066, 'min_data_in_leaf': 1, 'leaf_estimation_iterations': 6, 'rsm': 0.63911326068863}. Best is trial 53 with value: 0.9960024694493215.\n"
     ]
    },
    {
     "name": "stdout",
     "output_type": "stream",
     "text": [
      "Trial 67: AUC = 0.9954\n"
     ]
    },
    {
     "name": "stderr",
     "output_type": "stream",
     "text": [
      "[I 2025-05-26 07:54:49,485] Trial 68 finished with value: 0.9955865161061512 and parameters: {'learning_rate': 0.11488190524767725, 'depth': 8, 'l2_leaf_reg': 2.420700819985959, 'random_strength': 2.5845942424344815e-05, 'bagging_temperature': 2.9483063395567757, 'min_data_in_leaf': 56, 'leaf_estimation_iterations': 7, 'rsm': 0.1616845979128509}. Best is trial 53 with value: 0.9960024694493215.\n"
     ]
    },
    {
     "name": "stdout",
     "output_type": "stream",
     "text": [
      "Trial 68: AUC = 0.9956\n"
     ]
    },
    {
     "name": "stderr",
     "output_type": "stream",
     "text": [
      "[I 2025-05-26 07:54:50,177] Trial 69 finished with value: 0.9946757972074207 and parameters: {'learning_rate': 0.1203296652785551, 'depth': 6, 'l2_leaf_reg': 2.6661630632034172, 'random_strength': 3.161329683760833e-05, 'bagging_temperature': 2.559193615048917, 'min_data_in_leaf': 33, 'leaf_estimation_iterations': 5, 'rsm': 0.18064985668376107}. Best is trial 53 with value: 0.9960024694493215.\n"
     ]
    },
    {
     "name": "stdout",
     "output_type": "stream",
     "text": [
      "Trial 69: AUC = 0.9947\n"
     ]
    },
    {
     "name": "stderr",
     "output_type": "stream",
     "text": [
      "[I 2025-05-26 07:54:51,180] Trial 70 finished with value: 0.9937869705899094 and parameters: {'learning_rate': 0.15414300693438754, 'depth': 7, 'l2_leaf_reg': 0.3463090033669273, 'random_strength': 0.00010022540669776865, 'bagging_temperature': 5.573670457814411, 'min_data_in_leaf': 5, 'leaf_estimation_iterations': 12, 'rsm': 0.1606246704623667}. Best is trial 53 with value: 0.9960024694493215.\n"
     ]
    },
    {
     "name": "stdout",
     "output_type": "stream",
     "text": [
      "Trial 70: AUC = 0.9938\n"
     ]
    },
    {
     "name": "stderr",
     "output_type": "stream",
     "text": [
      "[I 2025-05-26 07:54:52,884] Trial 71 finished with value: 0.9954945685250295 and parameters: {'learning_rate': 0.11356573407103623, 'depth': 8, 'l2_leaf_reg': 5.095199124770925, 'random_strength': 2.1398845139038665e-05, 'bagging_temperature': 1.1059585921769677, 'min_data_in_leaf': 55, 'leaf_estimation_iterations': 7, 'rsm': 0.20767579579660356}. Best is trial 53 with value: 0.9960024694493215.\n"
     ]
    },
    {
     "name": "stdout",
     "output_type": "stream",
     "text": [
      "Trial 71: AUC = 0.9955\n"
     ]
    },
    {
     "name": "stderr",
     "output_type": "stream",
     "text": [
      "[I 2025-05-26 07:54:55,620] Trial 72 finished with value: 0.9942948715142015 and parameters: {'learning_rate': 0.08897791880698523, 'depth': 9, 'l2_leaf_reg': 2.0887584619394324, 'random_strength': 4.371682190459242e-06, 'bagging_temperature': 1.6424464013145053, 'min_data_in_leaf': 63, 'leaf_estimation_iterations': 10, 'rsm': 0.2521725747969336}. Best is trial 53 with value: 0.9960024694493215.\n"
     ]
    },
    {
     "name": "stdout",
     "output_type": "stream",
     "text": [
      "Trial 72: AUC = 0.9943\n"
     ]
    },
    {
     "name": "stderr",
     "output_type": "stream",
     "text": [
      "[I 2025-05-26 07:54:56,569] Trial 73 finished with value: 0.9940890840707383 and parameters: {'learning_rate': 0.2283103305578487, 'depth': 8, 'l2_leaf_reg': 6.503859837711382, 'random_strength': 6.591828456993092e-07, 'bagging_temperature': 3.4061751334812653, 'min_data_in_leaf': 57, 'leaf_estimation_iterations': 8, 'rsm': 0.10178464011396747}. Best is trial 53 with value: 0.9960024694493215.\n"
     ]
    },
    {
     "name": "stdout",
     "output_type": "stream",
     "text": [
      "Trial 73: AUC = 0.9941\n"
     ]
    },
    {
     "name": "stderr",
     "output_type": "stream",
     "text": [
      "[I 2025-05-26 07:54:57,150] Trial 74 finished with value: 0.9948815846508838 and parameters: {'learning_rate': 0.13122780304387405, 'depth': 10, 'l2_leaf_reg': 0.5456826577254072, 'random_strength': 0.0002535650690482281, 'bagging_temperature': 2.9030973308331416, 'min_data_in_leaf': 72, 'leaf_estimation_iterations': 9, 'rsm': 0.16042531574922303}. Best is trial 53 with value: 0.9960024694493215.\n"
     ]
    },
    {
     "name": "stdout",
     "output_type": "stream",
     "text": [
      "Trial 74: AUC = 0.9949\n"
     ]
    },
    {
     "name": "stderr",
     "output_type": "stream",
     "text": [
      "[I 2025-05-26 07:54:59,127] Trial 75 finished with value: 0.994443739026494 and parameters: {'learning_rate': 0.10045507326004659, 'depth': 9, 'l2_leaf_reg': 1.6791490245185046, 'random_strength': 6.166989715304666e-05, 'bagging_temperature': 4.077634566247409, 'min_data_in_leaf': 10, 'leaf_estimation_iterations': 7, 'rsm': 0.22955658114794186}. Best is trial 53 with value: 0.9960024694493215.\n"
     ]
    },
    {
     "name": "stdout",
     "output_type": "stream",
     "text": [
      "Trial 75: AUC = 0.9944\n"
     ]
    },
    {
     "name": "stderr",
     "output_type": "stream",
     "text": [
      "[I 2025-05-26 07:55:01,782] Trial 76 finished with value: 0.9927755471975692 and parameters: {'learning_rate': 0.012687237947375281, 'depth': 8, 'l2_leaf_reg': 0.012607717282093983, 'random_strength': 2.035682585788665e-08, 'bagging_temperature': 7.318102288155537, 'min_data_in_leaf': 45, 'leaf_estimation_iterations': 4, 'rsm': 0.3650329024960005}. Best is trial 53 with value: 0.9960024694493215.\n"
     ]
    },
    {
     "name": "stdout",
     "output_type": "stream",
     "text": [
      "Trial 76: AUC = 0.9928\n"
     ]
    },
    {
     "name": "stderr",
     "output_type": "stream",
     "text": [
      "[I 2025-05-26 07:55:03,522] Trial 77 finished with value: 0.9943736837265916 and parameters: {'learning_rate': 0.0782243196898803, 'depth': 7, 'l2_leaf_reg': 1.0279984804309428, 'random_strength': 6.938387007807596e-06, 'bagging_temperature': 6.211080230480801, 'min_data_in_leaf': 40, 'leaf_estimation_iterations': 9, 'rsm': 0.3284203155148956}. Best is trial 53 with value: 0.9960024694493215.\n"
     ]
    },
    {
     "name": "stdout",
     "output_type": "stream",
     "text": [
      "Trial 77: AUC = 0.9944\n"
     ]
    },
    {
     "name": "stderr",
     "output_type": "stream",
     "text": [
      "[I 2025-05-26 07:55:04,736] Trial 78 finished with value: 0.9931871220844954 and parameters: {'learning_rate': 0.061048302805272826, 'depth': 9, 'l2_leaf_reg': 7.044966036813745, 'random_strength': 1.891373320599087e-06, 'bagging_temperature': 6.76300924537345, 'min_data_in_leaf': 19, 'leaf_estimation_iterations': 6, 'rsm': 0.12898778788150722}. Best is trial 53 with value: 0.9960024694493215.\n"
     ]
    },
    {
     "name": "stdout",
     "output_type": "stream",
     "text": [
      "Trial 78: AUC = 0.9932\n"
     ]
    },
    {
     "name": "stderr",
     "output_type": "stream",
     "text": [
      "[I 2025-05-26 07:55:09,071] Trial 79 finished with value: 0.9954989469812733 and parameters: {'learning_rate': 0.05184935405903301, 'depth': 9, 'l2_leaf_reg': 2.8885973212142853, 'random_strength': 2.403227267775684e-07, 'bagging_temperature': 4.568365349698745, 'min_data_in_leaf': 52, 'leaf_estimation_iterations': 8, 'rsm': 0.4058896189581579}. Best is trial 53 with value: 0.9960024694493215.\n"
     ]
    },
    {
     "name": "stdout",
     "output_type": "stream",
     "text": [
      "Trial 79: AUC = 0.9955\n"
     ]
    },
    {
     "name": "stderr",
     "output_type": "stream",
     "text": [
      "[I 2025-05-26 07:55:11,012] Trial 80 finished with value: 0.9947633663322986 and parameters: {'learning_rate': 0.07101980380638317, 'depth': 10, 'l2_leaf_reg': 5.7427183272951545, 'random_strength': 1.4470558163784435e-08, 'bagging_temperature': 7.126733371817126, 'min_data_in_leaf': 25, 'leaf_estimation_iterations': 10, 'rsm': 0.27625711827083477}. Best is trial 53 with value: 0.9960024694493215.\n"
     ]
    },
    {
     "name": "stdout",
     "output_type": "stream",
     "text": [
      "Trial 80: AUC = 0.9948\n"
     ]
    },
    {
     "name": "stderr",
     "output_type": "stream",
     "text": [
      "[I 2025-05-26 07:55:16,104] Trial 81 finished with value: 0.9953325656440053 and parameters: {'learning_rate': 0.03511306671946914, 'depth': 9, 'l2_leaf_reg': 5.862849756282185, 'random_strength': 3.5519332909818135e-08, 'bagging_temperature': 3.135614746602176, 'min_data_in_leaf': 67, 'leaf_estimation_iterations': 8, 'rsm': 0.3044327024763511}. Best is trial 53 with value: 0.9960024694493215.\n"
     ]
    },
    {
     "name": "stdout",
     "output_type": "stream",
     "text": [
      "Trial 81: AUC = 0.9953\n"
     ]
    },
    {
     "name": "stderr",
     "output_type": "stream",
     "text": [
      "[I 2025-05-26 07:55:18,177] Trial 82 finished with value: 0.9951968335004444 and parameters: {'learning_rate': 0.04318193424570355, 'depth': 8, 'l2_leaf_reg': 9.794560807249892, 'random_strength': 1.4427333039047252e-08, 'bagging_temperature': 3.688514793698863, 'min_data_in_leaf': 71, 'leaf_estimation_iterations': 7, 'rsm': 0.20031616385487908}. Best is trial 53 with value: 0.9960024694493215.\n"
     ]
    },
    {
     "name": "stdout",
     "output_type": "stream",
     "text": [
      "Trial 82: AUC = 0.9952\n"
     ]
    },
    {
     "name": "stderr",
     "output_type": "stream",
     "text": [
      "[I 2025-05-26 07:55:21,180] Trial 83 finished with value: 0.9949428830382983 and parameters: {'learning_rate': 0.04851584113879871, 'depth': 9, 'l2_leaf_reg': 3.591715370363198, 'random_strength': 7.291525295321646e-08, 'bagging_temperature': 3.7768853996622522, 'min_data_in_leaf': 63, 'leaf_estimation_iterations': 8, 'rsm': 0.27102210364075685}. Best is trial 53 with value: 0.9960024694493215.\n"
     ]
    },
    {
     "name": "stdout",
     "output_type": "stream",
     "text": [
      "Trial 83: AUC = 0.9949\n"
     ]
    },
    {
     "name": "stderr",
     "output_type": "stream",
     "text": [
      "[I 2025-05-26 07:55:25,107] Trial 84 finished with value: 0.994872827738396 and parameters: {'learning_rate': 0.03880670389682967, 'depth': 9, 'l2_leaf_reg': 2.049429779837577, 'random_strength': 1.0800165483930247e-08, 'bagging_temperature': 2.6733428683321288, 'min_data_in_leaf': 75, 'leaf_estimation_iterations': 11, 'rsm': 0.2965883551315281}. Best is trial 53 with value: 0.9960024694493215.\n"
     ]
    },
    {
     "name": "stdout",
     "output_type": "stream",
     "text": [
      "Trial 84: AUC = 0.9949\n"
     ]
    },
    {
     "name": "stderr",
     "output_type": "stream",
     "text": [
      "[I 2025-05-26 07:55:26,043] Trial 85 finished with value: 0.9939445950146897 and parameters: {'learning_rate': 0.10924517043183168, 'depth': 9, 'l2_leaf_reg': 1.186983831187499, 'random_strength': 4.133409994581986e-08, 'bagging_temperature': 5.0270681928689465, 'min_data_in_leaf': 57, 'leaf_estimation_iterations': 9, 'rsm': 0.2232658909947687}. Best is trial 53 with value: 0.9960024694493215.\n"
     ]
    },
    {
     "name": "stdout",
     "output_type": "stream",
     "text": [
      "Trial 85: AUC = 0.9939\n"
     ]
    },
    {
     "name": "stderr",
     "output_type": "stream",
     "text": [
      "[I 2025-05-26 07:55:28,195] Trial 86 finished with value: 0.9940146503145921 and parameters: {'learning_rate': 0.029658794592129206, 'depth': 8, 'l2_leaf_reg': 0.7018523047392794, 'random_strength': 1.38416949030109e-07, 'bagging_temperature': 5.942082242255038, 'min_data_in_leaf': 69, 'leaf_estimation_iterations': 10, 'rsm': 0.17753283137696918}. Best is trial 53 with value: 0.9960024694493215.\n"
     ]
    },
    {
     "name": "stdout",
     "output_type": "stream",
     "text": [
      "Trial 86: AUC = 0.9940\n"
     ]
    },
    {
     "name": "stderr",
     "output_type": "stream",
     "text": [
      "[I 2025-05-26 07:55:31,276] Trial 87 finished with value: 0.994614498820006 and parameters: {'learning_rate': 0.03501220296555452, 'depth': 9, 'l2_leaf_reg': 3.996558444127144, 'random_strength': 3.129155611785411e-08, 'bagging_temperature': 2.321650040362824, 'min_data_in_leaf': 6, 'leaf_estimation_iterations': 6, 'rsm': 0.2558175149670652}. Best is trial 53 with value: 0.9960024694493215.\n"
     ]
    },
    {
     "name": "stdout",
     "output_type": "stream",
     "text": [
      "Trial 87: AUC = 0.9946\n"
     ]
    },
    {
     "name": "stderr",
     "output_type": "stream",
     "text": [
      "[I 2025-05-26 07:55:33,632] Trial 88 finished with value: 0.995170562762981 and parameters: {'learning_rate': 0.09870879975144967, 'depth': 10, 'l2_leaf_reg': 6.111834355426589, 'random_strength': 1.9412185479574684e-08, 'bagging_temperature': 8.518900088203697, 'min_data_in_leaf': 81, 'leaf_estimation_iterations': 7, 'rsm': 0.33126337695747105}. Best is trial 53 with value: 0.9960024694493215.\n"
     ]
    },
    {
     "name": "stdout",
     "output_type": "stream",
     "text": [
      "Trial 88: AUC = 0.9952\n"
     ]
    },
    {
     "name": "stderr",
     "output_type": "stream",
     "text": [
      "[I 2025-05-26 07:55:34,632] Trial 89 finished with value: 0.9939708657521531 and parameters: {'learning_rate': 0.14587008351207675, 'depth': 10, 'l2_leaf_reg': 0.20499457563171056, 'random_strength': 0.010680141907905966, 'bagging_temperature': 4.012344661177187, 'min_data_in_leaf': 50, 'leaf_estimation_iterations': 9, 'rsm': 0.14586174269427463}. Best is trial 53 with value: 0.9960024694493215.\n"
     ]
    },
    {
     "name": "stdout",
     "output_type": "stream",
     "text": [
      "Trial 89: AUC = 0.9940\n"
     ]
    },
    {
     "name": "stderr",
     "output_type": "stream",
     "text": [
      "[I 2025-05-26 07:55:35,868] Trial 90 finished with value: 0.9912299521434733 and parameters: {'learning_rate': 0.16748556246762147, 'depth': 8, 'l2_leaf_reg': 0.0010993641343473993, 'random_strength': 3.0368637654337777e-06, 'bagging_temperature': 3.5109306221405756, 'min_data_in_leaf': 54, 'leaf_estimation_iterations': 8, 'rsm': 0.37307012151084246}. Best is trial 53 with value: 0.9960024694493215.\n"
     ]
    },
    {
     "name": "stdout",
     "output_type": "stream",
     "text": [
      "Trial 90: AUC = 0.9912\n"
     ]
    },
    {
     "name": "stderr",
     "output_type": "stream",
     "text": [
      "[I 2025-05-26 07:55:39,521] Trial 91 finished with value: 0.9951749412192249 and parameters: {'learning_rate': 0.04648368694490436, 'depth': 9, 'l2_leaf_reg': 2.6055373637097374, 'random_strength': 9.799422389229415e-06, 'bagging_temperature': 9.074695144345625, 'min_data_in_leaf': 30, 'leaf_estimation_iterations': 6, 'rsm': 0.26749455870046185}. Best is trial 53 with value: 0.9960024694493215.\n"
     ]
    },
    {
     "name": "stdout",
     "output_type": "stream",
     "text": [
      "Trial 91: AUC = 0.9952\n"
     ]
    },
    {
     "name": "stderr",
     "output_type": "stream",
     "text": [
      "[I 2025-05-26 07:55:41,628] Trial 92 finished with value: 0.9955033254375172 and parameters: {'learning_rate': 0.06628555043291118, 'depth': 9, 'l2_leaf_reg': 4.289138241072929, 'random_strength': 2.192000654630905e-06, 'bagging_temperature': 8.099685365972729, 'min_data_in_leaf': 15, 'leaf_estimation_iterations': 7, 'rsm': 0.19161992847866388}. Best is trial 53 with value: 0.9960024694493215.\n"
     ]
    },
    {
     "name": "stdout",
     "output_type": "stream",
     "text": [
      "Trial 92: AUC = 0.9955\n"
     ]
    },
    {
     "name": "stderr",
     "output_type": "stream",
     "text": [
      "[I 2025-05-26 07:55:44,777] Trial 93 finished with value: 0.9943036284266893 and parameters: {'learning_rate': 0.04084152284816821, 'depth': 4, 'l2_leaf_reg': 1.41236642906072, 'random_strength': 8.629608527593615e-07, 'bagging_temperature': 7.635820282541884, 'min_data_in_leaf': 64, 'leaf_estimation_iterations': 18, 'rsm': 0.2348461469122373}. Best is trial 53 with value: 0.9960024694493215.\n"
     ]
    },
    {
     "name": "stdout",
     "output_type": "stream",
     "text": [
      "Trial 93: AUC = 0.9943\n"
     ]
    },
    {
     "name": "stderr",
     "output_type": "stream",
     "text": [
      "[I 2025-05-26 07:55:47,277] Trial 94 finished with value: 0.9955427315437123 and parameters: {'learning_rate': 0.0551908714784697, 'depth': 9, 'l2_leaf_reg': 6.688564940037523, 'random_strength': 1.9198024301329552e-07, 'bagging_temperature': 7.978629098633951, 'min_data_in_leaf': 67, 'leaf_estimation_iterations': 6, 'rsm': 0.2850047020771562}. Best is trial 53 with value: 0.9960024694493215.\n"
     ]
    },
    {
     "name": "stdout",
     "output_type": "stream",
     "text": [
      "Trial 94: AUC = 0.9955\n"
     ]
    },
    {
     "name": "stderr",
     "output_type": "stream",
     "text": [
      "[I 2025-05-26 07:55:48,524] Trial 95 finished with value: 0.9929594423598129 and parameters: {'learning_rate': 0.05774639540228778, 'depth': 9, 'l2_leaf_reg': 2.732101365631072e-07, 'random_strength': 9.134545221630103e-08, 'bagging_temperature': 7.908120393449366, 'min_data_in_leaf': 61, 'leaf_estimation_iterations': 7, 'rsm': 0.28884099796870666}. Best is trial 53 with value: 0.9960024694493215.\n"
     ]
    },
    {
     "name": "stdout",
     "output_type": "stream",
     "text": [
      "Trial 95: AUC = 0.9930\n"
     ]
    },
    {
     "name": "stderr",
     "output_type": "stream",
     "text": [
      "[I 2025-05-26 07:55:50,165] Trial 96 finished with value: 0.9953369441002491 and parameters: {'learning_rate': 0.08042175166708761, 'depth': 9, 'l2_leaf_reg': 9.950597937324977, 'random_strength': 1.0232664948802204e-08, 'bagging_temperature': 4.752194049979424, 'min_data_in_leaf': 68, 'leaf_estimation_iterations': 5, 'rsm': 0.12151061921585314}. Best is trial 53 with value: 0.9960024694493215.\n"
     ]
    },
    {
     "name": "stdout",
     "output_type": "stream",
     "text": [
      "Trial 96: AUC = 0.9953\n"
     ]
    },
    {
     "name": "stderr",
     "output_type": "stream",
     "text": [
      "[I 2025-05-26 07:55:53,612] Trial 97 finished with value: 0.9953281871877613 and parameters: {'learning_rate': 0.0889157929666895, 'depth': 9, 'l2_leaf_reg': 6.301387148368778, 'random_strength': 1.719105390702617e-07, 'bagging_temperature': 4.477385574797959, 'min_data_in_leaf': 58, 'leaf_estimation_iterations': 8, 'rsm': 0.2141607869568548}. Best is trial 53 with value: 0.9960024694493215.\n"
     ]
    },
    {
     "name": "stdout",
     "output_type": "stream",
     "text": [
      "Trial 97: AUC = 0.9953\n"
     ]
    },
    {
     "name": "stderr",
     "output_type": "stream",
     "text": [
      "[I 2025-05-26 07:55:55,614] Trial 98 finished with value: 0.9946451480137133 and parameters: {'learning_rate': 0.12198396958605903, 'depth': 10, 'l2_leaf_reg': 2.234031084837757, 'random_strength': 3.752252675207098e-07, 'bagging_temperature': 5.188990086641951, 'min_data_in_leaf': 61, 'leaf_estimation_iterations': 9, 'rsm': 0.3988107535709402}. Best is trial 53 with value: 0.9960024694493215.\n"
     ]
    },
    {
     "name": "stdout",
     "output_type": "stream",
     "text": [
      "Trial 98: AUC = 0.9946\n"
     ]
    },
    {
     "name": "stderr",
     "output_type": "stream",
     "text": [
      "[I 2025-05-26 07:55:58,853] Trial 99 finished with value: 0.9953062949065419 and parameters: {'learning_rate': 0.025899029910106487, 'depth': 8, 'l2_leaf_reg': 0.7350532382050197, 'random_strength': 5.8086271827197466e-08, 'bagging_temperature': 7.147885983077508, 'min_data_in_leaf': 77, 'leaf_estimation_iterations': 6, 'rsm': 0.16199817396783767}. Best is trial 53 with value: 0.9960024694493215.\n"
     ]
    },
    {
     "name": "stdout",
     "output_type": "stream",
     "text": [
      "Trial 99: AUC = 0.9953\n",
      "调参完成! 耗时: 239.02秒\n",
      "\n",
      "===== 最佳参数 (AUC) =====\n",
      "最佳AUC分数: 0.9960\n",
      "最佳参数组合:\n",
      "    learning_rate: 0.12457174609582199\n",
      "    depth: 9\n",
      "    l2_leaf_reg: 5.0776469081926665\n",
      "    random_strength: 1.0156318345612647e-08\n",
      "    bagging_temperature: 4.350757406250324\n",
      "    min_data_in_leaf: 77\n",
      "    leaf_estimation_iterations: 7\n",
      "    rsm: 0.16985510978515728\n",
      "\n",
      "===== 使用最佳参数训练最终CatBoost模型 =====\n",
      "0:\ttest: 0.7496946\tbest: 0.7496946 (0)\ttotal: 1.86ms\tremaining: 1.86s\n",
      "50:\ttest: 0.9897500\tbest: 0.9897500 (49)\ttotal: 167ms\tremaining: 3.1s\n",
      "100:\ttest: 0.9927361\tbest: 0.9927361 (100)\ttotal: 326ms\tremaining: 2.9s\n",
      "150:\ttest: 0.9939621\tbest: 0.9940015 (148)\ttotal: 457ms\tremaining: 2.57s\n",
      "200:\ttest: 0.9948378\tbest: 0.9950173 (180)\ttotal: 596ms\tremaining: 2.37s\n",
      "250:\ttest: 0.9953939\tbest: 0.9953939 (250)\ttotal: 754ms\tremaining: 2.25s\n",
      "300:\ttest: 0.9954508\tbest: 0.9955384 (276)\ttotal: 916ms\tremaining: 2.13s\n",
      "350:\ttest: 0.9955865\tbest: 0.9956215 (345)\ttotal: 1.08s\tremaining: 2.01s\n",
      "400:\ttest: 0.9956916\tbest: 0.9957398 (385)\ttotal: 1.23s\tremaining: 1.84s\n",
      "450:\ttest: 0.9958405\tbest: 0.9958405 (450)\ttotal: 1.42s\tremaining: 1.73s\n",
      "500:\ttest: 0.9958361\tbest: 0.9958711 (483)\ttotal: 1.59s\tremaining: 1.58s\n",
      "550:\ttest: 0.9959543\tbest: 0.9960025 (521)\ttotal: 1.74s\tremaining: 1.42s\n",
      "600:\ttest: 0.9959193\tbest: 0.9960025 (521)\ttotal: 1.88s\tremaining: 1.25s\n",
      "Stopped by overfitting detector  (100 iterations wait)\n",
      "\n",
      "bestTest = 0.9960024694\n",
      "bestIteration = 521\n",
      "\n",
      "Shrink model to first 522 iterations.\n",
      "最终模型训练完成! 总耗时: 2.02秒\n",
      "实际迭代次数: 522\n",
      "平均每迭代时间: 0.0039秒\n",
      "\n",
      "最佳模型已保存到: ./catboost/models/catboost_auc.cbm\n",
      "特征列表已保存到: ./catboost/models/catboost_selected_features.txt\n",
      "\n",
      "===== CatBoost 在验证集上的性能 =====\n",
      "AUC: 0.9960\n",
      "Weighted F1 Score: 0.9640\n",
      "F1 Score: 0.9722\n",
      "Accuracy: 0.9640\n",
      "\n",
      "===== CatBoost 在测试集上的性能 =====\n",
      "AUC: 0.9974\n",
      "Weighted F1 Score: 0.9790\n",
      "F1 Score: 0.9834\n",
      "Accuracy: 0.9790\n"
     ]
    },
    {
     "data": {
      "text/plain": [
       "<Figure size 1200x800 with 0 Axes>"
      ]
     },
     "metadata": {},
     "output_type": "display_data"
    },
    {
     "data": {
      "text/plain": [
       "<Figure size 1200x800 with 0 Axes>"
      ]
     },
     "metadata": {},
     "output_type": "display_data"
    }
   ],
   "source": [
    "# 设置CatBoost的输出目录\n",
    "plots_dir = f'{base_dir}/catboost/plots'\n",
    "models_dir = f'{base_dir}/catboost/models'\n",
    "results_dir = f'{base_dir}/catboost/results'\n",
    "\n",
    "# 定义CatBoost的AUC优化目标函数\n",
    "def objective_catboost_auc(trial):\n",
    "    \"\"\"遍式Optuna优化目标函数 - 使用验证集上的AUC作为评价指标\"\"\"\n",
    "    # 定义CatBoost参数搜索空间\n",
    "    params = {\n",
    "        'loss_function': 'Logloss',  # 二分类问题\n",
    "        'eval_metric': 'AUC',\n",
    "        'verbose': 0,\n",
    "        \n",
    "        # 核心参数\n",
    "        'learning_rate': trial.suggest_float('learning_rate', 0.01, 0.3, log=True),\n",
    "        'iterations': 2000,          # 使用早停\n",
    "        'depth': trial.suggest_int('depth', 4, 10),\n",
    "        \n",
    "        # 正则化参数\n",
    "        'l2_leaf_reg': trial.suggest_float('l2_leaf_reg', 1e-8, 10.0, log=True),\n",
    "        'random_strength': trial.suggest_float('random_strength', 1e-8, 10.0, log=True),\n",
    "        'bagging_temperature': trial.suggest_float('bagging_temperature', 0, 10.0),\n",
    "        \n",
    "        # 其他参数\n",
    "        'min_data_in_leaf': trial.suggest_int('min_data_in_leaf', 1, 100),\n",
    "        'leaf_estimation_iterations': trial.suggest_int('leaf_estimation_iterations', 1, 20),\n",
    "        'rsm': trial.suggest_float('rsm', 0.1, 1.0),  # 列采样比例\n",
    "        \n",
    "        # CPU特定参数\n",
    "        'task_type': 'CPU',\n",
    "        'thread_count': n_proc,  # 使用全局设置的线程数\n",
    "        \n",
    "        'random_seed': 42\n",
    "    }\n",
    "    \n",
    "    # 创建CatBoost模型\n",
    "    model = cb.CatBoostClassifier(**params)\n",
    "    \n",
    "    # 在训练集上训练模型，使用验证集进行早停\n",
    "    model.fit(\n",
    "        X_train_final, y_train,\n",
    "        eval_set=[(X_val_final, y_val)],\n",
    "        early_stopping_rounds=50,\n",
    "        verbose=False\n",
    "    )\n",
    "    \n",
    "    # 在验证集上预测\n",
    "    y_val_prob = model.predict_proba(X_val_final)[:, 1]\n",
    "    \n",
    "    # 计算AUC分数\n",
    "    auc_score = roc_auc_score(y_val, y_val_prob)\n",
    "    \n",
    "    # 打印当前试验的结果\n",
    "    print(f\"Trial {trial.number}: AUC = {auc_score:.4f}\")\n",
    "    \n",
    "    return auc_score\n",
    "\n",
    "# 创廟Optuna study对象 - 优化方向是最大化AUC\n",
    "print(\"\\n===== 开始CatBoost模型的Optuna调参过程 (AUC) =====\")\n",
    "catboost_study_auc = optuna.create_study(direction='maximize', study_name='catboost_auc_optimization')\n",
    "\n",
    "# 运行优化\n",
    "print(f\"开始运行 {n_trials_optuna} 次调参试验...\")\n",
    "start_time = time.time()\n",
    "catboost_study_auc.optimize(objective_catboost_auc, n_trials=n_trials_optuna)\n",
    "end_time = time.time()\n",
    "print(f\"调参完成! 耗时: {end_time - start_time:.2f}秒\")\n",
    "\n",
    "# 打印最佳参数和结果\n",
    "print(\"\\n===== 最佳参数 (AUC) =====\")\n",
    "print(f\"最佳AUC分数: {catboost_study_auc.best_value:.4f}\")\n",
    "print(\"最佳参数组合:\")\n",
    "for key, value in catboost_study_auc.best_params.items():\n",
    "    print(f\"    {key}: {value}\")\n",
    "\n",
    "# 可视化调参过程\n",
    "plt.figure(figsize=(12, 8))\n",
    "optuna.visualization.matplotlib.plot_optimization_history(catboost_study_auc)\n",
    "plt.title('CatBoost Optimization History - AUC')\n",
    "plt.tight_layout()\n",
    "plt.savefig(f'{plots_dir}/optuna_catboost_auc_history.png')\n",
    "plt.close()\n",
    "\n",
    "# 可视化超参数重要性\n",
    "plt.figure(figsize=(12, 8))\n",
    "optuna.visualization.matplotlib.plot_param_importances(catboost_study_auc)\n",
    "plt.tight_layout()\n",
    "plt.savefig(f'{plots_dir}/optuna_catboost_auc_param_importances.png')\n",
    "plt.close()\n",
    "\n",
    "# 使用最佳参数训练最终模型\n",
    "print(\"\\n===== 使用最佳参数训练最终CatBoost模型 =====\")\n",
    "best_params_catboost = catboost_study_auc.best_params.copy()\n",
    "best_params_catboost['loss_function'] = 'Logloss'\n",
    "best_params_catboost['eval_metric'] = 'AUC'\n",
    "best_params_catboost['random_seed'] = 42\n",
    "best_params_catboost['task_type'] = 'CPU'\n",
    "best_params_catboost['thread_count'] = n_proc\n",
    "\n",
    "final_catboost_model = cb.CatBoostClassifier(**best_params_catboost)\n",
    "\n",
    "# 记录训练时间和迭代次数\n",
    "start_time = time.time()\n",
    "final_catboost_model.fit(\n",
    "    X_train_final, y_train,\n",
    "    eval_set=[(X_val_final, y_val)],\n",
    "    early_stopping_rounds=100,\n",
    "    verbose=50  # 每50次迭代显示一次\n",
    ")\n",
    "end_time = time.time()\n",
    "\n",
    "# 计算平均每迭代训练时间\n",
    "training_time = end_time - start_time\n",
    "actual_iterations = final_catboost_model.get_best_iteration() + 1  # +1因为迭代从0开始\n",
    "avg_time_per_iteration = training_time / actual_iterations\n",
    "\n",
    "print(f\"最终模型训练完成! 总耗时: {training_time:.2f}秒\")\n",
    "print(f\"实际迭代次数: {actual_iterations}\")\n",
    "print(f\"平均每迭代时间: {avg_time_per_iteration:.4f}秒\")\n",
    "\n",
    "# 保存训练时间指标\n",
    "catboost_time_metrics = {\n",
    "    'model': 'CatBoost',\n",
    "    'total_training_time': training_time,\n",
    "    'iterations': actual_iterations,\n",
    "    'avg_time_per_iteration': avg_time_per_iteration\n",
    "}\n",
    "\n",
    "# 保存最佳模型\n",
    "model_path = f'{models_dir}/catboost_auc.cbm'\n",
    "final_catboost_model.save_model(model_path)\n",
    "print(f\"\\n最佳模型已保存到: {model_path}\")\n",
    "\n",
    "# 保存所选特征列表\n",
    "with open(f'{models_dir}/catboost_selected_features.txt', 'w') as f:\n",
    "    f.write('\\n'.join(selected_features))\n",
    "print(f\"特征列表已保存到: {models_dir}/catboost_selected_features.txt\")\n",
    "\n",
    "# 使用评估函数评估模型\n",
    "catboost_results = evaluate_model(\n",
    "    final_catboost_model, \n",
    "    X_train_final, y_train, \n",
    "    X_val_final, y_val, \n",
    "    X_test_final, y_test,\n",
    "    \"CatBoost\"\n",
    ")\n",
    "\n",
    "# 将时间指标添加到结果中\n",
    "catboost_results['time_metrics'] = catboost_time_metrics"
   ]
  },
  {
   "cell_type": "markdown",
   "id": "6aa07a7d",
   "metadata": {},
   "source": [
    "## 8. 使用LightGBM训练模型 (AUC优化)"
   ]
  },
  {
   "cell_type": "code",
   "execution_count": 39,
   "id": "646420a6",
   "metadata": {},
   "outputs": [
    {
     "name": "stderr",
     "output_type": "stream",
     "text": [
      "[I 2025-05-26 07:59:42,677] A new study created in memory with name: lightgbm_auc_optimization\n"
     ]
    },
    {
     "name": "stdout",
     "output_type": "stream",
     "text": [
      "\n",
      "===== 开始LightGBM模型的Optuna调参过程 (AUC) =====\n",
      "开始运行 100 次调参试验...\n"
     ]
    },
    {
     "name": "stderr",
     "output_type": "stream",
     "text": [
      "[I 2025-05-26 07:59:43,341] Trial 0 finished with value: 0.9929200362536177 and parameters: {'learning_rate': 0.05072133555363909, 'n_estimators': 385, 'num_leaves': 133, 'max_depth': 9, 'min_child_samples': 56, 'subsample': 0.7886775588533614, 'colsample_bytree': 0.7569166309557134, 'reg_alpha': 3.845683945919331e-06, 'reg_lambda': 3.283550297472953e-08, 'min_split_gain': 0.498156193786359, 'min_child_weight': 0.5591333495385178}. Best is trial 0 with value: 0.9929200362536177.\n",
      "[I 2025-05-26 07:59:43,511] Trial 1 finished with value: 0.9945444435201036 and parameters: {'learning_rate': 0.27354082095331533, 'n_estimators': 347, 'num_leaves': 11, 'max_depth': 11, 'min_child_samples': 58, 'subsample': 0.8016309853953463, 'colsample_bytree': 0.9989542875450592, 'reg_alpha': 0.00018174892214394453, 'reg_lambda': 4.818573338887684e-08, 'min_split_gain': 0.21718165214763918, 'min_child_weight': 0.0032596799805926944}. Best is trial 1 with value: 0.9945444435201036.\n"
     ]
    },
    {
     "name": "stdout",
     "output_type": "stream",
     "text": [
      "Trial 0: AUC = 0.9929\n",
      "Trial 1: AUC = 0.9945\n"
     ]
    },
    {
     "name": "stderr",
     "output_type": "stream",
     "text": [
      "[I 2025-05-26 07:59:44,584] Trial 2 finished with value: 0.9925347321041547 and parameters: {'learning_rate': 0.01353500928371079, 'n_estimators': 831, 'num_leaves': 22, 'max_depth': 14, 'min_child_samples': 73, 'subsample': 0.9380714521361178, 'colsample_bytree': 0.6117606226442147, 'reg_alpha': 1.521679536189855e-06, 'reg_lambda': 0.0895624376380527, 'min_split_gain': 0.027640092930601268, 'min_child_weight': 0.000852925877803919}. Best is trial 1 with value: 0.9945444435201036.\n",
      "[I 2025-05-26 07:59:44,721] Trial 3 finished with value: 0.9912824936183999 and parameters: {'learning_rate': 0.33086663955690504, 'n_estimators': 926, 'num_leaves': 128, 'max_depth': 16, 'min_child_samples': 16, 'subsample': 0.505951291461398, 'colsample_bytree': 0.8160851946858129, 'reg_alpha': 3.9402008368345925e-07, 'reg_lambda': 3.6658258357598776, 'min_split_gain': 0.46991581541525723, 'min_child_weight': 0.12934085988772784}. Best is trial 1 with value: 0.9945444435201036.\n"
     ]
    },
    {
     "name": "stdout",
     "output_type": "stream",
     "text": [
      "Trial 2: AUC = 0.9925\n",
      "Trial 3: AUC = 0.9913\n"
     ]
    },
    {
     "name": "stderr",
     "output_type": "stream",
     "text": [
      "[I 2025-05-26 07:59:44,847] Trial 4 finished with value: 0.9924165137855696 and parameters: {'learning_rate': 0.4894505172501931, 'n_estimators': 796, 'num_leaves': 92, 'max_depth': 14, 'min_child_samples': 93, 'subsample': 0.9792514887889223, 'colsample_bytree': 0.821087622325223, 'reg_alpha': 4.433882008249733e-08, 'reg_lambda': 0.02540499201608529, 'min_split_gain': 0.08375889355251415, 'min_child_weight': 4.135154654096687e-05}. Best is trial 1 with value: 0.9945444435201036.\n"
     ]
    },
    {
     "name": "stdout",
     "output_type": "stream",
     "text": [
      "Trial 4: AUC = 0.9924\n"
     ]
    },
    {
     "name": "stderr",
     "output_type": "stream",
     "text": [
      "[I 2025-05-26 07:59:45,133] Trial 5 finished with value: 0.9926441935102521 and parameters: {'learning_rate': 0.056922612589620156, 'n_estimators': 280, 'num_leaves': 21, 'max_depth': 5, 'min_child_samples': 55, 'subsample': 0.6719145109258149, 'colsample_bytree': 0.5795669852615447, 'reg_alpha': 0.00012929098069558055, 'reg_lambda': 5.657265132399897e-06, 'min_split_gain': 0.47337511077146005, 'min_child_weight': 0.00010111535364501523}. Best is trial 1 with value: 0.9945444435201036.\n"
     ]
    },
    {
     "name": "stdout",
     "output_type": "stream",
     "text": [
      "Trial 5: AUC = 0.9926\n"
     ]
    },
    {
     "name": "stderr",
     "output_type": "stream",
     "text": [
      "[I 2025-05-26 07:59:45,377] Trial 6 finished with value: 0.9935724262339585 and parameters: {'learning_rate': 0.25600367483636616, 'n_estimators': 471, 'num_leaves': 52, 'max_depth': 19, 'min_child_samples': 39, 'subsample': 0.7679412790688334, 'colsample_bytree': 0.6590730294795879, 'reg_alpha': 0.0039031871556207388, 'reg_lambda': 4.07183016550789e-06, 'min_split_gain': 0.25859644771144036, 'min_child_weight': 4.5782135713953584}. Best is trial 1 with value: 0.9945444435201036.\n"
     ]
    },
    {
     "name": "stdout",
     "output_type": "stream",
     "text": [
      "Trial 6: AUC = 0.9936\n"
     ]
    },
    {
     "name": "stderr",
     "output_type": "stream",
     "text": [
      "[I 2025-05-26 07:59:46,291] Trial 7 finished with value: 0.9918954774925457 and parameters: {'learning_rate': 0.018697314210555097, 'n_estimators': 436, 'num_leaves': 88, 'max_depth': 12, 'min_child_samples': 78, 'subsample': 0.9447471217242378, 'colsample_bytree': 0.6177392312386003, 'reg_alpha': 0.7972356010447825, 'reg_lambda': 3.969517942203073, 'min_split_gain': 0.04389370593436498, 'min_child_weight': 0.02188042906865933}. Best is trial 1 with value: 0.9945444435201036.\n"
     ]
    },
    {
     "name": "stdout",
     "output_type": "stream",
     "text": [
      "Trial 7: AUC = 0.9919\n"
     ]
    },
    {
     "name": "stderr",
     "output_type": "stream",
     "text": [
      "[I 2025-05-26 07:59:46,643] Trial 8 finished with value: 0.985770017207333 and parameters: {'learning_rate': 0.013345208899592662, 'n_estimators': 161, 'num_leaves': 60, 'max_depth': 11, 'min_child_samples': 93, 'subsample': 0.9565436877753333, 'colsample_bytree': 0.5537114311925937, 'reg_alpha': 2.0828507771047947e-05, 'reg_lambda': 0.18118772336773048, 'min_split_gain': 0.29134332961618115, 'min_child_weight': 4.7086658941390516e-05}. Best is trial 1 with value: 0.9945444435201036.\n"
     ]
    },
    {
     "name": "stdout",
     "output_type": "stream",
     "text": [
      "Trial 8: AUC = 0.9858\n"
     ]
    },
    {
     "name": "stderr",
     "output_type": "stream",
     "text": [
      "[I 2025-05-26 07:59:47,093] Trial 9 finished with value: 0.994745852507323 and parameters: {'learning_rate': 0.0931185411253534, 'n_estimators': 919, 'num_leaves': 75, 'max_depth': 4, 'min_child_samples': 44, 'subsample': 0.5707786440769347, 'colsample_bytree': 0.6007347646345784, 'reg_alpha': 0.245874607543033, 'reg_lambda': 5.069736945112729, 'min_split_gain': 0.2510452997089754, 'min_child_weight': 5.81855443589418e-05}. Best is trial 9 with value: 0.994745852507323.\n"
     ]
    },
    {
     "name": "stdout",
     "output_type": "stream",
     "text": [
      "Trial 9: AUC = 0.9947\n"
     ]
    },
    {
     "name": "stderr",
     "output_type": "stream",
     "text": [
      "[I 2025-05-26 07:59:47,298] Trial 10 finished with value: 0.9896799786331335 and parameters: {'learning_rate': 0.12085400739183096, 'n_estimators': 657, 'num_leaves': 109, 'max_depth': 3, 'min_child_samples': 26, 'subsample': 0.5158852687460481, 'colsample_bytree': 0.505828931873225, 'reg_alpha': 7.510539061408926, 'reg_lambda': 0.000909928370028017, 'min_split_gain': 0.3486915290274054, 'min_child_weight': 0.0010988702048009727}. Best is trial 9 with value: 0.994745852507323.\n"
     ]
    },
    {
     "name": "stdout",
     "output_type": "stream",
     "text": [
      "Trial 10: AUC = 0.9897\n"
     ]
    },
    {
     "name": "stderr",
     "output_type": "stream",
     "text": [
      "[I 2025-05-26 07:59:47,609] Trial 11 finished with value: 0.9928631163224471 and parameters: {'learning_rate': 0.13670239566121742, 'n_estimators': 641, 'num_leaves': 51, 'max_depth': 8, 'min_child_samples': 40, 'subsample': 0.6470425359122922, 'colsample_bytree': 0.9863499701260872, 'reg_alpha': 0.013065497381802803, 'reg_lambda': 7.066856270587534e-08, 'min_split_gain': 0.1583569085616191, 'min_child_weight': 0.001787653080992367}. Best is trial 9 with value: 0.994745852507323.\n"
     ]
    },
    {
     "name": "stdout",
     "output_type": "stream",
     "text": [
      "Trial 11: AUC = 0.9929\n"
     ]
    },
    {
     "name": "stderr",
     "output_type": "stream",
     "text": [
      "[I 2025-05-26 07:59:47,824] Trial 12 finished with value: 0.9931083098721052 and parameters: {'learning_rate': 0.14606247622808513, 'n_estimators': 101, 'num_leaves': 37, 'max_depth': 6, 'min_child_samples': 66, 'subsample': 0.8533717316244698, 'colsample_bytree': 0.9979114405413249, 'reg_alpha': 0.02842181937058693, 'reg_lambda': 9.92015830362841e-05, 'min_split_gain': 0.17177021976660023, 'min_child_weight': 1.388828579763192e-05}. Best is trial 9 with value: 0.994745852507323.\n"
     ]
    },
    {
     "name": "stdout",
     "output_type": "stream",
     "text": [
      "Trial 12: AUC = 0.9931\n"
     ]
    },
    {
     "name": "stderr",
     "output_type": "stream",
     "text": [
      "[I 2025-05-26 07:59:48,446] Trial 13 finished with value: 0.9909015679251809 and parameters: {'learning_rate': 0.04004231766032023, 'n_estimators': 636, 'num_leaves': 69, 'max_depth': 3, 'min_child_samples': 34, 'subsample': 0.6439050549889078, 'colsample_bytree': 0.8731831236431015, 'reg_alpha': 0.0010207674241305693, 'reg_lambda': 0.0017391753241853577, 'min_split_gain': 0.33850054377462235, 'min_child_weight': 0.008594158560242354}. Best is trial 9 with value: 0.994745852507323.\n"
     ]
    },
    {
     "name": "stdout",
     "output_type": "stream",
     "text": [
      "Trial 13: AUC = 0.9909\n"
     ]
    },
    {
     "name": "stderr",
     "output_type": "stream",
     "text": [
      "[I 2025-05-26 07:59:48,682] Trial 14 finished with value: 0.9929025224286421 and parameters: {'learning_rate': 0.08890501724871443, 'n_estimators': 273, 'num_leaves': 10, 'max_depth': 20, 'min_child_samples': 47, 'subsample': 0.5779122515259836, 'colsample_bytree': 0.6796868033937511, 'reg_alpha': 0.19122546224338494, 'reg_lambda': 9.816410020373024e-07, 'min_split_gain': 0.18260070754909952, 'min_child_weight': 0.00028152913305275006}. Best is trial 9 with value: 0.994745852507323.\n"
     ]
    },
    {
     "name": "stdout",
     "output_type": "stream",
     "text": [
      "Trial 14: AUC = 0.9929\n",
      "Trial 15: AUC = 0.9912\n"
     ]
    },
    {
     "name": "stderr",
     "output_type": "stream",
     "text": [
      "[I 2025-05-26 07:59:48,883] Trial 15 finished with value: 0.9911774106685465 and parameters: {'learning_rate': 0.20329047887622229, 'n_estimators': 931, 'num_leaves': 106, 'max_depth': 7, 'min_child_samples': 16, 'subsample': 0.8404678421397562, 'colsample_bytree': 0.9166567679104695, 'reg_alpha': 0.00014063885008320563, 'reg_lambda': 6.945713470453084e-05, 'min_split_gain': 0.3793443331502448, 'min_child_weight': 0.013091849681000859}. Best is trial 9 with value: 0.994745852507323.\n",
      "[I 2025-05-26 07:59:49,568] Trial 16 finished with value: 0.9906651312880106 and parameters: {'learning_rate': 0.030766947242962202, 'n_estimators': 563, 'num_leaves': 144, 'max_depth': 9, 'min_child_samples': 68, 'subsample': 0.6915025429365101, 'colsample_bytree': 0.725662683661934, 'reg_alpha': 8.656592453264647, 'reg_lambda': 0.008334472930298587, 'min_split_gain': 0.22453888238489655, 'min_child_weight': 0.0038604753175159293}. Best is trial 9 with value: 0.994745852507323.\n"
     ]
    },
    {
     "name": "stdout",
     "output_type": "stream",
     "text": [
      "Trial 16: AUC = 0.9907\n"
     ]
    },
    {
     "name": "stderr",
     "output_type": "stream",
     "text": [
      "[I 2025-05-26 07:59:50,123] Trial 17 finished with value: 0.9934148018091782 and parameters: {'learning_rate': 0.0852093469528368, 'n_estimators': 313, 'num_leaves': 71, 'max_depth': 17, 'min_child_samples': 58, 'subsample': 0.7287461775961762, 'colsample_bytree': 0.9319135748293673, 'reg_alpha': 0.09233453950659579, 'reg_lambda': 7.786233442408188e-07, 'min_split_gain': 0.11400032452610803, 'min_child_weight': 0.08159348710552025}. Best is trial 9 with value: 0.994745852507323.\n",
      "[I 2025-05-26 07:59:50,237] Trial 18 finished with value: 0.9919742897049358 and parameters: {'learning_rate': 0.4653997111059158, 'n_estimators': 42, 'num_leaves': 32, 'max_depth': 12, 'min_child_samples': 27, 'subsample': 0.5812914080564453, 'colsample_bytree': 0.7582496601728128, 'reg_alpha': 4.037781107598875e-05, 'reg_lambda': 1.1169603620442044e-08, 'min_split_gain': 0.29239381066418, 'min_child_weight': 0.00031160011612882475}. Best is trial 9 with value: 0.994745852507323.\n"
     ]
    },
    {
     "name": "stdout",
     "output_type": "stream",
     "text": [
      "Trial 17: AUC = 0.9934\n",
      "Trial 18: AUC = 0.9920\n"
     ]
    },
    {
     "name": "stderr",
     "output_type": "stream",
     "text": [
      "[I 2025-05-26 07:59:50,434] Trial 19 finished with value: 0.9916371485741557 and parameters: {'learning_rate': 0.21857961502547646, 'n_estimators': 748, 'num_leaves': 42, 'max_depth': 5, 'min_child_samples': 6, 'subsample': 0.8714723617120519, 'colsample_bytree': 0.5059876594896033, 'reg_alpha': 0.001254077843471831, 'reg_lambda': 0.46124981197604453, 'min_split_gain': 0.3994123009051913, 'min_child_weight': 1.3924767326298168e-05}. Best is trial 9 with value: 0.994745852507323.\n"
     ]
    },
    {
     "name": "stdout",
     "output_type": "stream",
     "text": [
      "Trial 19: AUC = 0.9916\n"
     ]
    },
    {
     "name": "stderr",
     "output_type": "stream",
     "text": [
      "[I 2025-05-26 07:59:51,495] Trial 20 finished with value: 0.9942554654080065 and parameters: {'learning_rate': 0.031010389136884486, 'n_estimators': 514, 'num_leaves': 105, 'max_depth': 10, 'min_child_samples': 82, 'subsample': 0.8035837905901971, 'colsample_bytree': 0.6829315515536301, 'reg_alpha': 0.6265819159232823, 'reg_lambda': 0.00011015614568958135, 'min_split_gain': 0.22692242151821548, 'min_child_weight': 7.8665685781198365}. Best is trial 9 with value: 0.994745852507323.\n"
     ]
    },
    {
     "name": "stdout",
     "output_type": "stream",
     "text": [
      "Trial 20: AUC = 0.9943\n"
     ]
    },
    {
     "name": "stderr",
     "output_type": "stream",
     "text": [
      "[I 2025-05-26 07:59:52,644] Trial 21 finished with value: 0.9941810316518602 and parameters: {'learning_rate': 0.02695997655182651, 'n_estimators': 539, 'num_leaves': 107, 'max_depth': 11, 'min_child_samples': 82, 'subsample': 0.8089391822992462, 'colsample_bytree': 0.6936960248739631, 'reg_alpha': 0.7080423009771243, 'reg_lambda': 1.5598010688159757e-05, 'min_split_gain': 0.22662649090681458, 'min_child_weight': 3.595689501408807}. Best is trial 9 with value: 0.994745852507323.\n"
     ]
    },
    {
     "name": "stdout",
     "output_type": "stream",
     "text": [
      "Trial 21: AUC = 0.9942\n"
     ]
    },
    {
     "name": "stderr",
     "output_type": "stream",
     "text": [
      "[I 2025-05-26 07:59:53,531] Trial 22 finished with value: 0.9920881295672771 and parameters: {'learning_rate': 0.02063845944408563, 'n_estimators': 373, 'num_leaves': 118, 'max_depth': 10, 'min_child_samples': 84, 'subsample': 0.7218131493794775, 'colsample_bytree': 0.6485176398740906, 'reg_alpha': 0.7095213872959344, 'reg_lambda': 2.3690147833554133e-07, 'min_split_gain': 0.2696052654272317, 'min_child_weight': 0.3574181815349693}. Best is trial 9 with value: 0.994745852507323.\n"
     ]
    },
    {
     "name": "stdout",
     "output_type": "stream",
     "text": [
      "Trial 22: AUC = 0.9921\n"
     ]
    },
    {
     "name": "stderr",
     "output_type": "stream",
     "text": [
      "[I 2025-05-26 07:59:54,228] Trial 23 finished with value: 0.9943517914453721 and parameters: {'learning_rate': 0.06600030989780016, 'n_estimators': 1000, 'num_leaves': 91, 'max_depth': 14, 'min_child_samples': 99, 'subsample': 0.9075900255247943, 'colsample_bytree': 0.7225426921288944, 'reg_alpha': 0.005477452587836776, 'reg_lambda': 0.004691676776746549, 'min_split_gain': 0.20554817987771334, 'min_child_weight': 0.04490351837432974}. Best is trial 9 with value: 0.994745852507323.\n"
     ]
    },
    {
     "name": "stdout",
     "output_type": "stream",
     "text": [
      "Trial 23: AUC = 0.9944\n"
     ]
    },
    {
     "name": "stderr",
     "output_type": "stream",
     "text": [
      "[I 2025-05-26 07:59:54,884] Trial 24 finished with value: 0.9941328686331773 and parameters: {'learning_rate': 0.07637358101168865, 'n_estimators': 992, 'num_leaves': 87, 'max_depth': 14, 'min_child_samples': 99, 'subsample': 0.8964410787433195, 'colsample_bytree': 0.8133220177240573, 'reg_alpha': 0.0059063691999851585, 'reg_lambda': 0.7913698877070425, 'min_split_gain': 0.1571666532836556, 'min_child_weight': 0.03501762895000109}. Best is trial 9 with value: 0.994745852507323.\n"
     ]
    },
    {
     "name": "stdout",
     "output_type": "stream",
     "text": [
      "Trial 24: AUC = 0.9941\n"
     ]
    },
    {
     "name": "stderr",
     "output_type": "stream",
     "text": [
      "[I 2025-05-26 07:59:55,408] Trial 25 finished with value: 0.9933184757718123 and parameters: {'learning_rate': 0.0989459371240825, 'n_estimators': 991, 'num_leaves': 73, 'max_depth': 16, 'min_child_samples': 46, 'subsample': 0.8983541894825853, 'colsample_bytree': 0.7246696251809605, 'reg_alpha': 0.00042696891708810024, 'reg_lambda': 0.0074608585353674855, 'min_split_gain': 0.1184591670565856, 'min_child_weight': 0.004998612778704873}. Best is trial 9 with value: 0.994745852507323.\n"
     ]
    },
    {
     "name": "stdout",
     "output_type": "stream",
     "text": [
      "Trial 25: AUC = 0.9933\n"
     ]
    },
    {
     "name": "stderr",
     "output_type": "stream",
     "text": [
      "[I 2025-05-26 07:59:56,346] Trial 26 finished with value: 0.9946539049262011 and parameters: {'learning_rate': 0.05612442777555024, 'n_estimators': 860, 'num_leaves': 81, 'max_depth': 13, 'min_child_samples': 64, 'subsample': 0.5815393835954598, 'colsample_bytree': 0.7886755147354044, 'reg_alpha': 0.014461489008329872, 'reg_lambda': 9.952041839618257, 'min_split_gain': 0.20042357425848345, 'min_child_weight': 0.9152045372382565}. Best is trial 9 with value: 0.994745852507323.\n"
     ]
    },
    {
     "name": "stdout",
     "output_type": "stream",
     "text": [
      "Trial 26: AUC = 0.9947\n"
     ]
    },
    {
     "name": "stderr",
     "output_type": "stream",
     "text": [
      "[I 2025-05-26 07:59:56,638] Trial 27 finished with value: 0.9946801756636645 and parameters: {'learning_rate': 0.1789090375230638, 'n_estimators': 881, 'num_leaves': 79, 'max_depth': 13, 'min_child_samples': 61, 'subsample': 0.5823216126827986, 'colsample_bytree': 0.8672118404716922, 'reg_alpha': 0.05287545916940744, 'reg_lambda': 7.569340210032358, 'min_split_gain': 0.31389017423655496, 'min_child_weight': 1.3305088023910412}. Best is trial 9 with value: 0.994745852507323.\n"
     ]
    },
    {
     "name": "stdout",
     "output_type": "stream",
     "text": [
      "Trial 27: AUC = 0.9947\n"
     ]
    },
    {
     "name": "stderr",
     "output_type": "stream",
     "text": [
      "[I 2025-05-26 07:59:57,661] Trial 28 finished with value: 0.9941022194394701 and parameters: {'learning_rate': 0.04194510237068189, 'n_estimators': 852, 'num_leaves': 78, 'max_depth': 13, 'min_child_samples': 65, 'subsample': 0.6012404817258876, 'colsample_bytree': 0.8566570311955795, 'reg_alpha': 0.05977323621216747, 'reg_lambda': 6.857916574673873, 'min_split_gain': 0.32618652659928093, 'min_child_weight': 1.25607078820726}. Best is trial 9 with value: 0.994745852507323.\n"
     ]
    },
    {
     "name": "stdout",
     "output_type": "stream",
     "text": [
      "Trial 28: AUC = 0.9941\n"
     ]
    },
    {
     "name": "stderr",
     "output_type": "stream",
     "text": [
      "[I 2025-05-26 07:59:57,905] Trial 29 finished with value: 0.9937431860274704 and parameters: {'learning_rate': 0.17157969465214107, 'n_estimators': 731, 'num_leaves': 63, 'max_depth': 17, 'min_child_samples': 52, 'subsample': 0.5442715769783213, 'colsample_bytree': 0.769686133496309, 'reg_alpha': 0.2343030630518926, 'reg_lambda': 1.1511485492654683, 'min_split_gain': 0.3984024605316307, 'min_child_weight': 0.9256976345649919}. Best is trial 9 with value: 0.994745852507323.\n"
     ]
    },
    {
     "name": "stdout",
     "output_type": "stream",
     "text": [
      "Trial 29: AUC = 0.9937\n"
     ]
    },
    {
     "name": "stderr",
     "output_type": "stream",
     "text": [
      "[I 2025-05-26 07:59:58,224] Trial 30 finished with value: 0.9932484204719101 and parameters: {'learning_rate': 0.11542517697476241, 'n_estimators': 852, 'num_leaves': 97, 'max_depth': 9, 'min_child_samples': 61, 'subsample': 0.6174691508281133, 'colsample_bytree': 0.780818767805599, 'reg_alpha': 2.1382278600961646, 'reg_lambda': 7.460233014274667, 'min_split_gain': 0.31214568452809854, 'min_child_weight': 0.4418738675190369}. Best is trial 9 with value: 0.994745852507323.\n"
     ]
    },
    {
     "name": "stdout",
     "output_type": "stream",
     "text": [
      "Trial 30: AUC = 0.9932\n"
     ]
    },
    {
     "name": "stderr",
     "output_type": "stream",
     "text": [
      "[I 2025-05-26 07:59:58,495] Trial 31 finished with value: 0.9929681992723005 and parameters: {'learning_rate': 0.25312472426293764, 'n_estimators': 913, 'num_leaves': 83, 'max_depth': 13, 'min_child_samples': 50, 'subsample': 0.5517760734116393, 'colsample_bytree': 0.930448270433412, 'reg_alpha': 0.02510449252923163, 'reg_lambda': 0.07030758248670811, 'min_split_gain': 0.2674925838217214, 'min_child_weight': 2.038544465874261}. Best is trial 9 with value: 0.994745852507323.\n"
     ]
    },
    {
     "name": "stdout",
     "output_type": "stream",
     "text": [
      "Trial 31: AUC = 0.9930\n"
     ]
    },
    {
     "name": "stderr",
     "output_type": "stream",
     "text": [
      "[I 2025-05-26 07:59:58,724] Trial 32 finished with value: 0.9932571773843979 and parameters: {'learning_rate': 0.34543015004763544, 'n_estimators': 745, 'num_leaves': 53, 'max_depth': 15, 'min_child_samples': 74, 'subsample': 0.6178772038612541, 'colsample_bytree': 0.9639942705662821, 'reg_alpha': 1.3155815573990667e-05, 'reg_lambda': 1.6902992123310552, 'min_split_gain': 0.20739033867904394, 'min_child_weight': 0.1944343850248567}. Best is trial 9 with value: 0.994745852507323.\n"
     ]
    },
    {
     "name": "stdout",
     "output_type": "stream",
     "text": [
      "Trial 32: AUC = 0.9933\n"
     ]
    },
    {
     "name": "stderr",
     "output_type": "stream",
     "text": [
      "[I 2025-05-26 07:59:59,034] Trial 33 finished with value: 0.9933666387904951 and parameters: {'learning_rate': 0.3285062237945622, 'n_estimators': 876, 'num_leaves': 120, 'max_depth': 13, 'min_child_samples': 60, 'subsample': 0.5362468638854133, 'colsample_bytree': 0.8962116902890997, 'reg_alpha': 0.0015096611524903925, 'reg_lambda': 0.254920771976167, 'min_split_gain': 0.125155218325053, 'min_child_weight': 0.00036680314847106147}. Best is trial 9 with value: 0.994745852507323.\n"
     ]
    },
    {
     "name": "stdout",
     "output_type": "stream",
     "text": [
      "Trial 33: AUC = 0.9934\n"
     ]
    },
    {
     "name": "stderr",
     "output_type": "stream",
     "text": [
      "[I 2025-05-26 07:59:59,322] Trial 34 finished with value: 0.9921538064109356 and parameters: {'learning_rate': 0.16671364109684578, 'n_estimators': 190, 'num_leaves': 78, 'max_depth': 15, 'min_child_samples': 71, 'subsample': 0.6941310007157893, 'colsample_bytree': 0.8442252091707978, 'reg_alpha': 6.632185029963115e-07, 'reg_lambda': 0.05128557865953285, 'min_split_gain': 0.23933483032576636, 'min_child_weight': 0.1673616191632796}. Best is trial 9 with value: 0.994745852507323.\n"
     ]
    },
    {
     "name": "stdout",
     "output_type": "stream",
     "text": [
      "Trial 34: AUC = 0.9922\n"
     ]
    },
    {
     "name": "stderr",
     "output_type": "stream",
     "text": [
      "[I 2025-05-26 08:00:00,295] Trial 35 finished with value: 0.9943298991641527 and parameters: {'learning_rate': 0.053470042700988187, 'n_estimators': 792, 'num_leaves': 26, 'max_depth': 18, 'min_child_samples': 41, 'subsample': 0.5021632377679334, 'colsample_bytree': 0.795872104944213, 'reg_alpha': 0.07541618198988306, 'reg_lambda': 9.5178505567208, 'min_split_gain': 0.19123546134678637, 'min_child_weight': 0.6692408978402522}. Best is trial 9 with value: 0.994745852507323.\n"
     ]
    },
    {
     "name": "stdout",
     "output_type": "stream",
     "text": [
      "Trial 35: AUC = 0.9943\n"
     ]
    },
    {
     "name": "stderr",
     "output_type": "stream",
     "text": [
      "[I 2025-05-26 08:00:00,747] Trial 36 finished with value: 0.9936249677088852 and parameters: {'learning_rate': 0.06409518720800197, 'n_estimators': 918, 'num_leaves': 136, 'max_depth': 4, 'min_child_samples': 57, 'subsample': 0.5839755728097931, 'colsample_bytree': 0.9565593740122144, 'reg_alpha': 0.0004511412310261296, 'reg_lambda': 1.547230949784362, 'min_split_gain': 0.36703811765008204, 'min_child_weight': 0.00014683471205530595}. Best is trial 9 with value: 0.994745852507323.\n"
     ]
    },
    {
     "name": "stdout",
     "output_type": "stream",
     "text": [
      "Trial 36: AUC = 0.9936\n"
     ]
    },
    {
     "name": "stderr",
     "output_type": "stream",
     "text": [
      "[I 2025-05-26 08:00:01,098] Trial 37 finished with value: 0.9946276341887377 and parameters: {'learning_rate': 0.3841892805502279, 'n_estimators': 792, 'num_leaves': 96, 'max_depth': 7, 'min_child_samples': 32, 'subsample': 0.7489380706249188, 'colsample_bytree': 0.8762937639626265, 'reg_alpha': 1.023443252156958e-08, 'reg_lambda': 0.025255432318317343, 'min_split_gain': 0.0018657805014138384, 'min_child_weight': 0.0019442799591256983}. Best is trial 9 with value: 0.994745852507323.\n"
     ]
    },
    {
     "name": "stdout",
     "output_type": "stream",
     "text": [
      "Trial 37: AUC = 0.9946\n"
     ]
    },
    {
     "name": "stderr",
     "output_type": "stream",
     "text": [
      "[I 2025-05-26 08:00:01,462] Trial 38 finished with value: 0.9951092643755665 and parameters: {'learning_rate': 0.39887696633335684, 'n_estimators': 816, 'num_leaves': 97, 'max_depth': 7, 'min_child_samples': 32, 'subsample': 0.6570998960766292, 'colsample_bytree': 0.8857969892536217, 'reg_alpha': 1.9979196042631468e-07, 'reg_lambda': 0.02693761728669794, 'min_split_gain': 0.011181114596100473, 'min_child_weight': 9.76343147977675}. Best is trial 38 with value: 0.9951092643755665.\n"
     ]
    },
    {
     "name": "stdout",
     "output_type": "stream",
     "text": [
      "Trial 38: AUC = 0.9951\n"
     ]
    },
    {
     "name": "stderr",
     "output_type": "stream",
     "text": [
      "[I 2025-05-26 08:00:01,979] Trial 39 finished with value: 0.9949866676007374 and parameters: {'learning_rate': 0.10707998658325789, 'n_estimators': 706, 'num_leaves': 62, 'max_depth': 4, 'min_child_samples': 19, 'subsample': 0.6517328600991608, 'colsample_bytree': 0.8111454919060379, 'reg_alpha': 1.1408316364415442e-06, 'reg_lambda': 2.443615685229016, 'min_split_gain': 0.05456886868025196, 'min_child_weight': 8.867639136260115}. Best is trial 38 with value: 0.9951092643755665.\n"
     ]
    },
    {
     "name": "stdout",
     "output_type": "stream",
     "text": [
      "Trial 39: AUC = 0.9950\n"
     ]
    },
    {
     "name": "stderr",
     "output_type": "stream",
     "text": [
      "[I 2025-05-26 08:00:02,513] Trial 40 finished with value: 0.9946276341887377 and parameters: {'learning_rate': 0.10345313470578962, 'n_estimators': 704, 'num_leaves': 61, 'max_depth': 5, 'min_child_samples': 19, 'subsample': 0.6528389482475215, 'colsample_bytree': 0.8387217907057666, 'reg_alpha': 1.104570260008977e-07, 'reg_lambda': 0.33876815312792874, 'min_split_gain': 0.05930969544840177, 'min_child_weight': 6.299040084525372}. Best is trial 38 with value: 0.9951092643755665.\n"
     ]
    },
    {
     "name": "stdout",
     "output_type": "stream",
     "text": [
      "Trial 40: AUC = 0.9946\n"
     ]
    },
    {
     "name": "stderr",
     "output_type": "stream",
     "text": [
      "[I 2025-05-26 08:00:03,190] Trial 41 finished with value: 0.9931345806095686 and parameters: {'learning_rate': 0.042739446097124364, 'n_estimators': 813, 'num_leaves': 81, 'max_depth': 4, 'min_child_samples': 7, 'subsample': 0.559498947124262, 'colsample_bytree': 0.8045963673141179, 'reg_alpha': 1.0244825519195216e-07, 'reg_lambda': 3.3438350526452694, 'min_split_gain': 0.015211422194829839, 'min_child_weight': 2.3797973512673236}. Best is trial 38 with value: 0.9951092643755665.\n"
     ]
    },
    {
     "name": "stdout",
     "output_type": "stream",
     "text": [
      "Trial 41: AUC = 0.9931\n"
     ]
    },
    {
     "name": "stderr",
     "output_type": "stream",
     "text": [
      "[I 2025-05-26 08:00:03,865] Trial 42 finished with value: 0.9948990984758593 and parameters: {'learning_rate': 0.07855437499622203, 'n_estimators': 884, 'num_leaves': 99, 'max_depth': 6, 'min_child_samples': 23, 'subsample': 0.6141984996485126, 'colsample_bytree': 0.8923318567743032, 'reg_alpha': 1.6369943759123235e-06, 'reg_lambda': 2.286693718692848, 'min_split_gain': 0.0730044022479541, 'min_child_weight': 7.8421564501848335}. Best is trial 38 with value: 0.9951092643755665.\n"
     ]
    },
    {
     "name": "stdout",
     "output_type": "stream",
     "text": [
      "Trial 42: AUC = 0.9949\n"
     ]
    },
    {
     "name": "stderr",
     "output_type": "stream",
     "text": [
      "[I 2025-05-26 08:00:04,292] Trial 43 finished with value: 0.9943649268141039 and parameters: {'learning_rate': 0.13597179689957087, 'n_estimators': 951, 'num_leaves': 98, 'max_depth': 6, 'min_child_samples': 26, 'subsample': 0.6220880256916106, 'colsample_bytree': 0.8985566267099264, 'reg_alpha': 3.1325843296820395e-06, 'reg_lambda': 0.15415374557029032, 'min_split_gain': 0.07181846651618892, 'min_child_weight': 7.699915466400566}. Best is trial 38 with value: 0.9951092643755665.\n"
     ]
    },
    {
     "name": "stdout",
     "output_type": "stream",
     "text": [
      "Trial 43: AUC = 0.9944\n"
     ]
    },
    {
     "name": "stderr",
     "output_type": "stream",
     "text": [
      "[I 2025-05-26 08:00:04,595] Trial 44 finished with value: 0.9937081583775192 and parameters: {'learning_rate': 0.1735296293519252, 'n_estimators': 885, 'num_leaves': 118, 'max_depth': 4, 'min_child_samples': 21, 'subsample': 0.6718185953639432, 'colsample_bytree': 0.8306768990917316, 'reg_alpha': 8.08542090882878e-07, 'reg_lambda': 2.486947477763411, 'min_split_gain': 0.033618307585482114, 'min_child_weight': 2.9417361684998946}. Best is trial 38 with value: 0.9951092643755665.\n"
     ]
    },
    {
     "name": "stdout",
     "output_type": "stream",
     "text": [
      "Trial 44: AUC = 0.9937\n"
     ]
    },
    {
     "name": "stderr",
     "output_type": "stream",
     "text": [
      "[I 2025-05-26 08:00:05,135] Trial 45 finished with value: 0.9951661843067372 and parameters: {'learning_rate': 0.07625354030870884, 'n_estimators': 692, 'num_leaves': 67, 'max_depth': 6, 'min_child_samples': 35, 'subsample': 0.638467012463849, 'colsample_bytree': 0.867712813346305, 'reg_alpha': 1.5133038021574474e-07, 'reg_lambda': 0.6555378339402494, 'min_split_gain': 0.09228780098230756, 'min_child_weight': 9.481092032544975}. Best is trial 45 with value: 0.9951661843067372.\n"
     ]
    },
    {
     "name": "stdout",
     "output_type": "stream",
     "text": [
      "Trial 45: AUC = 0.9952\n"
     ]
    },
    {
     "name": "stderr",
     "output_type": "stream",
     "text": [
      "[I 2025-05-26 08:00:05,765] Trial 46 finished with value: 0.9940058934021043 and parameters: {'learning_rate': 0.07582632256138128, 'n_estimators': 664, 'num_leaves': 66, 'max_depth': 6, 'min_child_samples': 12, 'subsample': 0.6640422365530333, 'colsample_bytree': 0.8997333697830641, 'reg_alpha': 2.41907567907971e-07, 'reg_lambda': 0.7153205081159998, 'min_split_gain': 0.09351390895053277, 'min_child_weight': 3.169445661527573}. Best is trial 45 with value: 0.9951661843067372.\n"
     ]
    },
    {
     "name": "stdout",
     "output_type": "stream",
     "text": [
      "Trial 46: AUC = 0.9940\n"
     ]
    },
    {
     "name": "stderr",
     "output_type": "stream",
     "text": [
      "[I 2025-05-26 08:00:06,158] Trial 47 finished with value: 0.9922369970795698 and parameters: {'learning_rate': 0.048251072837439395, 'n_estimators': 684, 'num_leaves': 48, 'max_depth': 3, 'min_child_samples': 33, 'subsample': 0.6347132374564189, 'colsample_bytree': 0.5340647723148662, 'reg_alpha': 1.5728260934140185e-08, 'reg_lambda': 0.023963750098583814, 'min_split_gain': 0.049769745909196195, 'min_child_weight': 7.952859507848727}. Best is trial 45 with value: 0.9951661843067372.\n"
     ]
    },
    {
     "name": "stdout",
     "output_type": "stream",
     "text": [
      "Trial 47: AUC = 0.9922\n"
     ]
    },
    {
     "name": "stderr",
     "output_type": "stream",
     "text": [
      "[I 2025-05-26 08:00:06,745] Trial 48 finished with value: 0.9948640708259082 and parameters: {'learning_rate': 0.11237427625699588, 'n_estimators': 610, 'num_leaves': 57, 'max_depth': 7, 'min_child_samples': 38, 'subsample': 0.6915106841442256, 'colsample_bytree': 0.6070590489583768, 'reg_alpha': 2.5311992779092363e-06, 'reg_lambda': 0.10009300347591159, 'min_split_gain': 0.08968813874756557, 'min_child_weight': 4.74000668750343}. Best is trial 45 with value: 0.9951661843067372.\n"
     ]
    },
    {
     "name": "stdout",
     "output_type": "stream",
     "text": [
      "Trial 48: AUC = 0.9949\n"
     ]
    },
    {
     "name": "stderr",
     "output_type": "stream",
     "text": [
      "[I 2025-05-26 08:00:07,202] Trial 49 finished with value: 0.9943517914453722 and parameters: {'learning_rate': 0.11891159937488761, 'n_estimators': 608, 'num_leaves': 57, 'max_depth': 8, 'min_child_samples': 38, 'subsample': 0.695421146371402, 'colsample_bytree': 0.8808113281496738, 'reg_alpha': 3.054125810140823e-06, 'reg_lambda': 0.11175916949497673, 'min_split_gain': 0.09008034690707441, 'min_child_weight': 4.697148870534953}. Best is trial 45 with value: 0.9951661843067372.\n"
     ]
    },
    {
     "name": "stdout",
     "output_type": "stream",
     "text": [
      "Trial 49: AUC = 0.9944\n"
     ]
    },
    {
     "name": "stderr",
     "output_type": "stream",
     "text": [
      "[I 2025-05-26 08:00:07,708] Trial 50 finished with value: 0.9942554654080065 and parameters: {'learning_rate': 0.08238430860503464, 'n_estimators': 589, 'num_leaves': 45, 'max_depth': 7, 'min_child_samples': 29, 'subsample': 0.7083256993765242, 'colsample_bytree': 0.9533996895032432, 'reg_alpha': 7.588781478740848e-06, 'reg_lambda': 0.0010127881294509499, 'min_split_gain': 0.1382807139665152, 'min_child_weight': 1.8858053698469992}. Best is trial 45 with value: 0.9951661843067372.\n"
     ]
    },
    {
     "name": "stdout",
     "output_type": "stream",
     "text": [
      "Trial 50: AUC = 0.9943\n"
     ]
    },
    {
     "name": "stderr",
     "output_type": "stream",
     "text": [
      "[I 2025-05-26 08:00:08,341] Trial 51 finished with value: 0.9949822891444935 and parameters: {'learning_rate': 0.06646959625645227, 'n_estimators': 764, 'num_leaves': 72, 'max_depth': 5, 'min_child_samples': 22, 'subsample': 0.6048766402380693, 'colsample_bytree': 0.5894838748810414, 'reg_alpha': 3.692213112078678e-08, 'reg_lambda': 0.33301863567771894, 'min_split_gain': 0.025392783465601296, 'min_child_weight': 8.711454187109172}. Best is trial 45 with value: 0.9951661843067372.\n"
     ]
    },
    {
     "name": "stdout",
     "output_type": "stream",
     "text": [
      "Trial 51: AUC = 0.9950\n"
     ]
    },
    {
     "name": "stderr",
     "output_type": "stream",
     "text": [
      "[I 2025-05-26 08:00:09,311] Trial 52 finished with value: 0.9952581318878589 and parameters: {'learning_rate': 0.0646945127088189, 'n_estimators': 716, 'num_leaves': 55, 'max_depth': 8, 'min_child_samples': 22, 'subsample': 0.6787501892288302, 'colsample_bytree': 0.5790776053449165, 'reg_alpha': 4.8243474754034536e-08, 'reg_lambda': 0.3276125603138666, 'min_split_gain': 0.025142027249368593, 'min_child_weight': 9.205160645407714}. Best is trial 52 with value: 0.9952581318878589.\n"
     ]
    },
    {
     "name": "stdout",
     "output_type": "stream",
     "text": [
      "Trial 52: AUC = 0.9953\n"
     ]
    },
    {
     "name": "stderr",
     "output_type": "stream",
     "text": [
      "[I 2025-05-26 08:00:10,005] Trial 53 finished with value: 0.9947546094198108 and parameters: {'learning_rate': 0.06442353983741436, 'n_estimators': 782, 'num_leaves': 68, 'max_depth': 5, 'min_child_samples': 21, 'subsample': 0.6056570542489302, 'colsample_bytree': 0.580779546108213, 'reg_alpha': 3.6169005207720864e-08, 'reg_lambda': 0.4388255120763599, 'min_split_gain': 0.024552333863064768, 'min_child_weight': 8.639192899248691}. Best is trial 52 with value: 0.9952581318878589.\n"
     ]
    },
    {
     "name": "stdout",
     "output_type": "stream",
     "text": [
      "Trial 53: AUC = 0.9948\n"
     ]
    },
    {
     "name": "stderr",
     "output_type": "stream",
     "text": [
      "[I 2025-05-26 08:00:11,056] Trial 54 finished with value: 0.9949428830382984 and parameters: {'learning_rate': 0.04761069787325661, 'n_estimators': 703, 'num_leaves': 87, 'max_depth': 8, 'min_child_samples': 12, 'subsample': 0.6359203248985956, 'colsample_bytree': 0.6342895993302837, 'reg_alpha': 3.7270636840917164e-08, 'reg_lambda': 2.376898582406173, 'min_split_gain': 0.062017373139294577, 'min_child_weight': 9.206969978087665}. Best is trial 52 with value: 0.9952581318878589.\n"
     ]
    },
    {
     "name": "stdout",
     "output_type": "stream",
     "text": [
      "Trial 54: AUC = 0.9949\n"
     ]
    },
    {
     "name": "stderr",
     "output_type": "stream",
     "text": [
      "[I 2025-05-26 08:00:12,101] Trial 55 finished with value: 0.994487523588933 and parameters: {'learning_rate': 0.03577115434518208, 'n_estimators': 699, 'num_leaves': 38, 'max_depth': 8, 'min_child_samples': 15, 'subsample': 0.6400937521578353, 'colsample_bytree': 0.6345102127399744, 'reg_alpha': 3.3252274078675504e-08, 'reg_lambda': 0.03791655128566417, 'min_split_gain': 0.007117940799841254, 'min_child_weight': 9.705007853161684}. Best is trial 52 with value: 0.9952581318878589.\n"
     ]
    },
    {
     "name": "stdout",
     "output_type": "stream",
     "text": [
      "Trial 55: AUC = 0.9945\n"
     ]
    },
    {
     "name": "stderr",
     "output_type": "stream",
     "text": [
      "[I 2025-05-26 08:00:13,063] Trial 56 finished with value: 0.9942817361454698 and parameters: {'learning_rate': 0.050678240704066777, 'n_estimators': 484, 'num_leaves': 88, 'max_depth': 8, 'min_child_samples': 16, 'subsample': 0.6607182942768643, 'colsample_bytree': 0.5568620421849684, 'reg_alpha': 1.1754681550394702e-07, 'reg_lambda': 0.2100064681222063, 'min_split_gain': 0.03715834038589909, 'min_child_weight': 4.433795270454099}. Best is trial 52 with value: 0.9952581318878589.\n"
     ]
    },
    {
     "name": "stdout",
     "output_type": "stream",
     "text": [
      "Trial 56: AUC = 0.9943\n"
     ]
    },
    {
     "name": "stderr",
     "output_type": "stream",
     "text": [
      "[I 2025-05-26 08:00:14,038] Trial 57 finished with value: 0.9901966364699134 and parameters: {'learning_rate': 0.010314314700410483, 'n_estimators': 758, 'num_leaves': 71, 'max_depth': 5, 'min_child_samples': 10, 'subsample': 0.7563601288137456, 'colsample_bytree': 0.5901317991911482, 'reg_alpha': 3.120160312973992e-07, 'reg_lambda': 0.015315862769153085, 'min_split_gain': 0.04876533027882855, 'min_child_weight': 1.538232659943436}. Best is trial 52 with value: 0.9952581318878589.\n"
     ]
    },
    {
     "name": "stdout",
     "output_type": "stream",
     "text": [
      "Trial 57: AUC = 0.9902\n"
     ]
    },
    {
     "name": "stderr",
     "output_type": "stream",
     "text": [
      "[I 2025-05-26 08:00:15,728] Trial 58 finished with value: 0.9936162107963974 and parameters: {'learning_rate': 0.0248988461352759, 'n_estimators': 638, 'num_leaves': 65, 'max_depth': 9, 'min_child_samples': 30, 'subsample': 0.6732922590300683, 'colsample_bytree': 0.5664766202984001, 'reg_alpha': 6.025376721411059e-08, 'reg_lambda': 0.8147632198941466, 'min_split_gain': 0.06390461483023135, 'min_child_weight': 3.2610273988033653}. Best is trial 52 with value: 0.9952581318878589.\n"
     ]
    },
    {
     "name": "stdout",
     "output_type": "stream",
     "text": [
      "Trial 58: AUC = 0.9936\n"
     ]
    },
    {
     "name": "stderr",
     "output_type": "stream",
     "text": [
      "[I 2025-05-26 08:00:17,539] Trial 59 finished with value: 0.9943036284266893 and parameters: {'learning_rate': 0.03475739863012543, 'n_estimators': 732, 'num_leaves': 53, 'max_depth': 10, 'min_child_samples': 24, 'subsample': 0.7200597094567767, 'colsample_bytree': 0.5365369179263845, 'reg_alpha': 2.0147551112406367e-07, 'reg_lambda': 0.002555852133803867, 'min_split_gain': 0.02378291272061467, 'min_child_weight': 0.30986576742404165}. Best is trial 52 with value: 0.9952581318878589.\n"
     ]
    },
    {
     "name": "stdout",
     "output_type": "stream",
     "text": [
      "Trial 59: AUC = 0.9943\n"
     ]
    },
    {
     "name": "stderr",
     "output_type": "stream",
     "text": [
      "[I 2025-05-26 08:00:17,958] Trial 60 finished with value: 0.992950685447325 and parameters: {'learning_rate': 0.06213854054027815, 'n_estimators': 707, 'num_leaves': 74, 'max_depth': 3, 'min_child_samples': 13, 'subsample': 0.7784659570775561, 'colsample_bytree': 0.644418602070712, 'reg_alpha': 2.0474685647242193e-08, 'reg_lambda': 0.4222119456480829, 'min_split_gain': 0.10467693962073082, 'min_child_weight': 5.043410444307185}. Best is trial 52 with value: 0.9952581318878589.\n"
     ]
    },
    {
     "name": "stdout",
     "output_type": "stream",
     "text": [
      "Trial 60: AUC = 0.9930\n"
     ]
    },
    {
     "name": "stderr",
     "output_type": "stream",
     "text": [
      "[I 2025-05-26 08:00:19,034] Trial 61 finished with value: 0.994829043175957 and parameters: {'learning_rate': 0.04675462895571993, 'n_estimators': 814, 'num_leaves': 103, 'max_depth': 6, 'min_child_samples': 19, 'subsample': 0.6277772174833381, 'colsample_bytree': 0.6265036011407542, 'reg_alpha': 9.591529282285172e-07, 'reg_lambda': 3.421720983686433, 'min_split_gain': 0.07080041022398359, 'min_child_weight': 5.7531755225004595}. Best is trial 52 with value: 0.9952581318878589.\n"
     ]
    },
    {
     "name": "stdout",
     "output_type": "stream",
     "text": [
      "Trial 61: AUC = 0.9948\n"
     ]
    },
    {
     "name": "stderr",
     "output_type": "stream",
     "text": [
      "[I 2025-05-26 08:00:19,704] Trial 62 finished with value: 0.995091750550591 and parameters: {'learning_rate': 0.07137997926450765, 'n_estimators': 770, 'num_leaves': 91, 'max_depth': 6, 'min_child_samples': 23, 'subsample': 0.602586278160572, 'colsample_bytree': 0.8210261359908062, 'reg_alpha': 5.004251552426748e-07, 'reg_lambda': 2.019654870479878, 'min_split_gain': 0.04447530671326592, 'min_child_weight': 9.949316843895126}. Best is trial 52 with value: 0.9952581318878589.\n"
     ]
    },
    {
     "name": "stdout",
     "output_type": "stream",
     "text": [
      "Trial 62: AUC = 0.9951\n"
     ]
    },
    {
     "name": "stderr",
     "output_type": "stream",
     "text": [
      "[I 2025-05-26 08:00:20,710] Trial 63 finished with value: 0.9952406180628833 and parameters: {'learning_rate': 0.08879360217977042, 'n_estimators': 764, 'num_leaves': 91, 'max_depth': 7, 'min_child_samples': 10, 'subsample': 0.5971379537762759, 'colsample_bytree': 0.8203055719419985, 'reg_alpha': 4.097457705557309e-07, 'reg_lambda': 0.817042167567644, 'min_split_gain': 0.0009817919552244005, 'min_child_weight': 2.5917697602975256}. Best is trial 52 with value: 0.9952581318878589.\n"
     ]
    },
    {
     "name": "stdout",
     "output_type": "stream",
     "text": [
      "Trial 63: AUC = 0.9952\n"
     ]
    },
    {
     "name": "stderr",
     "output_type": "stream",
     "text": [
      "[I 2025-05-26 08:00:21,469] Trial 64 finished with value: 0.9952493749753711 and parameters: {'learning_rate': 0.09333454859685593, 'n_estimators': 756, 'num_leaves': 91, 'max_depth': 7, 'min_child_samples': 35, 'subsample': 0.5944045216615186, 'colsample_bytree': 0.8203921070414689, 'reg_alpha': 5.574025712868153e-07, 'reg_lambda': 0.768909293873753, 'min_split_gain': 0.00024025835900459052, 'min_child_weight': 2.558331392824834}. Best is trial 52 with value: 0.9952581318878589.\n"
     ]
    },
    {
     "name": "stdout",
     "output_type": "stream",
     "text": [
      "Trial 64: AUC = 0.9952\n"
     ]
    },
    {
     "name": "stderr",
     "output_type": "stream",
     "text": [
      "[I 2025-05-26 08:00:22,832] Trial 65 finished with value: 0.9953894855751759 and parameters: {'learning_rate': 0.09048254603788866, 'n_estimators': 830, 'num_leaves': 114, 'max_depth': 7, 'min_child_samples': 35, 'subsample': 0.6758797600795653, 'colsample_bytree': 0.7487550589331418, 'reg_alpha': 4.976666242038977e-05, 'reg_lambda': 1.3638297095089973, 'min_split_gain': 1.5615989582620782e-06, 'min_child_weight': 0.7190097322655924}. Best is trial 65 with value: 0.9953894855751759.\n"
     ]
    },
    {
     "name": "stdout",
     "output_type": "stream",
     "text": [
      "Trial 65: AUC = 0.9954\n"
     ]
    },
    {
     "name": "stderr",
     "output_type": "stream",
     "text": [
      "[I 2025-05-26 08:00:23,662] Trial 66 finished with value: 0.9947327171385912 and parameters: {'learning_rate': 0.09040170463784111, 'n_estimators': 835, 'num_leaves': 110, 'max_depth': 7, 'min_child_samples': 36, 'subsample': 0.5951495489342956, 'colsample_bytree': 0.7357587014820062, 'reg_alpha': 5.228082520336859e-05, 'reg_lambda': 0.9974996930599701, 'min_split_gain': 0.0052117095194912045, 'min_child_weight': 0.5969135819746892}. Best is trial 65 with value: 0.9953894855751759.\n"
     ]
    },
    {
     "name": "stdout",
     "output_type": "stream",
     "text": [
      "Trial 66: AUC = 0.9947\n"
     ]
    },
    {
     "name": "stderr",
     "output_type": "stream",
     "text": [
      "[I 2025-05-26 08:00:24,313] Trial 67 finished with value: 0.9947808801572742 and parameters: {'learning_rate': 0.13241495606070783, 'n_estimators': 815, 'num_leaves': 93, 'max_depth': 9, 'min_child_samples': 44, 'subsample': 0.5667892914818562, 'colsample_bytree': 0.8486582477663617, 'reg_alpha': 4.4387992968521655e-07, 'reg_lambda': 0.15545106225929398, 'min_split_gain': 0.015619320353417308, 'min_child_weight': 1.0271095962836645}. Best is trial 65 with value: 0.9953894855751759.\n"
     ]
    },
    {
     "name": "stdout",
     "output_type": "stream",
     "text": [
      "Trial 67: AUC = 0.9948\n"
     ]
    },
    {
     "name": "stderr",
     "output_type": "stream",
     "text": [
      "[I 2025-05-26 08:00:25,001] Trial 68 finished with value: 0.9950742367256153 and parameters: {'learning_rate': 0.09147935854238329, 'n_estimators': 663, 'num_leaves': 114, 'max_depth': 7, 'min_child_samples': 30, 'subsample': 0.5249773911179773, 'colsample_bytree': 0.8260679617959603, 'reg_alpha': 8.662116233716251e-06, 'reg_lambda': 0.7090762920670394, 'min_split_gain': 0.04336465207319243, 'min_child_weight': 1.9849036728835416}. Best is trial 65 with value: 0.9953894855751759.\n"
     ]
    },
    {
     "name": "stdout",
     "output_type": "stream",
     "text": [
      "Trial 68: AUC = 0.9951\n"
     ]
    },
    {
     "name": "stderr",
     "output_type": "stream",
     "text": [
      "[I 2025-05-26 08:00:26,114] Trial 69 finished with value: 0.9951574273942494 and parameters: {'learning_rate': 0.07278185082812613, 'n_estimators': 777, 'num_leaves': 126, 'max_depth': 6, 'min_child_samples': 42, 'subsample': 0.680766902943366, 'colsample_bytree': 0.7630904626265534, 'reg_alpha': 4.548356932793652e-07, 'reg_lambda': 4.8444479697178675, 'min_split_gain': 0.037336872066932134, 'min_child_weight': 2.9291848411609434}. Best is trial 65 with value: 0.9953894855751759.\n"
     ]
    },
    {
     "name": "stdout",
     "output_type": "stream",
     "text": [
      "Trial 69: AUC = 0.9952\n"
     ]
    },
    {
     "name": "stderr",
     "output_type": "stream",
     "text": [
      "[I 2025-05-26 08:00:26,905] Trial 70 finished with value: 0.9963483674925895 and parameters: {'learning_rate': 0.15128047911968648, 'n_estimators': 959, 'num_leaves': 123, 'max_depth': 8, 'min_child_samples': 43, 'subsample': 0.7414841214931294, 'colsample_bytree': 0.7033127867988233, 'reg_alpha': 4.1359957209648704e-05, 'reg_lambda': 0.05910021367129849, 'min_split_gain': 0.00018577447907080786, 'min_child_weight': 2.6064189970278058}. Best is trial 70 with value: 0.9963483674925895.\n"
     ]
    },
    {
     "name": "stdout",
     "output_type": "stream",
     "text": [
      "Trial 70: AUC = 0.9963\n"
     ]
    },
    {
     "name": "stderr",
     "output_type": "stream",
     "text": [
      "[I 2025-05-26 08:00:28,196] Trial 71 finished with value: 0.995424513225127 and parameters: {'learning_rate': 0.084257415977523, 'n_estimators': 960, 'num_leaves': 143, 'max_depth': 8, 'min_child_samples': 43, 'subsample': 0.7354174808386497, 'colsample_bytree': 0.7535898348727397, 'reg_alpha': 3.285958690246621e-05, 'reg_lambda': 0.05656417353261594, 'min_split_gain': 0.0047047971167473255, 'min_child_weight': 2.8269375133940757}. Best is trial 70 with value: 0.9963483674925895.\n"
     ]
    },
    {
     "name": "stdout",
     "output_type": "stream",
     "text": [
      "Trial 71: AUC = 0.9954\n"
     ]
    },
    {
     "name": "stderr",
     "output_type": "stream",
     "text": [
      "[I 2025-05-26 08:00:28,979] Trial 72 finished with value: 0.9942029239330796 and parameters: {'learning_rate': 0.09575918066720278, 'n_estimators': 945, 'num_leaves': 128, 'max_depth': 10, 'min_child_samples': 49, 'subsample': 0.7392356256937336, 'colsample_bytree': 0.7451191921452113, 'reg_alpha': 6.27907257290364e-05, 'reg_lambda': 0.06983138745802485, 'min_split_gain': 0.029232114088589146, 'min_child_weight': 0.7684074434741699}. Best is trial 70 with value: 0.9963483674925895.\n"
     ]
    },
    {
     "name": "stdout",
     "output_type": "stream",
     "text": [
      "Trial 72: AUC = 0.9942\n"
     ]
    },
    {
     "name": "stderr",
     "output_type": "stream",
     "text": [
      "[I 2025-05-26 08:00:29,654] Trial 73 finished with value: 0.9949910460569813 and parameters: {'learning_rate': 0.15413633240010471, 'n_estimators': 974, 'num_leaves': 145, 'max_depth': 8, 'min_child_samples': 42, 'subsample': 0.679468808108187, 'colsample_bytree': 0.7071470333989246, 'reg_alpha': 1.7807906174560815e-05, 'reg_lambda': 0.010992880260019265, 'min_split_gain': 0.004884249892073931, 'min_child_weight': 1.4523174712091886}. Best is trial 70 with value: 0.9963483674925895.\n"
     ]
    },
    {
     "name": "stdout",
     "output_type": "stream",
     "text": [
      "Trial 73: AUC = 0.9950\n"
     ]
    },
    {
     "name": "stderr",
     "output_type": "stream",
     "text": [
      "[I 2025-05-26 08:00:31,305] Trial 74 finished with value: 0.9950129383382007 and parameters: {'learning_rate': 0.05846391961632094, 'n_estimators': 957, 'num_leaves': 123, 'max_depth': 8, 'min_child_samples': 36, 'subsample': 0.7103730764862869, 'colsample_bytree': 0.7612208454017068, 'reg_alpha': 7.082542288457962e-06, 'reg_lambda': 5.524294347542281, 'min_split_gain': 0.0014593199859832297, 'min_child_weight': 2.7671577381788466}. Best is trial 70 with value: 0.9963483674925895.\n"
     ]
    },
    {
     "name": "stdout",
     "output_type": "stream",
     "text": [
      "Trial 74: AUC = 0.9950\n"
     ]
    },
    {
     "name": "stderr",
     "output_type": "stream",
     "text": [
      "[I 2025-05-26 08:00:32,353] Trial 75 finished with value: 0.9947152033136157 and parameters: {'learning_rate': 0.08494139984048697, 'n_estimators': 904, 'num_leaves': 138, 'max_depth': 11, 'min_child_samples': 45, 'subsample': 0.7925290919585899, 'colsample_bytree': 0.775671895627433, 'reg_alpha': 0.00011559567289436435, 'reg_lambda': 0.536643719255704, 'min_split_gain': 0.023754160487591915, 'min_child_weight': 0.4074509023357235}. Best is trial 70 with value: 0.9963483674925895.\n"
     ]
    },
    {
     "name": "stdout",
     "output_type": "stream",
     "text": [
      "Trial 75: AUC = 0.9947\n"
     ]
    },
    {
     "name": "stderr",
     "output_type": "stream",
     "text": [
      "[I 2025-05-26 08:00:33,403] Trial 76 finished with value: 0.9941503824581528 and parameters: {'learning_rate': 0.07056944916371269, 'n_estimators': 733, 'num_leaves': 150, 'max_depth': 9, 'min_child_samples': 41, 'subsample': 0.7310470941176453, 'colsample_bytree': 0.699367122932701, 'reg_alpha': 3.5209193239943864e-05, 'reg_lambda': 1.2694338900583877, 'min_split_gain': 0.03714109342905454, 'min_child_weight': 0.2763938064160605}. Best is trial 70 with value: 0.9963483674925895.\n"
     ]
    },
    {
     "name": "stdout",
     "output_type": "stream",
     "text": [
      "Trial 76: AUC = 0.9942\n"
     ]
    },
    {
     "name": "stderr",
     "output_type": "stream",
     "text": [
      "[I 2025-05-26 08:00:33,690] Trial 77 finished with value: 0.993462964827861 and parameters: {'learning_rate': 0.12585770985349978, 'n_estimators': 840, 'num_leaves': 126, 'max_depth': 6, 'min_child_samples': 35, 'subsample': 0.8185946989792868, 'colsample_bytree': 0.6683980721965408, 'reg_alpha': 0.0002680225066455542, 'reg_lambda': 0.22782397499713133, 'min_split_gain': 0.44012595224627254, 'min_child_weight': 2.033183386846274}. Best is trial 70 with value: 0.9963483674925895.\n"
     ]
    },
    {
     "name": "stdout",
     "output_type": "stream",
     "text": [
      "Trial 77: AUC = 0.9935\n"
     ]
    },
    {
     "name": "stderr",
     "output_type": "stream",
     "text": [
      "[I 2025-05-26 08:00:34,389] Trial 78 finished with value: 0.9941766531956162 and parameters: {'learning_rate': 0.10008356640118869, 'n_estimators': 410, 'num_leaves': 110, 'max_depth': 7, 'min_child_samples': 53, 'subsample': 0.9917460929801163, 'colsample_bytree': 0.7932332508687328, 'reg_alpha': 7.456730603291751e-08, 'reg_lambda': 0.0003255928023411853, 'min_split_gain': 0.023228514601562708, 'min_child_weight': 0.07696710805367625}. Best is trial 70 with value: 0.9963483674925895.\n"
     ]
    },
    {
     "name": "stdout",
     "output_type": "stream",
     "text": [
      "Trial 78: AUC = 0.9942\n"
     ]
    },
    {
     "name": "stderr",
     "output_type": "stream",
     "text": [
      "[I 2025-05-26 08:00:34,875] Trial 79 finished with value: 0.995087372094347 and parameters: {'learning_rate': 0.22688034362354179, 'n_estimators': 899, 'num_leaves': 132, 'max_depth': 9, 'min_child_samples': 44, 'subsample': 0.7558071590583424, 'colsample_bytree': 0.7128805525102423, 'reg_alpha': 9.908684567418149e-05, 'reg_lambda': 0.045299599806716426, 'min_split_gain': 0.015996874817569787, 'min_child_weight': 3.8538852386568045}. Best is trial 70 with value: 0.9963483674925895.\n"
     ]
    },
    {
     "name": "stdout",
     "output_type": "stream",
     "text": [
      "Trial 79: AUC = 0.9951\n"
     ]
    },
    {
     "name": "stderr",
     "output_type": "stream",
     "text": [
      "[I 2025-05-26 08:00:35,657] Trial 80 finished with value: 0.9939577303834214 and parameters: {'learning_rate': 0.05856345447888215, 'n_estimators': 849, 'num_leaves': 140, 'max_depth': 6, 'min_child_samples': 47, 'subsample': 0.7050934968583651, 'colsample_bytree': 0.7463417490420717, 'reg_alpha': 1.6815313773883882e-06, 'reg_lambda': 0.09634689528325924, 'min_split_gain': 0.034700784017859185, 'min_child_weight': 1.1387920706365626}. Best is trial 70 with value: 0.9963483674925895.\n"
     ]
    },
    {
     "name": "stdout",
     "output_type": "stream",
     "text": [
      "Trial 80: AUC = 0.9940\n"
     ]
    },
    {
     "name": "stderr",
     "output_type": "stream",
     "text": [
      "[I 2025-05-26 08:00:36,258] Trial 81 finished with value: 0.994570714257567 and parameters: {'learning_rate': 0.07299399583936898, 'n_estimators': 809, 'num_leaves': 132, 'max_depth': 7, 'min_child_samples': 39, 'subsample': 0.6806609456106044, 'colsample_bytree': 0.7666636326822154, 'reg_alpha': 1.6940220201541898e-07, 'reg_lambda': 0.004773643460076629, 'min_split_gain': 0.0005760441172988625, 'min_child_weight': 2.944916238470491}. Best is trial 70 with value: 0.9963483674925895.\n"
     ]
    },
    {
     "name": "stdout",
     "output_type": "stream",
     "text": [
      "Trial 81: AUC = 0.9946\n"
     ]
    },
    {
     "name": "stderr",
     "output_type": "stream",
     "text": [
      "[I 2025-05-26 08:00:36,908] Trial 82 finished with value: 0.9959499279743949 and parameters: {'learning_rate': 0.28614444759532515, 'n_estimators': 778, 'num_leaves': 114, 'max_depth': 8, 'min_child_samples': 32, 'subsample': 0.6441301401011852, 'colsample_bytree': 0.8615624166828686, 'reg_alpha': 4.926163547700747e-06, 'reg_lambda': 5.066496931723624, 'min_split_gain': 0.009350354759763431, 'min_child_weight': 5.428782545393615}. Best is trial 70 with value: 0.9963483674925895.\n"
     ]
    },
    {
     "name": "stdout",
     "output_type": "stream",
     "text": [
      "Trial 82: AUC = 0.9959\n"
     ]
    },
    {
     "name": "stderr",
     "output_type": "stream",
     "text": [
      "[I 2025-05-26 08:00:37,802] Trial 83 finished with value: 0.9953457010127369 and parameters: {'learning_rate': 0.08174422749468373, 'n_estimators': 777, 'num_leaves': 114, 'max_depth': 8, 'min_child_samples': 28, 'subsample': 0.6478030786320337, 'colsample_bytree': 0.8047852803508662, 'reg_alpha': 5.787297802564842e-06, 'reg_lambda': 1.317944180456787, 'min_split_gain': 0.015312201982936898, 'min_child_weight': 5.559322066147812}. Best is trial 70 with value: 0.9963483674925895.\n"
     ]
    },
    {
     "name": "stdout",
     "output_type": "stream",
     "text": [
      "Trial 83: AUC = 0.9953\n"
     ]
    },
    {
     "name": "stderr",
     "output_type": "stream",
     "text": [
      "[I 2025-05-26 08:00:38,301] Trial 84 finished with value: 0.9946451480137133 and parameters: {'learning_rate': 0.20207357547609903, 'n_estimators': 862, 'num_leaves': 115, 'max_depth': 8, 'min_child_samples': 28, 'subsample': 0.6486363503577549, 'colsample_bytree': 0.8628488999029024, 'reg_alpha': 2.2285575182818123e-05, 'reg_lambda': 1.2472843540572152, 'min_split_gain': 0.07856146724154087, 'min_child_weight': 5.81460440389418}. Best is trial 70 with value: 0.9963483674925895.\n"
     ]
    },
    {
     "name": "stdout",
     "output_type": "stream",
     "text": [
      "Trial 84: AUC = 0.9946\n"
     ]
    },
    {
     "name": "stderr",
     "output_type": "stream",
     "text": [
      "[I 2025-05-26 08:00:38,939] Trial 85 finished with value: 0.995082993638103 and parameters: {'learning_rate': 0.10865662660847292, 'n_estimators': 929, 'num_leaves': 102, 'max_depth': 10, 'min_child_samples': 25, 'subsample': 0.6300420581932551, 'colsample_bytree': 0.8084843679344117, 'reg_alpha': 4.5937917002777225e-06, 'reg_lambda': 0.6159209943293895, 'min_split_gain': 0.013702322713192213, 'min_child_weight': 4.32094859433256}. Best is trial 70 with value: 0.9963483674925895.\n"
     ]
    },
    {
     "name": "stdout",
     "output_type": "stream",
     "text": [
      "Trial 85: AUC = 0.9951\n"
     ]
    },
    {
     "name": "stderr",
     "output_type": "stream",
     "text": [
      "[I 2025-05-26 08:00:39,285] Trial 86 finished with value: 0.9939533519271775 and parameters: {'learning_rate': 0.30356453360349794, 'n_estimators': 674, 'num_leaves': 114, 'max_depth': 9, 'min_child_samples': 32, 'subsample': 0.7698029345093873, 'colsample_bytree': 0.8546378125786023, 'reg_alpha': 2.2087977257776937e-05, 'reg_lambda': 4.383834027897987, 'min_split_gain': 0.05373533322540799, 'min_child_weight': 1.6097130672527478}. Best is trial 70 with value: 0.9963483674925895.\n"
     ]
    },
    {
     "name": "stdout",
     "output_type": "stream",
     "text": [
      "Trial 86: AUC = 0.9940\n"
     ]
    },
    {
     "name": "stderr",
     "output_type": "stream",
     "text": [
      "[I 2025-05-26 08:00:40,101] Trial 87 finished with value: 0.9948815846508837 and parameters: {'learning_rate': 0.08084595743016254, 'n_estimators': 743, 'num_leaves': 119, 'max_depth': 8, 'min_child_samples': 37, 'subsample': 0.5938621534129794, 'colsample_bytree': 0.8315524933145385, 'reg_alpha': 1.1175351384972926e-05, 'reg_lambda': 0.27586397429982407, 'min_split_gain': 0.0006338780740309869, 'min_child_weight': 2.2430748603119666}. Best is trial 70 with value: 0.9963483674925895.\n"
     ]
    },
    {
     "name": "stdout",
     "output_type": "stream",
     "text": [
      "Trial 87: AUC = 0.9949\n"
     ]
    },
    {
     "name": "stderr",
     "output_type": "stream",
     "text": [
      "[I 2025-05-26 08:00:40,494] Trial 88 finished with value: 0.9941766531956162 and parameters: {'learning_rate': 0.15381651256720494, 'n_estimators': 793, 'num_leaves': 122, 'max_depth': 7, 'min_child_samples': 34, 'subsample': 0.7419977129951275, 'colsample_bytree': 0.9135026031371859, 'reg_alpha': 0.0007723461748777718, 'reg_lambda': 1.5159071218988733e-05, 'min_split_gain': 0.019806506449755908, 'min_child_weight': 6.187977513938675}. Best is trial 70 with value: 0.9963483674925895.\n"
     ]
    },
    {
     "name": "stdout",
     "output_type": "stream",
     "text": [
      "Trial 88: AUC = 0.9942\n"
     ]
    },
    {
     "name": "stderr",
     "output_type": "stream",
     "text": [
      "[I 2025-05-26 08:00:41,251] Trial 89 finished with value: 0.9935242632152756 and parameters: {'learning_rate': 0.0882027709688479, 'n_estimators': 543, 'num_leaves': 107, 'max_depth': 8, 'min_child_samples': 5, 'subsample': 0.6643207826249632, 'colsample_bytree': 0.8384136284681447, 'reg_alpha': 5.7585311923937006e-06, 'reg_lambda': 0.15288598391674393, 'min_split_gain': 0.10233417504419401, 'min_child_weight': 0.7423746821361763}. Best is trial 70 with value: 0.9963483674925895.\n"
     ]
    },
    {
     "name": "stdout",
     "output_type": "stream",
     "text": [
      "Trial 89: AUC = 0.9935\n"
     ]
    },
    {
     "name": "stderr",
     "output_type": "stream",
     "text": [
      "[I 2025-05-26 08:00:41,560] Trial 90 finished with value: 0.9933228542280563 and parameters: {'learning_rate': 0.1210840293735221, 'n_estimators': 971, 'num_leaves': 101, 'max_depth': 9, 'min_child_samples': 50, 'subsample': 0.6162335428050904, 'colsample_bytree': 0.8006606475986509, 'reg_alpha': 1.96578866926762e-06, 'reg_lambda': 1.3361593185032554, 'min_split_gain': 0.4991218745377269, 'min_child_weight': 3.960709684468675}. Best is trial 70 with value: 0.9963483674925895.\n"
     ]
    },
    {
     "name": "stdout",
     "output_type": "stream",
     "text": [
      "Trial 90: AUC = 0.9933\n"
     ]
    },
    {
     "name": "stderr",
     "output_type": "stream",
     "text": [
      "[I 2025-05-26 08:00:42,389] Trial 91 finished with value: 0.9949209907570788 and parameters: {'learning_rate': 0.0997894300551564, 'n_estimators': 767, 'num_leaves': 130, 'max_depth': 6, 'min_child_samples': 40, 'subsample': 0.685267543739938, 'colsample_bytree': 0.7911681650083938, 'reg_alpha': 3.694528367105796e-07, 'reg_lambda': 3.683762125795874, 'min_split_gain': 0.029143182028672818, 'min_child_weight': 2.5706269968723703}. Best is trial 70 with value: 0.9963483674925895.\n"
     ]
    },
    {
     "name": "stdout",
     "output_type": "stream",
     "text": [
      "Trial 91: AUC = 0.9949\n"
     ]
    },
    {
     "name": "stderr",
     "output_type": "stream",
     "text": [
      "[I 2025-05-26 08:00:43,812] Trial 92 finished with value: 0.995170562762981 and parameters: {'learning_rate': 0.054071235569717005, 'n_estimators': 773, 'num_leaves': 125, 'max_depth': 7, 'min_child_samples': 31, 'subsample': 0.6461914412255949, 'colsample_bytree': 0.7816721361011809, 'reg_alpha': 3.217224161273597e-05, 'reg_lambda': 4.116780812536975, 'min_split_gain': 0.04063216073173339, 'min_child_weight': 1.2076300231031387}. Best is trial 70 with value: 0.9963483674925895.\n"
     ]
    },
    {
     "name": "stdout",
     "output_type": "stream",
     "text": [
      "Trial 92: AUC = 0.9952\n"
     ]
    },
    {
     "name": "stderr",
     "output_type": "stream",
     "text": [
      "[I 2025-05-26 08:00:45,167] Trial 93 finished with value: 0.9951574273942494 and parameters: {'learning_rate': 0.0578013416764741, 'n_estimators': 734, 'num_leaves': 135, 'max_depth': 7, 'min_child_samples': 29, 'subsample': 0.64450853900875, 'colsample_bytree': 0.778379718854099, 'reg_alpha': 3.5135801060164573e-05, 'reg_lambda': 0.9104052274599069, 'min_split_gain': 0.014570676250946846, 'min_child_weight': 1.214340706097724}. Best is trial 70 with value: 0.9963483674925895.\n"
     ]
    },
    {
     "name": "stdout",
     "output_type": "stream",
     "text": [
      "Trial 93: AUC = 0.9952\n"
     ]
    },
    {
     "name": "stderr",
     "output_type": "stream",
     "text": [
      "[I 2025-05-26 08:00:46,254] Trial 94 finished with value: 0.9944656313077135 and parameters: {'learning_rate': 0.08100631332872563, 'n_estimators': 714, 'num_leaves': 145, 'max_depth': 8, 'min_child_samples': 27, 'subsample': 0.7161068792770704, 'colsample_bytree': 0.73285146562119, 'reg_alpha': 7.017865345091128e-05, 'reg_lambda': 1.8496603422534257, 'min_split_gain': 0.04348232573670063, 'min_child_weight': 0.5284540483161211}. Best is trial 70 with value: 0.9963483674925895.\n"
     ]
    },
    {
     "name": "stdout",
     "output_type": "stream",
     "text": [
      "Trial 94: AUC = 0.9945\n"
     ]
    },
    {
     "name": "stderr",
     "output_type": "stream",
     "text": [
      "[I 2025-05-26 08:00:47,091] Trial 95 finished with value: 0.9940365425958115 and parameters: {'learning_rate': 0.053113433793661666, 'n_estimators': 679, 'num_leaves': 113, 'max_depth': 5, 'min_child_samples': 31, 'subsample': 0.7005457281794313, 'colsample_bytree': 0.7513931894844234, 'reg_alpha': 1.3643822718750453e-05, 'reg_lambda': 9.40654761227145, 'min_split_gain': 0.059836236477096974, 'min_child_weight': 0.014984065143371727}. Best is trial 70 with value: 0.9963483674925895.\n"
     ]
    },
    {
     "name": "stdout",
     "output_type": "stream",
     "text": [
      "Trial 95: AUC = 0.9940\n"
     ]
    },
    {
     "name": "stderr",
     "output_type": "stream",
     "text": [
      "[I 2025-05-26 08:00:47,694] Trial 96 finished with value: 0.9953238087315175 and parameters: {'learning_rate': 0.19191043837978913, 'n_estimators': 871, 'num_leaves': 57, 'max_depth': 7, 'min_child_samples': 33, 'subsample': 0.5740060307575685, 'colsample_bytree': 0.8168192905490533, 'reg_alpha': 0.00022929817080098264, 'reg_lambda': 0.4731512964231974, 'min_split_gain': 0.00991548495947982, 'min_child_weight': 6.232758910181253}. Best is trial 70 with value: 0.9963483674925895.\n"
     ]
    },
    {
     "name": "stdout",
     "output_type": "stream",
     "text": [
      "Trial 96: AUC = 0.9953\n"
     ]
    },
    {
     "name": "stderr",
     "output_type": "stream",
     "text": [
      "[I 2025-05-26 08:00:48,141] Trial 97 finished with value: 0.9952712672565908 and parameters: {'learning_rate': 0.27218342025514947, 'n_estimators': 832, 'num_leaves': 16, 'max_depth': 7, 'min_child_samples': 33, 'subsample': 0.5650150360909447, 'colsample_bytree': 0.8137863388557561, 'reg_alpha': 0.00021738187243771297, 'reg_lambda': 3.2062475821013527, 'min_split_gain': 0.011316129461318596, 'min_child_weight': 1.853399603884409}. Best is trial 70 with value: 0.9963483674925895.\n"
     ]
    },
    {
     "name": "stdout",
     "output_type": "stream",
     "text": [
      "Trial 97: AUC = 0.9953\n"
     ]
    },
    {
     "name": "stderr",
     "output_type": "stream",
     "text": [
      "[I 2025-05-26 08:00:48,553] Trial 98 finished with value: 0.9950829936381032 and parameters: {'learning_rate': 0.2642747717745093, 'n_estimators': 866, 'num_leaves': 24, 'max_depth': 9, 'min_child_samples': 34, 'subsample': 0.548847199549283, 'colsample_bytree': 0.817594959570833, 'reg_alpha': 0.0002659774483306308, 'reg_lambda': 0.3601554826511692, 'min_split_gain': 0.011903074039475346, 'min_child_weight': 6.655875394361833}. Best is trial 70 with value: 0.9963483674925895.\n"
     ]
    },
    {
     "name": "stdout",
     "output_type": "stream",
     "text": [
      "Trial 98: AUC = 0.9951\n"
     ]
    },
    {
     "name": "stderr",
     "output_type": "stream",
     "text": [
      "[I 2025-05-26 08:00:49,461] Trial 99 finished with value: 0.995643436037322 and parameters: {'learning_rate': 0.19824245381747566, 'n_estimators': 903, 'num_leaves': 17, 'max_depth': 7, 'min_child_samples': 38, 'subsample': 0.5704459830046474, 'colsample_bytree': 0.8047159490430255, 'reg_alpha': 0.0005993112752934348, 'reg_lambda': 0.4925960346974866, 'min_split_gain': 0.0002182552148434786, 'min_child_weight': 1.7380392109556881}. Best is trial 70 with value: 0.9963483674925895.\n"
     ]
    },
    {
     "name": "stdout",
     "output_type": "stream",
     "text": [
      "Trial 99: AUC = 0.9956\n",
      "调参完成! 耗时: 66.78秒\n",
      "\n",
      "===== 最佳参数 (AUC) =====\n",
      "最佳AUC分数: 0.9963\n",
      "最佳参数组合:\n",
      "    learning_rate: 0.15128047911968648\n",
      "    n_estimators: 959\n",
      "    num_leaves: 123\n",
      "    max_depth: 8\n",
      "    min_child_samples: 43\n",
      "    subsample: 0.7414841214931294\n",
      "    colsample_bytree: 0.7033127867988233\n",
      "    reg_alpha: 4.1359957209648704e-05\n",
      "    reg_lambda: 0.05910021367129849\n",
      "    min_split_gain: 0.00018577447907080786\n",
      "    min_child_weight: 2.6064189970278058\n",
      "\n",
      "===== 使用最佳参数训练最终LightGBM模型 =====\n",
      "Training until validation scores don't improve for 50 rounds\n",
      "Early stopping, best iteration is:\n",
      "[596]\tvalid_0's auc: 0.996348\n",
      "最终模型训练完成! 总耗时: 0.71秒\n",
      "实际迭代次数: 597\n",
      "平均每迭代时间: 0.0012秒\n",
      "\n",
      "最佳模型已保存到: ./lightgbm/models/lightgbm_auc.pkl\n",
      "特征列表已保存到: ./lightgbm/models/lightgbm_selected_features.txt\n",
      "\n",
      "===== LightGBM 在验证集上的性能 =====\n",
      "AUC: 0.9963\n",
      "Weighted F1 Score: 0.9640\n",
      "F1 Score: 0.9722\n",
      "Accuracy: 0.9640\n",
      "\n",
      "===== LightGBM 在测试集上的性能 =====\n",
      "AUC: 0.9971\n",
      "Weighted F1 Score: 0.9709\n",
      "F1 Score: 0.9771\n",
      "Accuracy: 0.9710\n"
     ]
    },
    {
     "data": {
      "text/plain": [
       "<Figure size 1200x800 with 0 Axes>"
      ]
     },
     "metadata": {},
     "output_type": "display_data"
    },
    {
     "data": {
      "text/plain": [
       "<Figure size 1200x800 with 0 Axes>"
      ]
     },
     "metadata": {},
     "output_type": "display_data"
    }
   ],
   "source": [
    "# 设置LightGBM的输出目录\n",
    "plots_dir = f'{base_dir}/lightgbm/plots'\n",
    "models_dir = f'{base_dir}/lightgbm/models'\n",
    "results_dir = f'{base_dir}/lightgbm/results'\n",
    "\n",
    "# 定义LightGBM的AUC优化目标函数\n",
    "def objective_lightgbm_auc(trial):\n",
    "    \"\"\"功Optuna优化目标函数 - 使用验证集上的AUC作为评价指标\"\"\"\n",
    "    # 定义LightGBM参数搜索空间\n",
    "    params = {\n",
    "        'objective': 'binary',\n",
    "        'metric': 'auc',\n",
    "        'boosting_type': 'gbdt',\n",
    "        'verbosity': -1,\n",
    "        \n",
    "        # 核心参数\n",
    "        'learning_rate': trial.suggest_float('learning_rate', 0.01, 0.5, log=True),\n",
    "        'n_estimators': trial.suggest_int('n_estimators', 30, 1000),\n",
    "        'num_leaves': trial.suggest_int('num_leaves', 10, 150),\n",
    "        'max_depth': trial.suggest_int('max_depth', 3, 20),\n",
    "        \n",
    "        # 正则化参数\n",
    "        'min_child_samples': trial.suggest_int('min_child_samples', 5, 100),\n",
    "        'subsample': trial.suggest_float('subsample', 0.5, 1.0),\n",
    "        'colsample_bytree': trial.suggest_float('colsample_bytree', 0.5, 1.0),\n",
    "        'reg_alpha': trial.suggest_float('reg_alpha', 1e-8, 10.0, log=True),\n",
    "        'reg_lambda': trial.suggest_float('reg_lambda', 1e-8, 10.0, log=True),\n",
    "        \n",
    "        # 其他参数\n",
    "        'min_split_gain': trial.suggest_float('min_split_gain', 0, 0.5),\n",
    "        'min_child_weight': trial.suggest_float('min_child_weight', 1e-5, 10.0, log=True),\n",
    "        \n",
    "        # CPU并行参数\n",
    "        'n_jobs': n_proc,    # 使用全局设置的线程数\n",
    "\n",
    "        'random_state': 42\n",
    "    }\n",
    "    \n",
    "    # 创建LightGBM模型\n",
    "    model = lgb.LGBMClassifier(**params)\n",
    "    \n",
    "    # 在训练集上训练模型，使用验证集进行早停\n",
    "    model.fit(\n",
    "        X_train_final, y_train,\n",
    "        eval_set=[(X_val_final, y_val)],\n",
    "        eval_metric='auc',\n",
    "        callbacks=[lgb.early_stopping(stopping_rounds=50, verbose=False)]\n",
    "    )\n",
    "    \n",
    "    # 在验证集上预测\n",
    "    y_val_prob = model.predict_proba(X_val_final)[:, 1]\n",
    "    \n",
    "    # 计算AUC分数\n",
    "    auc_score = roc_auc_score(y_val, y_val_prob)\n",
    "    \n",
    "    # 打印当前试验的结果\n",
    "    print(f\"Trial {trial.number}: AUC = {auc_score:.4f}\")\n",
    "    \n",
    "    return auc_score\n",
    "\n",
    "# 创建 Optuna study对象 - 优化方向是最大化AUC\n",
    "print(\"\\n===== 开始LightGBM模型的Optuna调参过程 (AUC) =====\")\n",
    "lightgbm_study_auc = optuna.create_study(direction='maximize', study_name='lightgbm_auc_optimization')\n",
    "\n",
    "# 运行优化\n",
    "print(f\"开始运行 {n_trials_optuna} 次调参试验...\")\n",
    "start_time = time.time()\n",
    "lightgbm_study_auc.optimize(objective_lightgbm_auc, n_trials=n_trials_optuna)\n",
    "end_time = time.time()\n",
    "print(f\"调参完成! 耗时: {end_time - start_time:.2f}秒\")\n",
    "\n",
    "# 打印最佳参数和结果\n",
    "print(\"\\n===== 最佳参数 (AUC) =====\")\n",
    "print(f\"最佳AUC分数: {lightgbm_study_auc.best_value:.4f}\")\n",
    "print(\"最佳参数组合:\")\n",
    "for key, value in lightgbm_study_auc.best_params.items():\n",
    "    print(f\"    {key}: {value}\")\n",
    "\n",
    "# 可视化调参过程\n",
    "plt.figure(figsize=(12, 8))\n",
    "optuna.visualization.matplotlib.plot_optimization_history(lightgbm_study_auc)\n",
    "plt.title('LightGBM Optimization History - AUC')\n",
    "plt.tight_layout()\n",
    "plt.savefig(f'{plots_dir}/optuna_lightgbm_auc_history.png')\n",
    "plt.close()\n",
    "\n",
    "# 可视化超参数重要性\n",
    "plt.figure(figsize=(12, 8))\n",
    "optuna.visualization.matplotlib.plot_param_importances(lightgbm_study_auc)\n",
    "plt.tight_layout()\n",
    "plt.savefig(f'{plots_dir}/optuna_lightgbm_auc_param_importances.png')\n",
    "plt.close()\n",
    "\n",
    "# 使用最佳参数训练最终模型\n",
    "print(\"\\n===== 使用最佳参数训练最终LightGBM模型 =====\")\n",
    "best_params_lightgbm = lightgbm_study_auc.best_params.copy()\n",
    "best_params_lightgbm['objective'] = 'binary'\n",
    "best_params_lightgbm['metric'] = 'auc'\n",
    "best_params_lightgbm['boosting_type'] = 'gbdt'\n",
    "best_params_lightgbm['random_state'] = 42\n",
    "best_params_lightgbm['verbosity'] = -1\n",
    "best_params_lightgbm['n_jobs'] = n_proc\n",
    "\n",
    "final_lightgbm_model = lgb.LGBMClassifier(**best_params_lightgbm)\n",
    "\n",
    "# 记录训练时间和迭代次数\n",
    "start_time = time.time()\n",
    "eval_result = {}\n",
    "final_lightgbm_model.fit(\n",
    "    X_train_final, y_train,\n",
    "    eval_set=[(X_val_final, y_val)],\n",
    "    eval_metric='auc',\n",
    "    callbacks=[lgb.early_stopping(stopping_rounds=50, verbose=True),\n",
    "               lgb.record_evaluation(eval_result)]\n",
    ")\n",
    "end_time = time.time()\n",
    "\n",
    "# 计算平均每迭代训练时间\n",
    "training_time = end_time - start_time\n",
    "actual_iterations = final_lightgbm_model.best_iteration_ + 1  # +1因为从LightGBM的文档来看，迭代从1开始\n",
    "avg_time_per_iteration = training_time / actual_iterations\n",
    "\n",
    "print(f\"最终模型训练完成! 总耗时: {training_time:.2f}秒\")\n",
    "print(f\"实际迭代次数: {actual_iterations}\")\n",
    "print(f\"平均每迭代时间: {avg_time_per_iteration:.4f}秒\")\n",
    "\n",
    "# 保存训练时间指标\n",
    "lightgbm_time_metrics = {\n",
    "    'model': 'LightGBM',\n",
    "    'total_training_time': training_time,\n",
    "    'iterations': actual_iterations,\n",
    "    'avg_time_per_iteration': avg_time_per_iteration\n",
    "}\n",
    "\n",
    "# 保存最佳模型\n",
    "model_path = f'{models_dir}/lightgbm_auc.pkl'\n",
    "joblib.dump(final_lightgbm_model, model_path)\n",
    "print(f\"\\n最佳模型已保存到: {model_path}\")\n",
    "\n",
    "# 保存所选特征列表\n",
    "with open(f'{models_dir}/lightgbm_selected_features.txt', 'w') as f:\n",
    "    f.write('\\n'.join(selected_features))\n",
    "print(f\"特征列表已保存到: {models_dir}/lightgbm_selected_features.txt\")\n",
    "\n",
    "# 使用评估函数评估模型\n",
    "lightgbm_results = evaluate_model(\n",
    "    final_lightgbm_model, \n",
    "    X_train_final, y_train, \n",
    "    X_val_final, y_val, \n",
    "    X_test_final, y_test,\n",
    "    \"LightGBM\"\n",
    ")\n",
    "\n",
    "# 将时间指标添加到结果中\n",
    "lightgbm_results['time_metrics'] = lightgbm_time_metrics"
   ]
  },
  {
   "cell_type": "markdown",
   "id": "141bdfd5",
   "metadata": {},
   "source": [
    "## 9. 使用XGBoost训练模型 (AUC优化)"
   ]
  },
  {
   "cell_type": "code",
   "execution_count": 40,
   "id": "9c583eae",
   "metadata": {},
   "outputs": [
    {
     "name": "stderr",
     "output_type": "stream",
     "text": [
      "[I 2025-05-26 08:00:51,726] A new study created in memory with name: xgboost_auc_optimization\n"
     ]
    },
    {
     "name": "stdout",
     "output_type": "stream",
     "text": [
      "\n",
      "===== 开始XGBoost模型的Optuna调参过程 (AUC) =====\n",
      "开始运行 100 次调参试验...\n"
     ]
    },
    {
     "name": "stderr",
     "output_type": "stream",
     "text": [
      "[I 2025-05-26 08:00:52,661] Trial 0 finished with value: 0.9901528519074745 and parameters: {'learning_rate': 0.020404764106607638, 'max_depth': 7, 'min_child_weight': 8.627097843464828, 'subsample': 0.9288362380165986, 'colsample_bytree': 0.866737920825202, 'gamma': 7.8309224788572624, 'alpha': 9.235045023764514e-05, 'lambda': 0.02931234209965625, 'scale_pos_weight': 2.7878459668511697}. Best is trial 0 with value: 0.9901528519074745.\n"
     ]
    },
    {
     "name": "stdout",
     "output_type": "stream",
     "text": [
      "Trial 0: AUC = 0.9902\n"
     ]
    },
    {
     "name": "stderr",
     "output_type": "stream",
     "text": [
      "[I 2025-05-26 08:00:52,933] Trial 1 finished with value: 0.9874951289674287 and parameters: {'learning_rate': 0.21529166135407277, 'max_depth': 10, 'min_child_weight': 3.4911110742464877, 'subsample': 0.9171675817419336, 'colsample_bytree': 0.8968101583346572, 'gamma': 6.145942093716311, 'alpha': 6.047881429463523e-07, 'lambda': 4.246996389692767e-05, 'scale_pos_weight': 1.1803531579424458}. Best is trial 0 with value: 0.9901528519074745.\n"
     ]
    },
    {
     "name": "stdout",
     "output_type": "stream",
     "text": [
      "Trial 1: AUC = 0.9875\n"
     ]
    },
    {
     "name": "stderr",
     "output_type": "stream",
     "text": [
      "[I 2025-05-26 08:00:54,089] Trial 2 finished with value: 0.9916327701179118 and parameters: {'learning_rate': 0.018156267909662002, 'max_depth': 10, 'min_child_weight': 2.3724148314143276, 'subsample': 0.6207431041247772, 'colsample_bytree': 0.6795702758617584, 'gamma': 6.011354620769646, 'alpha': 0.0005868938548746084, 'lambda': 2.731559667823376e-07, 'scale_pos_weight': 7.334830925794724}. Best is trial 2 with value: 0.9916327701179118.\n"
     ]
    },
    {
     "name": "stdout",
     "output_type": "stream",
     "text": [
      "Trial 2: AUC = 0.9916\n"
     ]
    },
    {
     "name": "stderr",
     "output_type": "stream",
     "text": [
      "[I 2025-05-26 08:00:54,378] Trial 3 finished with value: 0.9898376030579139 and parameters: {'learning_rate': 0.3132169363695851, 'max_depth': 9, 'min_child_weight': 8.949220170231236, 'subsample': 0.941348904981693, 'colsample_bytree': 0.8365931746727657, 'gamma': 3.3432493206836025, 'alpha': 1.0892415279415237, 'lambda': 7.470640464364658e-08, 'scale_pos_weight': 7.964233606176653}. Best is trial 2 with value: 0.9916327701179118.\n"
     ]
    },
    {
     "name": "stdout",
     "output_type": "stream",
     "text": [
      "Trial 3: AUC = 0.9898\n"
     ]
    },
    {
     "name": "stderr",
     "output_type": "stream",
     "text": [
      "[I 2025-05-26 08:00:54,955] Trial 4 finished with value: 0.9944087113765429 and parameters: {'learning_rate': 0.189473513534168, 'max_depth': 11, 'min_child_weight': 4.948476102706056, 'subsample': 0.6828782741508806, 'colsample_bytree': 0.6234471981303722, 'gamma': 0.604435141675419, 'alpha': 2.6286641546680918e-08, 'lambda': 0.14271964889166225, 'scale_pos_weight': 4.125879960743198}. Best is trial 4 with value: 0.9944087113765429.\n"
     ]
    },
    {
     "name": "stdout",
     "output_type": "stream",
     "text": [
      "Trial 4: AUC = 0.9944\n"
     ]
    },
    {
     "name": "stderr",
     "output_type": "stream",
     "text": [
      "[I 2025-05-26 08:00:55,483] Trial 5 finished with value: 0.9902929625072793 and parameters: {'learning_rate': 0.042841767391071976, 'max_depth': 8, 'min_child_weight': 1.8603366326784672, 'subsample': 0.9374581570664343, 'colsample_bytree': 0.5416282252272968, 'gamma': 7.689958993803938, 'alpha': 5.781641195473692e-08, 'lambda': 0.43355856900677264, 'scale_pos_weight': 4.15546150649537}. Best is trial 4 with value: 0.9944087113765429.\n"
     ]
    },
    {
     "name": "stdout",
     "output_type": "stream",
     "text": [
      "Trial 5: AUC = 0.9903\n"
     ]
    },
    {
     "name": "stderr",
     "output_type": "stream",
     "text": [
      "[I 2025-05-26 08:00:55,914] Trial 6 finished with value: 0.9924734337167401 and parameters: {'learning_rate': 0.11595221607039494, 'max_depth': 9, 'min_child_weight': 2.6091418489108715, 'subsample': 0.8036657096144613, 'colsample_bytree': 0.5452728080411987, 'gamma': 1.286563593190475, 'alpha': 1.6404719182335636e-07, 'lambda': 1.722239083809672e-07, 'scale_pos_weight': 5.1274088047058495}. Best is trial 4 with value: 0.9944087113765429.\n"
     ]
    },
    {
     "name": "stdout",
     "output_type": "stream",
     "text": [
      "Trial 6: AUC = 0.9925\n"
     ]
    },
    {
     "name": "stderr",
     "output_type": "stream",
     "text": [
      "[I 2025-05-26 08:00:57,903] Trial 7 finished with value: 0.9947546094198108 and parameters: {'learning_rate': 0.033780781089440506, 'max_depth': 7, 'min_child_weight': 6.5128560486870235, 'subsample': 0.9964229330872374, 'colsample_bytree': 0.7651395333553255, 'gamma': 0.21822756280481692, 'alpha': 3.889398105392465e-05, 'lambda': 1.5753305181968995e-08, 'scale_pos_weight': 3.5191584927092}. Best is trial 7 with value: 0.9947546094198108.\n"
     ]
    },
    {
     "name": "stdout",
     "output_type": "stream",
     "text": [
      "Trial 7: AUC = 0.9948\n"
     ]
    },
    {
     "name": "stderr",
     "output_type": "stream",
     "text": [
      "[I 2025-05-26 08:00:58,246] Trial 8 finished with value: 0.9913087643558635 and parameters: {'learning_rate': 0.1375432766081786, 'max_depth': 4, 'min_child_weight': 4.396179987396292, 'subsample': 0.6720527994108091, 'colsample_bytree': 0.5273787367072853, 'gamma': 8.032012511926661, 'alpha': 0.008719433279062112, 'lambda': 0.20278958856453347, 'scale_pos_weight': 3.676115349630982}. Best is trial 7 with value: 0.9947546094198108.\n"
     ]
    },
    {
     "name": "stdout",
     "output_type": "stream",
     "text": [
      "Trial 8: AUC = 0.9913\n"
     ]
    },
    {
     "name": "stderr",
     "output_type": "stream",
     "text": [
      "[I 2025-05-26 08:00:58,605] Trial 9 finished with value: 0.9900871750638159 and parameters: {'learning_rate': 0.14166109542979144, 'max_depth': 10, 'min_child_weight': 8.655387753399365, 'subsample': 0.5556678080813886, 'colsample_bytree': 0.5432893470439729, 'gamma': 9.067154269980872, 'alpha': 0.5758051647859939, 'lambda': 2.0109129299937358e-07, 'scale_pos_weight': 2.584868780353094}. Best is trial 7 with value: 0.9947546094198108.\n"
     ]
    },
    {
     "name": "stdout",
     "output_type": "stream",
     "text": [
      "Trial 9: AUC = 0.9901\n"
     ]
    },
    {
     "name": "stderr",
     "output_type": "stream",
     "text": [
      "[I 2025-05-26 08:01:00,210] Trial 10 finished with value: 0.9869522003931854 and parameters: {'learning_rate': 0.010115895094066069, 'max_depth': 5, 'min_child_weight': 6.655358672452778, 'subsample': 0.8364616848761088, 'colsample_bytree': 0.9687249409868937, 'gamma': 3.145854737789958, 'alpha': 1.3059939766873422e-05, 'lambda': 5.36325794038091e-05, 'scale_pos_weight': 0.1500928948732918}. Best is trial 7 with value: 0.9947546094198108.\n"
     ]
    },
    {
     "name": "stdout",
     "output_type": "stream",
     "text": [
      "Trial 10: AUC = 0.9870\n"
     ]
    },
    {
     "name": "stderr",
     "output_type": "stream",
     "text": [
      "[I 2025-05-26 08:01:01,324] Trial 11 finished with value: 0.9952756457128344 and parameters: {'learning_rate': 0.05418314971801992, 'max_depth': 12, 'min_child_weight': 6.077097670124222, 'subsample': 0.6904384638283692, 'colsample_bytree': 0.7047280480676841, 'gamma': 0.07856661275546983, 'alpha': 4.036366754267006e-06, 'lambda': 0.002588869643002806, 'scale_pos_weight': 5.889260044182587}. Best is trial 11 with value: 0.9952756457128344.\n"
     ]
    },
    {
     "name": "stdout",
     "output_type": "stream",
     "text": [
      "Trial 11: AUC = 0.9953\n"
     ]
    },
    {
     "name": "stderr",
     "output_type": "stream",
     "text": [
      "[I 2025-05-26 08:01:02,045] Trial 12 finished with value: 0.9940190287708359 and parameters: {'learning_rate': 0.047513406080427485, 'max_depth': 12, 'min_child_weight': 6.6734290753195635, 'subsample': 0.7459565753060416, 'colsample_bytree': 0.7619354334270345, 'gamma': 2.227814055857359, 'alpha': 8.903385825389694e-06, 'lambda': 0.0013841960006173856, 'scale_pos_weight': 6.005532279230639}. Best is trial 11 with value: 0.9952756457128344.\n"
     ]
    },
    {
     "name": "stdout",
     "output_type": "stream",
     "text": [
      "Trial 12: AUC = 0.9940\n"
     ]
    },
    {
     "name": "stderr",
     "output_type": "stream",
     "text": [
      "[I 2025-05-26 08:01:03,022] Trial 13 finished with value: 0.9956609498622976 and parameters: {'learning_rate': 0.0632823083524439, 'max_depth': 6, 'min_child_weight': 6.547312663997532, 'subsample': 0.514196204417628, 'colsample_bytree': 0.7476013630329735, 'gamma': 0.04636328736939671, 'alpha': 0.006289887781554713, 'lambda': 0.0019048993067837948, 'scale_pos_weight': 6.450998851793865}. Best is trial 13 with value: 0.9956609498622976.\n"
     ]
    },
    {
     "name": "stdout",
     "output_type": "stream",
     "text": [
      "Trial 13: AUC = 0.9957\n"
     ]
    },
    {
     "name": "stderr",
     "output_type": "stream",
     "text": [
      "[I 2025-05-26 08:01:03,796] Trial 14 finished with value: 0.9940803271582506 and parameters: {'learning_rate': 0.07579718439654144, 'max_depth': 5, 'min_child_weight': 7.608557283117144, 'subsample': 0.5137097865816882, 'colsample_bytree': 0.6864404151653536, 'gamma': 4.205109377662214, 'alpha': 0.008854728471322995, 'lambda': 7.192391664173305, 'scale_pos_weight': 8.84630575596594}. Best is trial 13 with value: 0.9956609498622976.\n"
     ]
    },
    {
     "name": "stdout",
     "output_type": "stream",
     "text": [
      "Trial 14: AUC = 0.9941\n"
     ]
    },
    {
     "name": "stderr",
     "output_type": "stream",
     "text": [
      "[I 2025-05-26 08:01:04,471] Trial 15 finished with value: 0.9940759487020067 and parameters: {'learning_rate': 0.07078283804371426, 'max_depth': 6, 'min_child_weight': 5.696729275342419, 'subsample': 0.5971625716952536, 'colsample_bytree': 0.6943211167490967, 'gamma': 1.9788253608946547, 'alpha': 0.0025623557523214375, 'lambda': 0.0013269086334031276, 'scale_pos_weight': 6.680317644391916}. Best is trial 13 with value: 0.9956609498622976.\n"
     ]
    },
    {
     "name": "stdout",
     "output_type": "stream",
     "text": [
      "Trial 15: AUC = 0.9941\n"
     ]
    },
    {
     "name": "stderr",
     "output_type": "stream",
     "text": [
      "[I 2025-05-26 08:01:06,282] Trial 16 finished with value: 0.9955908945623952 and parameters: {'learning_rate': 0.027030850114829794, 'max_depth': 12, 'min_child_weight': 9.7078306997681, 'subsample': 0.502731351848516, 'colsample_bytree': 0.8090846957762168, 'gamma': 1.363669325553363, 'alpha': 0.06054275441822256, 'lambda': 7.772126633476904e-06, 'scale_pos_weight': 9.795604986836754}. Best is trial 13 with value: 0.9956609498622976.\n"
     ]
    },
    {
     "name": "stdout",
     "output_type": "stream",
     "text": [
      "Trial 16: AUC = 0.9956\n"
     ]
    },
    {
     "name": "stderr",
     "output_type": "stream",
     "text": [
      "[I 2025-05-26 08:01:07,672] Trial 17 finished with value: 0.9939664872959093 and parameters: {'learning_rate': 0.025700504693664226, 'max_depth': 4, 'min_child_weight': 9.942680802948043, 'subsample': 0.5138258218913117, 'colsample_bytree': 0.8072733601526078, 'gamma': 1.5049330722705219, 'alpha': 0.13531305935265617, 'lambda': 1.5597636804011483e-05, 'scale_pos_weight': 9.779809193355327}. Best is trial 13 with value: 0.9956609498622976.\n"
     ]
    },
    {
     "name": "stdout",
     "output_type": "stream",
     "text": [
      "Trial 17: AUC = 0.9940\n"
     ]
    },
    {
     "name": "stderr",
     "output_type": "stream",
     "text": [
      "[I 2025-05-26 08:01:10,098] Trial 18 finished with value: 0.9910197862437662 and parameters: {'learning_rate': 0.010610730752975124, 'max_depth': 3, 'min_child_weight': 7.7017034448074115, 'subsample': 0.5789907339626533, 'colsample_bytree': 0.9475015674469933, 'gamma': 2.743211858294175, 'alpha': 0.07315006148174387, 'lambda': 7.550151347830057e-06, 'scale_pos_weight': 9.805833840535199}. Best is trial 13 with value: 0.9956609498622976.\n"
     ]
    },
    {
     "name": "stdout",
     "output_type": "stream",
     "text": [
      "Trial 18: AUC = 0.9910\n"
     ]
    },
    {
     "name": "stderr",
     "output_type": "stream",
     "text": [
      "[I 2025-05-26 08:01:10,510] Trial 19 finished with value: 0.9891414285151341 and parameters: {'learning_rate': 0.4685158702732784, 'max_depth': 8, 'min_child_weight': 9.948049422975036, 'subsample': 0.6405085614391881, 'colsample_bytree': 0.6220384862377855, 'gamma': 4.467070693245278, 'alpha': 3.539725638354202, 'lambda': 1.5626079819616938e-06, 'scale_pos_weight': 8.044306509425619}. Best is trial 13 with value: 0.9956609498622976.\n"
     ]
    },
    {
     "name": "stdout",
     "output_type": "stream",
     "text": [
      "Trial 19: AUC = 0.9891\n"
     ]
    },
    {
     "name": "stderr",
     "output_type": "stream",
     "text": [
      "[I 2025-05-26 08:01:11,217] Trial 20 finished with value: 0.9950479659881519 and parameters: {'learning_rate': 0.09553717390612787, 'max_depth': 6, 'min_child_weight': 3.804102607559309, 'subsample': 0.5078752690207727, 'colsample_bytree': 0.8033163785520124, 'gamma': 0.9640094864402784, 'alpha': 0.05639408889884366, 'lambda': 0.0001768253082385476, 'scale_pos_weight': 8.697658037595028}. Best is trial 13 with value: 0.9956609498622976.\n"
     ]
    },
    {
     "name": "stdout",
     "output_type": "stream",
     "text": [
      "Trial 20: AUC = 0.9950\n"
     ]
    },
    {
     "name": "stderr",
     "output_type": "stream",
     "text": [
      "[I 2025-05-26 08:01:12,358] Trial 21 finished with value: 0.9944787666764453 and parameters: {'learning_rate': 0.03432376889395235, 'max_depth': 12, 'min_child_weight': 5.843599772806065, 'subsample': 0.7328413946581525, 'colsample_bytree': 0.7314370314356244, 'gamma': 0.10204598634318814, 'alpha': 2.1351955687469957e-06, 'lambda': 0.005624175677976515, 'scale_pos_weight': 5.519115981990772}. Best is trial 13 with value: 0.9956609498622976.\n"
     ]
    },
    {
     "name": "stdout",
     "output_type": "stream",
     "text": [
      "Trial 21: AUC = 0.9945\n"
     ]
    },
    {
     "name": "stderr",
     "output_type": "stream",
     "text": [
      "[I 2025-05-26 08:01:13,740] Trial 22 finished with value: 0.9957966820058584 and parameters: {'learning_rate': 0.05069996975532037, 'max_depth': 12, 'min_child_weight': 8.046118203310337, 'subsample': 0.5522438476565157, 'colsample_bytree': 0.6399805013708895, 'gamma': 0.18287184576350457, 'alpha': 0.0014966679590913273, 'lambda': 0.0005081501621953559, 'scale_pos_weight': 6.295930515442717}. Best is trial 22 with value: 0.9957966820058584.\n"
     ]
    },
    {
     "name": "stdout",
     "output_type": "stream",
     "text": [
      "Trial 22: AUC = 0.9958\n"
     ]
    },
    {
     "name": "stderr",
     "output_type": "stream",
     "text": [
      "[I 2025-05-26 08:01:16,288] Trial 23 finished with value: 0.994833421632201 and parameters: {'learning_rate': 0.0152592601472277, 'max_depth': 11, 'min_child_weight': 7.705338150442945, 'subsample': 0.5540107658295651, 'colsample_bytree': 0.6379642218514021, 'gamma': 1.704924573505477, 'alpha': 0.0007023420277005648, 'lambda': 4.068280935485883e-06, 'scale_pos_weight': 6.637861860362142}. Best is trial 22 with value: 0.9957966820058584.\n"
     ]
    },
    {
     "name": "stdout",
     "output_type": "stream",
     "text": [
      "Trial 23: AUC = 0.9948\n"
     ]
    },
    {
     "name": "stderr",
     "output_type": "stream",
     "text": [
      "[I 2025-05-26 08:01:18,094] Trial 24 finished with value: 0.9951399135692738 and parameters: {'learning_rate': 0.028070436260822264, 'max_depth': 11, 'min_child_weight': 9.134046941542625, 'subsample': 0.5561015457455023, 'colsample_bytree': 0.5960008985631182, 'gamma': 0.9701546587782706, 'alpha': 0.010876214328908921, 'lambda': 0.00024193671050263507, 'scale_pos_weight': 6.921639855671527}. Best is trial 22 with value: 0.9957966820058584.\n"
     ]
    },
    {
     "name": "stdout",
     "output_type": "stream",
     "text": [
      "Trial 24: AUC = 0.9951\n"
     ]
    },
    {
     "name": "stderr",
     "output_type": "stream",
     "text": [
      "[I 2025-05-26 08:01:18,814] Trial 25 finished with value: 0.9941372470894212 and parameters: {'learning_rate': 0.057117230564143036, 'max_depth': 9, 'min_child_weight': 7.293739594778192, 'subsample': 0.5015593842265417, 'colsample_bytree': 0.7910559535750689, 'gamma': 2.449523801614197, 'alpha': 0.00015676915812784162, 'lambda': 0.012512485359022933, 'scale_pos_weight': 7.769834522474904}. Best is trial 22 with value: 0.9957966820058584.\n"
     ]
    },
    {
     "name": "stdout",
     "output_type": "stream",
     "text": [
      "Trial 25: AUC = 0.9941\n"
     ]
    },
    {
     "name": "stderr",
     "output_type": "stream",
     "text": [
      "[I 2025-05-26 08:01:19,451] Trial 26 finished with value: 0.9937825921336655 and parameters: {'learning_rate': 0.0878965321200659, 'max_depth': 12, 'min_child_weight': 8.320777289647818, 'subsample': 0.6232435565390133, 'colsample_bytree': 0.8990624884358978, 'gamma': 3.5372543767830384, 'alpha': 0.0024320968814416275, 'lambda': 0.0003777922580773519, 'scale_pos_weight': 9.014447408018283}. Best is trial 22 with value: 0.9957966820058584.\n"
     ]
    },
    {
     "name": "stdout",
     "output_type": "stream",
     "text": [
      "Trial 26: AUC = 0.9938\n"
     ]
    },
    {
     "name": "stderr",
     "output_type": "stream",
     "text": [
      "[I 2025-05-26 08:01:21,041] Trial 27 finished with value: 0.9953632148377125 and parameters: {'learning_rate': 0.041894644500135095, 'max_depth': 6, 'min_child_weight': 9.325641002864314, 'subsample': 0.5482814398754902, 'colsample_bytree': 0.7328090423551823, 'gamma': 1.0354123155023438, 'alpha': 0.027536915233803114, 'lambda': 1.409603675983585e-06, 'scale_pos_weight': 4.746988332637122}. Best is trial 22 with value: 0.9957966820058584.\n"
     ]
    },
    {
     "name": "stdout",
     "output_type": "stream",
     "text": [
      "Trial 27: AUC = 0.9954\n"
     ]
    },
    {
     "name": "stderr",
     "output_type": "stream",
     "text": [
      "[I 2025-05-26 08:01:21,790] Trial 28 finished with value: 0.9911029769124002 and parameters: {'learning_rate': 0.05874059723169732, 'max_depth': 11, 'min_child_weight': 8.153887793531855, 'subsample': 0.5802073605907418, 'colsample_bytree': 0.6522365073736206, 'gamma': 5.304399030047321, 'alpha': 7.556431593262912, 'lambda': 0.030949914880729314, 'scale_pos_weight': 6.504781488604828}. Best is trial 22 with value: 0.9957966820058584.\n"
     ]
    },
    {
     "name": "stdout",
     "output_type": "stream",
     "text": [
      "Trial 28: AUC = 0.9911\n"
     ]
    },
    {
     "name": "stderr",
     "output_type": "stream",
     "text": [
      "[I 2025-05-26 08:01:23,850] Trial 29 finished with value: 0.9953369441002492 and parameters: {'learning_rate': 0.0238382617030475, 'max_depth': 7, 'min_child_weight': 9.489885364131906, 'subsample': 0.651764047444899, 'colsample_bytree': 0.9081112815911457, 'gamma': 0.6324524202693325, 'alpha': 0.3780780121234877, 'lambda': 6.122114743060305e-05, 'scale_pos_weight': 2.215157222012729}. Best is trial 22 with value: 0.9957966820058584.\n"
     ]
    },
    {
     "name": "stdout",
     "output_type": "stream",
     "text": [
      "Trial 29: AUC = 0.9953\n"
     ]
    },
    {
     "name": "stderr",
     "output_type": "stream",
     "text": [
      "[I 2025-05-26 08:01:26,271] Trial 30 finished with value: 0.9946757972074206 and parameters: {'learning_rate': 0.015162175078970441, 'max_depth': 8, 'min_child_weight': 7.052169516970982, 'subsample': 0.5974922404277477, 'colsample_bytree': 0.8421701897928668, 'gamma': 1.7386232971971696, 'alpha': 0.0021232146631572665, 'lambda': 0.03210185287769538, 'scale_pos_weight': 4.802134550488297}. Best is trial 22 with value: 0.9957966820058584.\n"
     ]
    },
    {
     "name": "stdout",
     "output_type": "stream",
     "text": [
      "Trial 30: AUC = 0.9947\n"
     ]
    },
    {
     "name": "stderr",
     "output_type": "stream",
     "text": [
      "[I 2025-05-26 08:01:27,986] Trial 31 finished with value: 0.9952756457128347 and parameters: {'learning_rate': 0.040080298200120275, 'max_depth': 6, 'min_child_weight': 9.243958388913306, 'subsample': 0.53666375749797, 'colsample_bytree': 0.7432814219462772, 'gamma': 1.0199284699792257, 'alpha': 0.01860072936940689, 'lambda': 1.260142718260714e-06, 'scale_pos_weight': 4.813657772422254}. Best is trial 22 with value: 0.9957966820058584.\n"
     ]
    },
    {
     "name": "stdout",
     "output_type": "stream",
     "text": [
      "Trial 31: AUC = 0.9953\n"
     ]
    },
    {
     "name": "stderr",
     "output_type": "stream",
     "text": [
      "[I 2025-05-26 08:01:29,647] Trial 32 finished with value: 0.9945006589576646 and parameters: {'learning_rate': 0.03327346052508548, 'max_depth': 5, 'min_child_weight': 8.344948364674146, 'subsample': 0.5376828934056425, 'colsample_bytree': 0.5820431763902463, 'gamma': 0.592633911636884, 'alpha': 0.034192487033890544, 'lambda': 1.810235345984179e-05, 'scale_pos_weight': 6.042439126039023}. Best is trial 22 with value: 0.9957966820058584.\n"
     ]
    },
    {
     "name": "stdout",
     "output_type": "stream",
     "text": [
      "Trial 32: AUC = 0.9945\n"
     ]
    },
    {
     "name": "stderr",
     "output_type": "stream",
     "text": [
      "[I 2025-05-26 08:01:30,436] Trial 33 finished with value: 0.994960396863274 and parameters: {'learning_rate': 0.06312125208253189, 'max_depth': 7, 'min_child_weight': 9.54378049006975, 'subsample': 0.5807803620058919, 'colsample_bytree': 0.7246866540912298, 'gamma': 1.3612099256761507, 'alpha': 0.17127590782779256, 'lambda': 1.2599429677779327e-06, 'scale_pos_weight': 1.7163815978787444}. Best is trial 22 with value: 0.9957966820058584.\n"
     ]
    },
    {
     "name": "stdout",
     "output_type": "stream",
     "text": [
      "Trial 33: AUC = 0.9950\n"
     ]
    },
    {
     "name": "stderr",
     "output_type": "stream",
     "text": [
      "[I 2025-05-26 08:01:32,280] Trial 34 finished with value: 0.9945094158701525 and parameters: {'learning_rate': 0.019945887642595198, 'max_depth': 6, 'min_child_weight': 8.76360010402369, 'subsample': 0.5348964387424209, 'colsample_bytree': 0.8545898753937753, 'gamma': 2.6079835601521264, 'alpha': 0.0004478863413666821, 'lambda': 0.0006539202816037595, 'scale_pos_weight': 7.277035249047072}. Best is trial 22 with value: 0.9957966820058584.\n"
     ]
    },
    {
     "name": "stdout",
     "output_type": "stream",
     "text": [
      "Trial 34: AUC = 0.9945\n"
     ]
    },
    {
     "name": "stderr",
     "output_type": "stream",
     "text": [
      "[I 2025-05-26 08:01:33,981] Trial 35 finished with value: 0.9948202862634692 and parameters: {'learning_rate': 0.04049902822317814, 'max_depth': 10, 'min_child_weight': 5.226432711635342, 'subsample': 0.8602065111305215, 'colsample_bytree': 0.6624175051665855, 'gamma': 0.16237345949506057, 'alpha': 9.292992221117075e-05, 'lambda': 0.00011337403454393159, 'scale_pos_weight': 3.358787114877808}. Best is trial 22 with value: 0.9957966820058584.\n"
     ]
    },
    {
     "name": "stdout",
     "output_type": "stream",
     "text": [
      "Trial 35: AUC = 0.9948\n"
     ]
    },
    {
     "name": "stderr",
     "output_type": "stream",
     "text": [
      "[I 2025-05-26 08:01:35,030] Trial 36 finished with value: 0.9951399135692738 and parameters: {'learning_rate': 0.09082233921582922, 'max_depth': 4, 'min_child_weight': 8.093444711984857, 'subsample': 0.616530068955896, 'colsample_bytree': 0.7909774827627281, 'gamma': 0.679087812110005, 'alpha': 0.0038062522308499294, 'lambda': 2.4874416015320446e-08, 'scale_pos_weight': 4.313964965188229}. Best is trial 22 with value: 0.9957966820058584.\n"
     ]
    },
    {
     "name": "stdout",
     "output_type": "stream",
     "text": [
      "Trial 36: AUC = 0.9951\n"
     ]
    },
    {
     "name": "stderr",
     "output_type": "stream",
     "text": [
      "[I 2025-05-26 08:01:35,685] Trial 37 finished with value: 0.9902316641198645 and parameters: {'learning_rate': 0.04522265038013296, 'max_depth': 7, 'min_child_weight': 8.890163331288703, 'subsample': 0.7078287321805368, 'colsample_bytree': 0.8195662080653972, 'gamma': 9.983970262814115, 'alpha': 1.5548204294166665, 'lambda': 2.253603672852932e-05, 'scale_pos_weight': 5.372961936949454}. Best is trial 22 with value: 0.9957966820058584.\n"
     ]
    },
    {
     "name": "stdout",
     "output_type": "stream",
     "text": [
      "Trial 37: AUC = 0.9902\n"
     ]
    },
    {
     "name": "stderr",
     "output_type": "stream",
     "text": [
      "[I 2025-05-26 08:01:36,770] Trial 38 finished with value: 0.9937694567649338 and parameters: {'learning_rate': 0.03009130929228756, 'max_depth': 8, 'min_child_weight': 7.202666425651799, 'subsample': 0.5345341219040508, 'colsample_bytree': 0.8774013042910656, 'gamma': 3.8978050487670988, 'alpha': 0.0008887842714522128, 'lambda': 7.800406258158685e-07, 'scale_pos_weight': 8.311614896653948}. Best is trial 22 with value: 0.9957966820058584.\n"
     ]
    },
    {
     "name": "stdout",
     "output_type": "stream",
     "text": [
      "Trial 38: AUC = 0.9938\n"
     ]
    },
    {
     "name": "stderr",
     "output_type": "stream",
     "text": [
      "[I 2025-05-26 08:01:37,346] Trial 39 finished with value: 0.9929244147098616 and parameters: {'learning_rate': 0.20354991692166005, 'max_depth': 9, 'min_child_weight': 9.609829417684635, 'subsample': 0.5005823988226709, 'colsample_bytree': 0.7171765223496833, 'gamma': 5.171393762801764, 'alpha': 0.22842519749444787, 'lambda': 4.789433569650929e-06, 'scale_pos_weight': 9.235730902457922}. Best is trial 22 with value: 0.9957966820058584.\n"
     ]
    },
    {
     "name": "stdout",
     "output_type": "stream",
     "text": [
      "Trial 39: AUC = 0.9929\n"
     ]
    },
    {
     "name": "stderr",
     "output_type": "stream",
     "text": [
      "[I 2025-05-26 08:01:38,446] Trial 40 finished with value: 0.9913437920058147 and parameters: {'learning_rate': 0.022050545553509382, 'max_depth': 11, 'min_child_weight': 4.707746406403459, 'subsample': 0.5572952229357703, 'colsample_bytree': 0.6012113932798878, 'gamma': 6.74469308613098, 'alpha': 0.00020204295323122373, 'lambda': 5.497207771170081e-08, 'scale_pos_weight': 7.568514069216966}. Best is trial 22 with value: 0.9957966820058584.\n"
     ]
    },
    {
     "name": "stdout",
     "output_type": "stream",
     "text": [
      "Trial 40: AUC = 0.9913\n"
     ]
    },
    {
     "name": "stderr",
     "output_type": "stream",
     "text": [
      "[I 2025-05-26 08:01:40,251] Trial 41 finished with value: 0.9948903415633715 and parameters: {'learning_rate': 0.023794434799290786, 'max_depth': 7, 'min_child_weight': 9.383643565340241, 'subsample': 0.6422826911702053, 'colsample_bytree': 0.9053866916019759, 'gamma': 0.589110861397681, 'alpha': 0.5511466329437686, 'lambda': 3.068681805237793e-05, 'scale_pos_weight': 2.247880086836489}. Best is trial 22 with value: 0.9957966820058584.\n"
     ]
    },
    {
     "name": "stdout",
     "output_type": "stream",
     "text": [
      "Trial 41: AUC = 0.9949\n"
     ]
    },
    {
     "name": "stderr",
     "output_type": "stream",
     "text": [
      "[I 2025-05-26 08:01:42,270] Trial 42 finished with value: 0.9920268311798626 and parameters: {'learning_rate': 0.01643903199242507, 'max_depth': 6, 'min_child_weight': 8.624545793092807, 'subsample': 0.6575975456692174, 'colsample_bytree': 0.9877903857126034, 'gamma': 1.2135815374600774, 'alpha': 0.043018754077693386, 'lambda': 5.508398635235999e-07, 'scale_pos_weight': 0.18776643534663506}. Best is trial 22 with value: 0.9957966820058584.\n"
     ]
    },
    {
     "name": "stdout",
     "output_type": "stream",
     "text": [
      "Trial 42: AUC = 0.9920\n"
     ]
    },
    {
     "name": "stderr",
     "output_type": "stream",
     "text": [
      "[I 2025-05-26 08:01:44,168] Trial 43 finished with value: 0.9948421785446888 and parameters: {'learning_rate': 0.03518111065715616, 'max_depth': 5, 'min_child_weight': 9.962476037554776, 'subsample': 0.779300397013029, 'colsample_bytree': 0.9283327102862958, 'gamma': 0.518290503687, 'alpha': 0.37564708929970714, 'lambda': 6.205673603351654e-05, 'scale_pos_weight': 1.0028865115679135}. Best is trial 22 with value: 0.9957966820058584.\n"
     ]
    },
    {
     "name": "stdout",
     "output_type": "stream",
     "text": [
      "Trial 43: AUC = 0.9948\n"
     ]
    },
    {
     "name": "stderr",
     "output_type": "stream",
     "text": [
      "[I 2025-05-26 08:01:47,102] Trial 44 finished with value: 0.9945969849950305 and parameters: {'learning_rate': 0.012381924988267203, 'max_depth': 7, 'min_child_weight': 9.111127795610175, 'subsample': 0.6049112393840474, 'colsample_bytree': 0.7720282123406604, 'gamma': 2.0874364061492354, 'alpha': 0.017336686536472735, 'lambda': 0.0006329319791601138, 'scale_pos_weight': 3.9340256979600445}. Best is trial 22 with value: 0.9957966820058584.\n"
     ]
    },
    {
     "name": "stdout",
     "output_type": "stream",
     "text": [
      "Trial 44: AUC = 0.9946\n"
     ]
    },
    {
     "name": "stderr",
     "output_type": "stream",
     "text": [
      "[I 2025-05-26 08:01:48,092] Trial 45 finished with value: 0.9949253692133226 and parameters: {'learning_rate': 0.049933267936902254, 'max_depth': 6, 'min_child_weight': 6.298965759430917, 'subsample': 0.5741578015298153, 'colsample_bytree': 0.8749534497140862, 'gamma': 0.7748667205367, 'alpha': 0.00566307275401362, 'lambda': 0.004411459419643397, 'scale_pos_weight': 4.367415819324657}. Best is trial 22 with value: 0.9957966820058584.\n"
     ]
    },
    {
     "name": "stdout",
     "output_type": "stream",
     "text": [
      "Trial 45: AUC = 0.9949\n"
     ]
    },
    {
     "name": "stderr",
     "output_type": "stream",
     "text": [
      "[I 2025-05-26 08:01:49,710] Trial 46 finished with value: 0.9939971364896165 and parameters: {'learning_rate': 0.018269220655804514, 'max_depth': 10, 'min_child_weight': 9.646597971517526, 'subsample': 0.5282988839812357, 'colsample_bytree': 0.6732587970918368, 'gamma': 3.021861134824064, 'alpha': 0.10593433655893607, 'lambda': 0.00010173647625496673, 'scale_pos_weight': 3.151884800250584}. Best is trial 22 with value: 0.9957966820058584.\n"
     ]
    },
    {
     "name": "stdout",
     "output_type": "stream",
     "text": [
      "Trial 46: AUC = 0.9940\n"
     ]
    },
    {
     "name": "stderr",
     "output_type": "stream",
     "text": [
      "[I 2025-05-26 08:01:50,474] Trial 47 finished with value: 0.995131156656786 and parameters: {'learning_rate': 0.11279083798533497, 'max_depth': 5, 'min_child_weight': 1.4958711733820005, 'subsample': 0.5596601554611375, 'colsample_bytree': 0.7528551630744824, 'gamma': 1.4569789442067165, 'alpha': 1.4885534354283119, 'lambda': 3.2263345314639427e-06, 'scale_pos_weight': 2.692454270815213}. Best is trial 22 with value: 0.9957966820058584.\n"
     ]
    },
    {
     "name": "stdout",
     "output_type": "stream",
     "text": [
      "Trial 47: AUC = 0.9951\n"
     ]
    },
    {
     "name": "stderr",
     "output_type": "stream",
     "text": [
      "[I 2025-05-26 08:01:51,519] Trial 48 finished with value: 0.9954814331562978 and parameters: {'learning_rate': 0.07326588249071138, 'max_depth': 8, 'min_child_weight': 7.888367778785136, 'subsample': 0.7035322273726814, 'colsample_bytree': 0.8348208593725313, 'gamma': 0.03305525060704917, 'alpha': 0.001068244865498756, 'lambda': 8.939583426956757e-06, 'scale_pos_weight': 2.0682147123695893}. Best is trial 22 with value: 0.9957966820058584.\n"
     ]
    },
    {
     "name": "stdout",
     "output_type": "stream",
     "text": [
      "Trial 48: AUC = 0.9955\n"
     ]
    },
    {
     "name": "stderr",
     "output_type": "stream",
     "text": [
      "[I 2025-05-26 08:01:52,713] Trial 49 finished with value: 0.9941153548082016 and parameters: {'learning_rate': 0.07016478950484253, 'max_depth': 3, 'min_child_weight': 6.788239642212817, 'subsample': 0.8941776205758529, 'colsample_bytree': 0.5029444350532447, 'gamma': 0.4169063985458411, 'alpha': 3.49138237019033e-05, 'lambda': 3.7521379076403586e-07, 'scale_pos_weight': 6.260314814891886}. Best is trial 22 with value: 0.9957966820058584.\n"
     ]
    },
    {
     "name": "stdout",
     "output_type": "stream",
     "text": [
      "Trial 49: AUC = 0.9941\n"
     ]
    },
    {
     "name": "stderr",
     "output_type": "stream",
     "text": [
      "[I 2025-05-26 08:01:53,632] Trial 50 finished with value: 0.9954639193313221 and parameters: {'learning_rate': 0.13413855110137204, 'max_depth': 12, 'min_child_weight': 7.949751806996009, 'subsample': 0.7878374721219924, 'colsample_bytree': 0.8236790576712054, 'gamma': 0.028357749121083457, 'alpha': 1.0156161245509385e-08, 'lambda': 7.369405844621088e-06, 'scale_pos_weight': 1.5584930300269213}. Best is trial 22 with value: 0.9957966820058584.\n"
     ]
    },
    {
     "name": "stdout",
     "output_type": "stream",
     "text": [
      "Trial 50: AUC = 0.9955\n"
     ]
    },
    {
     "name": "stderr",
     "output_type": "stream",
     "text": [
      "[I 2025-05-26 08:01:54,454] Trial 51 finished with value: 0.9950567229006396 and parameters: {'learning_rate': 0.16194021267396982, 'max_depth': 12, 'min_child_weight': 7.999294087762336, 'subsample': 0.7943532663947918, 'colsample_bytree': 0.8381335710642476, 'gamma': 0.06652298989797567, 'alpha': 7.364450496174406e-08, 'lambda': 2.4015125441979944e-06, 'scale_pos_weight': 1.0211430613970323}. Best is trial 22 with value: 0.9957966820058584.\n"
     ]
    },
    {
     "name": "stdout",
     "output_type": "stream",
     "text": [
      "Trial 51: AUC = 0.9951\n"
     ]
    },
    {
     "name": "stderr",
     "output_type": "stream",
     "text": [
      "[I 2025-05-26 08:01:55,511] Trial 52 finished with value: 0.9959061434119558 and parameters: {'learning_rate': 0.11178265464451094, 'max_depth': 12, 'min_child_weight': 7.816987635792538, 'subsample': 0.8364335302132297, 'colsample_bytree': 0.7815192935962403, 'gamma': 0.04106291945467544, 'alpha': 0.0015465081308317316, 'lambda': 1.1639237620610773e-05, 'scale_pos_weight': 1.3547412011132844}. Best is trial 52 with value: 0.9959061434119558.\n"
     ]
    },
    {
     "name": "stdout",
     "output_type": "stream",
     "text": [
      "Trial 52: AUC = 0.9959\n"
     ]
    },
    {
     "name": "stderr",
     "output_type": "stream",
     "text": [
      "[I 2025-05-26 08:01:56,112] Trial 53 finished with value: 0.9949297476695668 and parameters: {'learning_rate': 0.28747536454508593, 'max_depth': 12, 'min_child_weight': 7.4948270390734875, 'subsample': 0.8171654553791831, 'colsample_bytree': 0.8201091918341901, 'gamma': 0.04810474024752845, 'alpha': 1.6730080443810113e-08, 'lambda': 1.1030023107753674e-05, 'scale_pos_weight': 1.5788438462814465}. Best is trial 52 with value: 0.9959061434119558.\n"
     ]
    },
    {
     "name": "stdout",
     "output_type": "stream",
     "text": [
      "Trial 53: AUC = 0.9949\n"
     ]
    },
    {
     "name": "stderr",
     "output_type": "stream",
     "text": [
      "[I 2025-05-26 08:01:56,893] Trial 54 finished with value: 0.9951530489380055 and parameters: {'learning_rate': 0.1214592130278314, 'max_depth': 11, 'min_child_weight': 6.986582848994134, 'subsample': 0.863341504939795, 'colsample_bytree': 0.7779752713797575, 'gamma': 0.33417966802130666, 'alpha': 0.0011317653849258241, 'lambda': 8.853973550588566e-06, 'scale_pos_weight': 0.38379970667449403}. Best is trial 52 with value: 0.9959061434119558.\n"
     ]
    },
    {
     "name": "stdout",
     "output_type": "stream",
     "text": [
      "Trial 54: AUC = 0.9952\n"
     ]
    },
    {
     "name": "stderr",
     "output_type": "stream",
     "text": [
      "[I 2025-05-26 08:01:57,772] Trial 55 finished with value: 0.9944130898327868 and parameters: {'learning_rate': 0.16768266597811238, 'max_depth': 12, 'min_child_weight': 7.732581490724238, 'subsample': 0.7738586585826447, 'colsample_bytree': 0.8572151853978478, 'gamma': 0.023821083978377375, 'alpha': 0.00029951295027216504, 'lambda': 0.0008555460874129647, 'scale_pos_weight': 0.6434375101470327}. Best is trial 52 with value: 0.9959061434119558.\n"
     ]
    },
    {
     "name": "stdout",
     "output_type": "stream",
     "text": [
      "Trial 55: AUC = 0.9944\n"
     ]
    },
    {
     "name": "stderr",
     "output_type": "stream",
     "text": [
      "[I 2025-05-26 08:01:58,313] Trial 56 finished with value: 0.992950685447325 and parameters: {'learning_rate': 0.10443805437871298, 'max_depth': 11, 'min_child_weight': 6.0889164012029005, 'subsample': 0.837343904964515, 'colsample_bytree': 0.8217287677887748, 'gamma': 1.7417896741496284, 'alpha': 5.4146787479290374e-05, 'lambda': 0.000312104404513413, 'scale_pos_weight': 1.5841260090302813}. Best is trial 52 with value: 0.9959061434119558.\n"
     ]
    },
    {
     "name": "stdout",
     "output_type": "stream",
     "text": [
      "Trial 56: AUC = 0.9930\n"
     ]
    },
    {
     "name": "stderr",
     "output_type": "stream",
     "text": [
      "[I 2025-05-26 08:01:59,098] Trial 57 finished with value: 0.994785258613518 and parameters: {'learning_rate': 0.07759296214929054, 'max_depth': 10, 'min_child_weight': 8.562720339430463, 'subsample': 0.7439198285061998, 'colsample_bytree': 0.7885463207146195, 'gamma': 1.2198085509544438, 'alpha': 0.0017737161804538674, 'lambda': 2.188243063858541e-07, 'scale_pos_weight': 2.2137232394589033}. Best is trial 52 with value: 0.9959061434119558.\n"
     ]
    },
    {
     "name": "stdout",
     "output_type": "stream",
     "text": [
      "Trial 57: AUC = 0.9948\n"
     ]
    },
    {
     "name": "stderr",
     "output_type": "stream",
     "text": [
      "[I 2025-05-26 08:01:59,667] Trial 58 finished with value: 0.9950961290068348 and parameters: {'learning_rate': 0.1340818275102746, 'max_depth': 12, 'min_child_weight': 5.447956216375704, 'subsample': 0.7046850924043728, 'colsample_bytree': 0.8089038204817658, 'gamma': 0.9240341761840095, 'alpha': 4.4842474481325443e-07, 'lambda': 0.001689648195346178, 'scale_pos_weight': 2.949838801243769}. Best is trial 52 with value: 0.9959061434119558.\n"
     ]
    },
    {
     "name": "stdout",
     "output_type": "stream",
     "text": [
      "Trial 58: AUC = 0.9951\n"
     ]
    },
    {
     "name": "stderr",
     "output_type": "stream",
     "text": [
      "[I 2025-05-26 08:02:00,449] Trial 59 finished with value: 0.994658283382445 and parameters: {'learning_rate': 0.06678915559559545, 'max_depth': 10, 'min_child_weight': 6.503100982585258, 'subsample': 0.979944846068365, 'colsample_bytree': 0.6966682204517556, 'gamma': 0.37183952819984484, 'alpha': 1.6267717755729202e-05, 'lambda': 0.01204332249114328, 'scale_pos_weight': 1.2588539668541683}. Best is trial 52 with value: 0.9959061434119558.\n"
     ]
    },
    {
     "name": "stdout",
     "output_type": "stream",
     "text": [
      "Trial 59: AUC = 0.9947\n"
     ]
    },
    {
     "name": "stderr",
     "output_type": "stream",
     "text": [
      "[I 2025-05-26 08:02:00,926] Trial 60 finished with value: 0.9921319141297161 and parameters: {'learning_rate': 0.08004992783172846, 'max_depth': 11, 'min_child_weight': 7.867614619053784, 'subsample': 0.766399921189147, 'colsample_bytree': 0.7646986526989806, 'gamma': 6.027661758129483, 'alpha': 0.004120296191868795, 'lambda': 3.38740594048984e-05, 'scale_pos_weight': 7.104643247514639}. Best is trial 52 with value: 0.9959061434119558.\n"
     ]
    },
    {
     "name": "stdout",
     "output_type": "stream",
     "text": [
      "Trial 60: AUC = 0.9921\n"
     ]
    },
    {
     "name": "stderr",
     "output_type": "stream",
     "text": [
      "[I 2025-05-26 08:02:01,286] Trial 61 finished with value: 0.9927273841788862 and parameters: {'learning_rate': 0.24781042819022442, 'max_depth': 12, 'min_child_weight': 7.378990053812023, 'subsample': 0.9094664901348265, 'colsample_bytree': 0.7411078027047188, 'gamma': 0.8894393543698894, 'alpha': 0.02354685643012749, 'lambda': 7.010552581526203e-06, 'scale_pos_weight': 2.0782692071870525}. Best is trial 52 with value: 0.9959061434119558.\n"
     ]
    },
    {
     "name": "stdout",
     "output_type": "stream",
     "text": [
      "Trial 61: AUC = 0.9927\n"
     ]
    },
    {
     "name": "stderr",
     "output_type": "stream",
     "text": [
      "[I 2025-05-26 08:02:02,222] Trial 62 finished with value: 0.9952668888003469 and parameters: {'learning_rate': 0.051772997560697566, 'max_depth': 12, 'min_child_weight': 8.25242574374774, 'subsample': 0.81815125630578, 'colsample_bytree': 0.7119769931652205, 'gamma': 1.2056149035275658, 'alpha': 0.008642355715163655, 'lambda': 1.1937702541792509e-07, 'scale_pos_weight': 5.785134775324471}. Best is trial 52 with value: 0.9959061434119558.\n"
     ]
    },
    {
     "name": "stdout",
     "output_type": "stream",
     "text": [
      "Trial 62: AUC = 0.9953\n"
     ]
    },
    {
     "name": "stderr",
     "output_type": "stream",
     "text": [
      "[I 2025-05-26 08:02:03,098] Trial 63 finished with value: 0.9939051889084947 and parameters: {'learning_rate': 0.05675365087127298, 'max_depth': 12, 'min_child_weight': 2.85527248859011, 'subsample': 0.5151523733523261, 'colsample_bytree': 0.5680632990797249, 'gamma': 1.9580293585607205, 'alpha': 0.0004300636291891981, 'lambda': 2.186044071504095e-06, 'scale_pos_weight': 8.251297855153174}. Best is trial 52 with value: 0.9959061434119558.\n"
     ]
    },
    {
     "name": "stdout",
     "output_type": "stream",
     "text": [
      "Trial 63: AUC = 0.9939\n"
     ]
    },
    {
     "name": "stderr",
     "output_type": "stream",
     "text": [
      "[I 2025-05-26 08:02:04,028] Trial 64 finished with value: 0.9955295961749807 and parameters: {'learning_rate': 0.10060714981621247, 'max_depth': 11, 'min_child_weight': 8.492130725804618, 'subsample': 0.8548650263695196, 'colsample_bytree': 0.8354619229901399, 'gamma': 0.3630549202534754, 'alpha': 0.0012481917837938723, 'lambda': 1.0400074668371542, 'scale_pos_weight': 1.8631136121086922}. Best is trial 52 with value: 0.9959061434119558.\n"
     ]
    },
    {
     "name": "stdout",
     "output_type": "stream",
     "text": [
      "Trial 64: AUC = 0.9955\n"
     ]
    },
    {
     "name": "stderr",
     "output_type": "stream",
     "text": [
      "[I 2025-05-26 08:02:05,044] Trial 65 finished with value: 0.9955908945623952 and parameters: {'learning_rate': 0.10051988398653668, 'max_depth': 11, 'min_child_weight': 8.499056038885895, 'subsample': 0.8751103926528472, 'colsample_bytree': 0.8372015205264879, 'gamma': 0.34225020164350195, 'alpha': 0.0008582569606324308, 'lambda': 3.0479344839475133, 'scale_pos_weight': 0.7312989119139923}. Best is trial 52 with value: 0.9959061434119558.\n"
     ]
    },
    {
     "name": "stdout",
     "output_type": "stream",
     "text": [
      "Trial 65: AUC = 0.9956\n"
     ]
    },
    {
     "name": "stderr",
     "output_type": "stream",
     "text": [
      "[I 2025-05-26 08:02:06,054] Trial 66 finished with value: 0.9953194302752735 and parameters: {'learning_rate': 0.09619748232286719, 'max_depth': 11, 'min_child_weight': 8.465664721834159, 'subsample': 0.8788760915714128, 'colsample_bytree': 0.8581390569461099, 'gamma': 0.39548787483010206, 'alpha': 0.001383615065436595, 'lambda': 2.6161129902647433, 'scale_pos_weight': 0.5823081248856949}. Best is trial 52 with value: 0.9959061434119558.\n"
     ]
    },
    {
     "name": "stdout",
     "output_type": "stream",
     "text": [
      "Trial 66: AUC = 0.9953\n"
     ]
    },
    {
     "name": "stderr",
     "output_type": "stream",
     "text": [
      "[I 2025-05-26 08:02:06,784] Trial 67 finished with value: 0.9944568743952258 and parameters: {'learning_rate': 0.10671543053468742, 'max_depth': 11, 'min_child_weight': 8.95286351919457, 'subsample': 0.8486435304462533, 'colsample_bytree': 0.8833844878628582, 'gamma': 0.7536611555709256, 'alpha': 0.00013978194511988357, 'lambda': 1.6152152409726974, 'scale_pos_weight': 0.7619793984231944}. Best is trial 52 with value: 0.9959061434119558.\n"
     ]
    },
    {
     "name": "stdout",
     "output_type": "stream",
     "text": [
      "Trial 67: AUC = 0.9945\n"
     ]
    },
    {
     "name": "stderr",
     "output_type": "stream",
     "text": [
      "[I 2025-05-26 08:02:07,557] Trial 68 finished with value: 0.9945619573450792 and parameters: {'learning_rate': 0.08795441485988999, 'max_depth': 9, 'min_child_weight': 6.900858540029828, 'subsample': 0.9398482711609902, 'colsample_bytree': 0.8442209231840059, 'gamma': 0.39249923666123987, 'alpha': 0.000712862277544608, 'lambda': 0.09625695865559927, 'scale_pos_weight': 1.2456525981595226}. Best is trial 52 with value: 0.9959061434119558.\n"
     ]
    },
    {
     "name": "stdout",
     "output_type": "stream",
     "text": [
      "Trial 68: AUC = 0.9946\n"
     ]
    },
    {
     "name": "stderr",
     "output_type": "stream",
     "text": [
      "[I 2025-05-26 08:02:08,246] Trial 69 finished with value: 0.9935986969714218 and parameters: {'learning_rate': 0.063904208749801, 'max_depth': 10, 'min_child_weight': 7.48476134073868, 'subsample': 0.8937935259318589, 'colsample_bytree': 0.8003768052793168, 'gamma': 1.5225965341492589, 'alpha': 0.006225432175869557, 'lambda': 0.7142987342110875, 'scale_pos_weight': 1.8675630423141913}. Best is trial 52 with value: 0.9959061434119558.\n"
     ]
    },
    {
     "name": "stdout",
     "output_type": "stream",
     "text": [
      "Trial 69: AUC = 0.9936\n"
     ]
    },
    {
     "name": "stderr",
     "output_type": "stream",
     "text": [
      "[I 2025-05-26 08:02:08,646] Trial 70 finished with value: 0.9905118853194741 and parameters: {'learning_rate': 0.15630643211814696, 'max_depth': 11, 'min_child_weight': 8.815601500071015, 'subsample': 0.910829677756386, 'colsample_bytree': 0.8299465425153985, 'gamma': 6.8466155711738015, 'alpha': 0.003332366556426639, 'lambda': 9.338440964088633, 'scale_pos_weight': 2.46808128171607}. Best is trial 52 with value: 0.9959061434119558.\n"
     ]
    },
    {
     "name": "stdout",
     "output_type": "stream",
     "text": [
      "Trial 70: AUC = 0.9905\n"
     ]
    },
    {
     "name": "stderr",
     "output_type": "stream",
     "text": [
      "[I 2025-05-26 08:02:09,533] Trial 71 finished with value: 0.9950304521631763 and parameters: {'learning_rate': 0.13317638642229113, 'max_depth': 12, 'min_child_weight': 8.047109384100164, 'subsample': 0.8130814522149007, 'colsample_bytree': 0.7813268141792724, 'gamma': 0.011793181306098466, 'alpha': 0.000288904089737695, 'lambda': 4.914401542219349, 'scale_pos_weight': 1.3365042571168577}. Best is trial 52 with value: 0.9959061434119558.\n"
     ]
    },
    {
     "name": "stdout",
     "output_type": "stream",
     "text": [
      "Trial 71: AUC = 0.9950\n"
     ]
    },
    {
     "name": "stderr",
     "output_type": "stream",
     "text": [
      "[I 2025-05-26 08:02:10,446] Trial 72 finished with value: 0.9952537534316152 and parameters: {'learning_rate': 0.12318181764365932, 'max_depth': 12, 'min_child_weight': 7.720752284498526, 'subsample': 0.7973822925156273, 'colsample_bytree': 0.8070110135458549, 'gamma': 0.374180960949078, 'alpha': 0.010426337658797158, 'lambda': 1.0612002731328094, 'scale_pos_weight': 1.884225577902218}. Best is trial 52 with value: 0.9959061434119558.\n"
     ]
    },
    {
     "name": "stdout",
     "output_type": "stream",
     "text": [
      "Trial 72: AUC = 0.9953\n"
     ]
    },
    {
     "name": "stderr",
     "output_type": "stream",
     "text": [
      "[I 2025-05-26 08:02:11,243] Trial 73 finished with value: 0.9943649268141039 and parameters: {'learning_rate': 0.10492561723948905, 'max_depth': 12, 'min_child_weight': 8.408434198480565, 'subsample': 0.9560435755997655, 'colsample_bytree': 0.84849272862613, 'gamma': 0.720511644723317, 'alpha': 0.0012870435143598161, 'lambda': 0.31174918912762883, 'scale_pos_weight': 9.578045879220243}. Best is trial 52 with value: 0.9959061434119558.\n"
     ]
    },
    {
     "name": "stdout",
     "output_type": "stream",
     "text": [
      "Trial 73: AUC = 0.9944\n"
     ]
    },
    {
     "name": "stderr",
     "output_type": "stream",
     "text": [
      "[I 2025-05-26 08:02:12,017] Trial 74 finished with value: 0.9947983939822498 and parameters: {'learning_rate': 0.08062327418697351, 'max_depth': 11, 'min_child_weight': 7.145332911620212, 'subsample': 0.830251226428931, 'colsample_bytree': 0.7591872274617989, 'gamma': 0.2283745096705894, 'alpha': 0.000600196680879073, 'lambda': 0.00011424250709648623, 'scale_pos_weight': 0.9572017483550328}. Best is trial 52 with value: 0.9959061434119558.\n"
     ]
    },
    {
     "name": "stdout",
     "output_type": "stream",
     "text": [
      "Trial 74: AUC = 0.9948\n"
     ]
    },
    {
     "name": "stderr",
     "output_type": "stream",
     "text": [
      "[I 2025-05-26 08:02:12,486] Trial 75 finished with value: 0.9934060448966904 and parameters: {'learning_rate': 0.14641207703509526, 'max_depth': 11, 'min_child_weight': 7.819741778748622, 'subsample': 0.8568367504316582, 'colsample_bytree': 0.8890247968363938, 'gamma': 1.0364497760395779, 'alpha': 1.7343464398228426e-06, 'lambda': 0.05394008389097273, 'scale_pos_weight': 1.4235689043907733}. Best is trial 52 with value: 0.9959061434119558.\n"
     ]
    },
    {
     "name": "stdout",
     "output_type": "stream",
     "text": [
      "Trial 75: AUC = 0.9934\n"
     ]
    },
    {
     "name": "stderr",
     "output_type": "stream",
     "text": [
      "[I 2025-05-26 08:02:13,437] Trial 76 finished with value: 0.9946407695574695 and parameters: {'learning_rate': 0.07331207152066457, 'max_depth': 12, 'min_child_weight': 8.716738484901676, 'subsample': 0.876846995878028, 'colsample_bytree': 0.8642128319891463, 'gamma': 0.6895330049316827, 'alpha': 0.0023606029547344454, 'lambda': 3.311507267980058, 'scale_pos_weight': 5.369623654264857}. Best is trial 52 with value: 0.9959061434119558.\n"
     ]
    },
    {
     "name": "stdout",
     "output_type": "stream",
     "text": [
      "Trial 76: AUC = 0.9946\n"
     ]
    },
    {
     "name": "stderr",
     "output_type": "stream",
     "text": [
      "[I 2025-05-26 08:02:13,794] Trial 77 finished with value: 0.9911380045623515 and parameters: {'learning_rate': 0.09830057659664214, 'max_depth': 8, 'min_child_weight': 8.150748216940128, 'subsample': 0.7222157635211259, 'colsample_bytree': 0.8258111642508253, 'gamma': 2.342521169997046, 'alpha': 0.014258031693610127, 'lambda': 1.827169801739994e-05, 'scale_pos_weight': 0.30593011754435384}. Best is trial 52 with value: 0.9959061434119558.\n"
     ]
    },
    {
     "name": "stdout",
     "output_type": "stream",
     "text": [
      "Trial 77: AUC = 0.9911\n"
     ]
    },
    {
     "name": "stderr",
     "output_type": "stream",
     "text": [
      "[I 2025-05-26 08:02:14,522] Trial 78 finished with value: 0.9936118323401535 and parameters: {'learning_rate': 0.19604694073071063, 'max_depth': 12, 'min_child_weight': 9.738477787374007, 'subsample': 0.5185069932329678, 'colsample_bytree': 0.923914721069078, 'gamma': 1.6134864728337979, 'alpha': 7.772158745793871e-05, 'lambda': 0.00800375987863963, 'scale_pos_weight': 2.5204102268983357}. Best is trial 52 with value: 0.9959061434119558.\n"
     ]
    },
    {
     "name": "stdout",
     "output_type": "stream",
     "text": [
      "Trial 78: AUC = 0.9936\n"
     ]
    },
    {
     "name": "stderr",
     "output_type": "stream",
     "text": [
      "[I 2025-05-26 08:02:15,341] Trial 79 finished with value: 0.9945794711700549 and parameters: {'learning_rate': 0.08110253278971985, 'max_depth': 4, 'min_child_weight': 9.177393371776684, 'subsample': 0.7886825683981826, 'colsample_bytree': 0.7961888256306853, 'gamma': 1.1446940043296037, 'alpha': 0.0805446986267767, 'lambda': 0.2113288412756889, 'scale_pos_weight': 3.640608892000304}. Best is trial 52 with value: 0.9959061434119558.\n"
     ]
    },
    {
     "name": "stdout",
     "output_type": "stream",
     "text": [
      "Trial 79: AUC = 0.9946\n"
     ]
    },
    {
     "name": "stderr",
     "output_type": "stream",
     "text": [
      "[I 2025-05-26 08:02:16,717] Trial 80 finished with value: 0.9946714187511767 and parameters: {'learning_rate': 0.05853257663760467, 'max_depth': 11, 'min_child_weight': 3.986680751559503, 'subsample': 0.7616942595130252, 'colsample_bytree': 0.8116476074459981, 'gamma': 0.27331276760359713, 'alpha': 0.0001936124829211153, 'lambda': 5.1603335324827805e-06, 'scale_pos_weight': 6.90911901582169}. Best is trial 52 with value: 0.9959061434119558.\n"
     ]
    },
    {
     "name": "stdout",
     "output_type": "stream",
     "text": [
      "Trial 80: AUC = 0.9947\n"
     ]
    },
    {
     "name": "stderr",
     "output_type": "stream",
     "text": [
      "[I 2025-05-26 08:02:17,603] Trial 81 finished with value: 0.9938395120648362 and parameters: {'learning_rate': 0.04645870814379915, 'max_depth': 6, 'min_child_weight': 9.419233605282257, 'subsample': 0.5473308199900667, 'colsample_bytree': 0.7368255919676863, 'gamma': 4.607462598798037, 'alpha': 0.02800473396546564, 'lambda': 1.115907617548118e-05, 'scale_pos_weight': 6.292420271910279}. Best is trial 52 with value: 0.9959061434119558.\n"
     ]
    },
    {
     "name": "stdout",
     "output_type": "stream",
     "text": [
      "Trial 81: AUC = 0.9938\n"
     ]
    },
    {
     "name": "stderr",
     "output_type": "stream",
     "text": [
      "[I 2025-05-26 08:02:19,098] Trial 82 finished with value: 0.9943342776203966 and parameters: {'learning_rate': 0.03616921976066741, 'max_depth': 9, 'min_child_weight': 8.971916649867536, 'subsample': 0.843782018800606, 'colsample_bytree': 0.631188926329969, 'gamma': 0.6170141154740483, 'alpha': 0.0056707797282230295, 'lambda': 4.7887350104981624e-05, 'scale_pos_weight': 5.04059715660525}. Best is trial 52 with value: 0.9959061434119558.\n"
     ]
    },
    {
     "name": "stdout",
     "output_type": "stream",
     "text": [
      "Trial 82: AUC = 0.9943\n"
     ]
    },
    {
     "name": "stderr",
     "output_type": "stream",
     "text": [
      "[I 2025-05-26 08:02:20,018] Trial 83 finished with value: 0.994067191789519 and parameters: {'learning_rate': 0.041212751349221075, 'max_depth': 6, 'min_child_weight': 9.28594293565625, 'subsample': 0.568950236405762, 'colsample_bytree': 0.7556185107216655, 'gamma': 0.9252375955528964, 'alpha': 0.04486449295109759, 'lambda': 1.4722070569976333e-06, 'scale_pos_weight': 0.8249965808166777}. Best is trial 52 with value: 0.9959061434119558.\n"
     ]
    },
    {
     "name": "stdout",
     "output_type": "stream",
     "text": [
      "Trial 83: AUC = 0.9941\n"
     ]
    },
    {
     "name": "stderr",
     "output_type": "stream",
     "text": [
      "[I 2025-05-26 08:02:21,959] Trial 84 finished with value: 0.9954858116125417 and parameters: {'learning_rate': 0.026718195104499912, 'max_depth': 12, 'min_child_weight': 8.532864821655732, 'subsample': 0.5178732707865812, 'colsample_bytree': 0.8368684664186714, 'gamma': 0.03186576182356702, 'alpha': 0.001012509319978112, 'lambda': 0.00022236801075942007, 'scale_pos_weight': 1.904998272178184}. Best is trial 52 with value: 0.9959061434119558.\n"
     ]
    },
    {
     "name": "stdout",
     "output_type": "stream",
     "text": [
      "Trial 84: AUC = 0.9955\n"
     ]
    },
    {
     "name": "stderr",
     "output_type": "stream",
     "text": [
      "[I 2025-05-26 08:02:23,798] Trial 85 finished with value: 0.9951793196754688 and parameters: {'learning_rate': 0.030010615807967222, 'max_depth': 12, 'min_child_weight': 7.956140204704531, 'subsample': 0.5280864431537067, 'colsample_bytree': 0.835133033943712, 'gamma': 0.23826494089756414, 'alpha': 0.0009722322891239695, 'lambda': 0.0026986179031371123, 'scale_pos_weight': 1.8505301618043202}. Best is trial 52 with value: 0.9959061434119558.\n"
     ]
    },
    {
     "name": "stdout",
     "output_type": "stream",
     "text": [
      "Trial 85: AUC = 0.9952\n"
     ]
    },
    {
     "name": "stderr",
     "output_type": "stream",
     "text": [
      "[I 2025-05-26 08:02:25,529] Trial 86 finished with value: 0.9953194302752737 and parameters: {'learning_rate': 0.025990936907552935, 'max_depth': 12, 'min_child_weight': 8.38846151294169, 'subsample': 0.5012420333736313, 'colsample_bytree': 0.8341923490932153, 'gamma': 0.01946496226069222, 'alpha': 0.00047843100279391384, 'lambda': 0.0001582555117562328, 'scale_pos_weight': 1.5920550816387993}. Best is trial 52 with value: 0.9959061434119558.\n"
     ]
    },
    {
     "name": "stdout",
     "output_type": "stream",
     "text": [
      "Trial 86: AUC = 0.9953\n"
     ]
    },
    {
     "name": "stderr",
     "output_type": "stream",
     "text": [
      "[I 2025-05-26 08:02:25,938] Trial 87 finished with value: 0.9911380045623515 and parameters: {'learning_rate': 0.49162278954803185, 'max_depth': 10, 'min_child_weight': 7.558064409217677, 'subsample': 0.5225419262320349, 'colsample_bytree': 0.8658989962559518, 'gamma': 0.46768648924932105, 'alpha': 0.0017715070439710103, 'lambda': 7.324012752272081e-05, 'scale_pos_weight': 3.0582553893068347}. Best is trial 52 with value: 0.9959061434119558.\n"
     ]
    },
    {
     "name": "stdout",
     "output_type": "stream",
     "text": [
      "Trial 87: AUC = 0.9911\n"
     ]
    },
    {
     "name": "stderr",
     "output_type": "stream",
     "text": [
      "[I 2025-05-26 08:02:26,493] Trial 88 finished with value: 0.9932703127531295 and parameters: {'learning_rate': 0.17638699892269477, 'max_depth': 11, 'min_child_weight': 7.31131600105735, 'subsample': 0.6790639124119047, 'colsample_bytree': 0.7821386775066809, 'gamma': 1.3205284218566058, 'alpha': 0.0030173591585487994, 'lambda': 0.00024333834309664014, 'scale_pos_weight': 7.520445109625999}. Best is trial 52 with value: 0.9959061434119558.\n"
     ]
    },
    {
     "name": "stdout",
     "output_type": "stream",
     "text": [
      "Trial 88: AUC = 0.9933\n"
     ]
    },
    {
     "name": "stderr",
     "output_type": "stream",
     "text": [
      "[I 2025-05-26 08:02:27,050] Trial 89 finished with value: 0.994150382458153 and parameters: {'learning_rate': 0.1156539089827331, 'max_depth': 12, 'min_child_weight': 6.549618785120113, 'subsample': 0.8257921843424911, 'colsample_bytree': 0.8742926855400993, 'gamma': 0.5993605955593042, 'alpha': 0.00029447948147538354, 'lambda': 2.6112463868873055e-05, 'scale_pos_weight': 2.0700759722336475}. Best is trial 52 with value: 0.9959061434119558.\n"
     ]
    },
    {
     "name": "stdout",
     "output_type": "stream",
     "text": [
      "Trial 89: AUC = 0.9942\n"
     ]
    },
    {
     "name": "stderr",
     "output_type": "stream",
     "text": [
      "[I 2025-05-26 08:02:28,240] Trial 90 finished with value: 0.9952055904129322 and parameters: {'learning_rate': 0.09027138137573093, 'max_depth': 11, 'min_child_weight': 8.6288503603164, 'subsample': 0.5899285826594394, 'colsample_bytree': 0.8499142869152843, 'gamma': 0.2742237193396746, 'alpha': 0.00010844010641186052, 'lambda': 0.0009975244123162494, 'scale_pos_weight': 0.45707759803020814}. Best is trial 52 with value: 0.9959061434119558.\n"
     ]
    },
    {
     "name": "stdout",
     "output_type": "stream",
     "text": [
      "Trial 90: AUC = 0.9952\n"
     ]
    },
    {
     "name": "stderr",
     "output_type": "stream",
     "text": [
      "[I 2025-05-26 08:02:29,609] Trial 91 finished with value: 0.9953588363814687 and parameters: {'learning_rate': 0.03796316541358184, 'max_depth': 5, 'min_child_weight': 8.901433736013162, 'subsample': 0.5451255499074252, 'colsample_bytree': 0.8166564332916183, 'gamma': 0.003462392977330253, 'alpha': 0.004813524213915266, 'lambda': 3.02413700280766e-06, 'scale_pos_weight': 4.6970904434531215}. Best is trial 52 with value: 0.9959061434119558.\n"
     ]
    },
    {
     "name": "stdout",
     "output_type": "stream",
     "text": [
      "Trial 91: AUC = 0.9954\n"
     ]
    },
    {
     "name": "stderr",
     "output_type": "stream",
     "text": [
      "[I 2025-05-26 08:02:30,847] Trial 92 finished with value: 0.9951749412192249 and parameters: {'learning_rate': 0.052956237185948156, 'max_depth': 12, 'min_child_weight': 8.362844680146702, 'subsample': 0.5657501797601112, 'colsample_bytree': 0.7722329835703838, 'gamma': 0.8706064660031756, 'alpha': 0.011263833600331327, 'lambda': 5.522874583228483e-07, 'scale_pos_weight': 8.633055592247821}. Best is trial 52 with value: 0.9959061434119558.\n"
     ]
    },
    {
     "name": "stdout",
     "output_type": "stream",
     "text": [
      "Trial 92: AUC = 0.9952\n"
     ]
    },
    {
     "name": "stderr",
     "output_type": "stream",
     "text": [
      "[I 2025-05-26 08:02:31,909] Trial 93 finished with value: 0.994916612300835 and parameters: {'learning_rate': 0.06303141956662076, 'max_depth': 12, 'min_child_weight': 9.756116630301797, 'subsample': 0.5124079628157583, 'colsample_bytree': 0.7248446434178789, 'gamma': 1.084903782458429, 'alpha': 0.0007266833326076495, 'lambda': 0.0004990359295807852, 'scale_pos_weight': 1.066355040208704}. Best is trial 52 with value: 0.9959061434119558.\n"
     ]
    },
    {
     "name": "stdout",
     "output_type": "stream",
     "text": [
      "Trial 93: AUC = 0.9949\n"
     ]
    },
    {
     "name": "stderr",
     "output_type": "stream",
     "text": [
      "[I 2025-05-26 08:02:32,865] Trial 94 finished with value: 0.9912036814060098 and parameters: {'learning_rate': 0.031434566621647224, 'max_depth': 7, 'min_child_weight': 9.107843754993155, 'subsample': 0.8710533477946741, 'colsample_bytree': 0.7947193489304831, 'gamma': 5.6940114512089375, 'alpha': 0.0025158772048306265, 'lambda': 4.965500832721804e-06, 'scale_pos_weight': 2.720399664116004}. Best is trial 52 with value: 0.9959061434119558.\n"
     ]
    },
    {
     "name": "stdout",
     "output_type": "stream",
     "text": [
      "Trial 94: AUC = 0.9912\n"
     ]
    },
    {
     "name": "stderr",
     "output_type": "stream",
     "text": [
      "[I 2025-05-26 08:02:33,602] Trial 95 finished with value: 0.9903104763322548 and parameters: {'learning_rate': 0.047863233164302306, 'max_depth': 12, 'min_child_weight': 8.125562554855353, 'subsample': 0.5483529047266632, 'colsample_bytree': 0.6601619853012581, 'gamma': 8.179661405436663, 'alpha': 0.0186202345122149, 'lambda': 1.6225435845450762e-05, 'scale_pos_weight': 3.849885449056199}. Best is trial 52 with value: 0.9959061434119558.\n"
     ]
    },
    {
     "name": "stdout",
     "output_type": "stream",
     "text": [
      "Trial 95: AUC = 0.9903\n"
     ]
    },
    {
     "name": "stderr",
     "output_type": "stream",
     "text": [
      "[I 2025-05-26 08:02:35,277] Trial 96 finished with value: 0.9931258236970809 and parameters: {'learning_rate': 0.021397583251424997, 'max_depth': 11, 'min_child_weight': 8.54716692557933, 'subsample': 0.8967305098499274, 'colsample_bytree': 0.6168036516731469, 'gamma': 1.8484648819979288, 'alpha': 0.007429347865028294, 'lambda': 1.1482965855763088e-06, 'scale_pos_weight': 2.3910219486557467}. Best is trial 52 with value: 0.9959061434119558.\n"
     ]
    },
    {
     "name": "stdout",
     "output_type": "stream",
     "text": [
      "Trial 96: AUC = 0.9931\n"
     ]
    },
    {
     "name": "stderr",
     "output_type": "stream",
     "text": [
      "[I 2025-05-26 08:02:36,594] Trial 97 finished with value: 0.9952406180628833 and parameters: {'learning_rate': 0.04424958025682358, 'max_depth': 5, 'min_child_weight': 7.92046429038489, 'subsample': 0.8081424040010411, 'colsample_bytree': 0.7499431512662917, 'gamma': 0.4735659872216226, 'alpha': 0.0015048673036258601, 'lambda': 8.772943046847914e-07, 'scale_pos_weight': 3.3547694487610906}. Best is trial 52 with value: 0.9959061434119558.\n"
     ]
    },
    {
     "name": "stdout",
     "output_type": "stream",
     "text": [
      "Trial 97: AUC = 0.9952\n"
     ]
    },
    {
     "name": "stderr",
     "output_type": "stream",
     "text": [
      "[I 2025-05-26 08:02:37,874] Trial 98 finished with value: 0.9950216952506885 and parameters: {'learning_rate': 0.06930193057420926, 'max_depth': 12, 'min_child_weight': 8.226315593347328, 'subsample': 0.5378099871463161, 'colsample_bytree': 0.6844997303100796, 'gamma': 0.8228223261724951, 'alpha': 0.16094187526980105, 'lambda': 7.5155598790221376e-06, 'scale_pos_weight': 5.595632077469756}. Best is trial 52 with value: 0.9959061434119558.\n"
     ]
    },
    {
     "name": "stdout",
     "output_type": "stream",
     "text": [
      "Trial 98: AUC = 0.9950\n"
     ]
    },
    {
     "name": "stderr",
     "output_type": "stream",
     "text": [
      "[I 2025-05-26 08:02:38,445] Trial 99 finished with value: 0.9948553139134204 and parameters: {'learning_rate': 0.40976250028704325, 'max_depth': 12, 'min_child_weight': 9.809202230546166, 'subsample': 0.5256237429180696, 'colsample_bytree': 0.7037369906305591, 'gamma': 1.4116541259886723, 'alpha': 0.06112771403586912, 'lambda': 1.9225635564943754e-06, 'scale_pos_weight': 9.969973743675993}. Best is trial 52 with value: 0.9959061434119558.\n"
     ]
    },
    {
     "name": "stdout",
     "output_type": "stream",
     "text": [
      "Trial 99: AUC = 0.9949\n",
      "调参完成! 耗时: 106.72秒\n",
      "\n",
      "===== 最佳参数 (AUC) =====\n",
      "最佳AUC分数: 0.9959\n",
      "最佳参数组合:\n",
      "    learning_rate: 0.11178265464451094\n",
      "    max_depth: 12\n",
      "    min_child_weight: 7.816987635792538\n",
      "    subsample: 0.8364335302132297\n",
      "    colsample_bytree: 0.7815192935962403\n",
      "    gamma: 0.04106291945467544\n",
      "    alpha: 0.0015465081308317316\n",
      "    lambda: 1.1639237620610773e-05\n",
      "    scale_pos_weight: 1.3547412011132844\n",
      "\n",
      "===== 使用最佳参数训练最终XGBoost模型 =====\n",
      "[0]\ttrain-auc:0.94145\tval-auc:0.92546\n",
      "[50]\ttrain-auc:0.99984\tval-auc:0.99185\n",
      "[100]\ttrain-auc:1.00000\tval-auc:0.99404\n",
      "[150]\ttrain-auc:1.00000\tval-auc:0.99490\n",
      "[200]\ttrain-auc:1.00000\tval-auc:0.99535\n",
      "[250]\ttrain-auc:1.00000\tval-auc:0.99553\n",
      "[300]\ttrain-auc:1.00000\tval-auc:0.99574\n",
      "[350]\ttrain-auc:1.00000\tval-auc:0.99579\n",
      "[400]\ttrain-auc:1.00000\tval-auc:0.99591\n",
      "[450]\ttrain-auc:1.00000\tval-auc:0.99597\n",
      "[473]\ttrain-auc:1.00000\tval-auc:0.99593\n",
      "最终模型训练完成! 总耗时: 0.97秒\n",
      "实际迭代次数: 425\n",
      "平均每迭代时间: 0.0023秒\n",
      "\n",
      "最佳模型已保存到: ./xgboost/models/xgboost_auc.pkl\n",
      "特征列表已保存到: ./xgboost/models/xgboost_selected_features.txt\n",
      "\n",
      "===== XGBoost 在验证集上的性能 =====\n",
      "AUC: 0.9959\n",
      "Weighted F1 Score: 0.9629\n",
      "F1 Score: 0.9715\n",
      "Accuracy: 0.9630\n",
      "\n",
      "===== XGBoost 在测试集上的性能 =====\n",
      "AUC: 0.9972\n",
      "Weighted F1 Score: 0.9690\n",
      "F1 Score: 0.9755\n",
      "Accuracy: 0.9690\n"
     ]
    },
    {
     "data": {
      "text/plain": [
       "<Figure size 1200x800 with 0 Axes>"
      ]
     },
     "metadata": {},
     "output_type": "display_data"
    },
    {
     "data": {
      "text/plain": [
       "<Figure size 1200x800 with 0 Axes>"
      ]
     },
     "metadata": {},
     "output_type": "display_data"
    }
   ],
   "source": [
    "# 设置XGBoost的输出目录\n",
    "plots_dir = f'{base_dir}/xgboost/plots'\n",
    "models_dir = f'{base_dir}/xgboost/models'\n",
    "results_dir = f'{base_dir}/xgboost/results'\n",
    "\n",
    "# 定义XGBoost的AUC优化目标函数\n",
    "def objective_xgboost_auc(trial):\n",
    "    \"\"\"功Optuna优化目标函数 - 使用验证集上的AUC作为评价指标\"\"\"\n",
    "    # 定义XGBoost参数搜索空间\n",
    "    params = {\n",
    "        'objective': 'binary:logistic',\n",
    "        'eval_metric': 'auc',\n",
    "        'verbosity': 0,\n",
    "        \n",
    "        # 核心参数\n",
    "        'learning_rate': trial.suggest_float('learning_rate', 0.01, 0.5, log=True),\n",
    "        'max_depth': trial.suggest_int('max_depth', 3, 12),\n",
    "        \n",
    "        # 正则化参数\n",
    "        'min_child_weight': trial.suggest_float('min_child_weight', 1, 10),\n",
    "        'subsample': trial.suggest_float('subsample', 0.5, 1.0),\n",
    "        'colsample_bytree': trial.suggest_float('colsample_bytree', 0.5, 1.0),\n",
    "        'gamma': trial.suggest_float('gamma', 0, 10),\n",
    "        'alpha': trial.suggest_float('alpha', 1e-8, 10.0, log=True),\n",
    "        'lambda': trial.suggest_float('lambda', 1e-8, 10.0, log=True),\n",
    "        \n",
    "        # CPU特定参数\n",
    "        'tree_method': 'hist',  # 使用直方图算法\n",
    "        'n_jobs': n_proc,        # 使用全局设置的线程数\n",
    "        \n",
    "        'scale_pos_weight': trial.suggest_float('scale_pos_weight', 0.1, 10.0),\n",
    "        'random_state': 42\n",
    "    }\n",
    "\n",
    "    # 准备数据\n",
    "    dtrain = xgb.DMatrix(X_train_final, label=y_train)\n",
    "    dval = xgb.DMatrix(X_val_final, label=y_val)\n",
    "    \n",
    "    # 设置评估集\n",
    "    evals = [(dtrain, 'train'), (dval, 'val')]\n",
    "    evals_result = {}\n",
    "    \n",
    "    # 训练模型，使用早停\n",
    "    model = xgb.train(\n",
    "        params=params,\n",
    "        dtrain=dtrain,\n",
    "        num_boost_round=2000,  # 最大迭代次数\n",
    "        evals=evals,\n",
    "        early_stopping_rounds=50,\n",
    "        evals_result=evals_result,\n",
    "        verbose_eval=False  # 只在每400次迭代时输出\n",
    "    )\n",
    "    \n",
    "    # 在验证集上预测概率\n",
    "    y_val_prob = model.predict(dval)\n",
    "    \n",
    "    # 计算AUC分数\n",
    "    auc_score = roc_auc_score(y_val, y_val_prob)\n",
    "    \n",
    "    # 打印当前试验的结果\n",
    "    print(f\"Trial {trial.number}: AUC = {auc_score:.4f}\")\n",
    "    \n",
    "    return auc_score\n",
    "\n",
    "# 创建 Optuna study对象 - 优化方向是最大化AUC\n",
    "print(\"\\n===== 开始XGBoost模型的Optuna调参过程 (AUC) =====\")\n",
    "xgboost_study_auc = optuna.create_study(direction='maximize', study_name='xgboost_auc_optimization')\n",
    "\n",
    "# 运行优化\n",
    "print(f\"开始运行 {n_trials_optuna} 次调参试验...\")\n",
    "start_time = time.time()\n",
    "xgboost_study_auc.optimize(objective_xgboost_auc, n_trials=n_trials_optuna)\n",
    "end_time = time.time()\n",
    "print(f\"调参完成! 耗时: {end_time - start_time:.2f}秒\")\n",
    "\n",
    "# 打印最佳参数和结果\n",
    "print(\"\\n===== 最佳参数 (AUC) =====\")\n",
    "print(f\"最佳AUC分数: {xgboost_study_auc.best_value:.4f}\")\n",
    "print(\"最佳参数组合:\")\n",
    "for key, value in xgboost_study_auc.best_params.items():\n",
    "    print(f\"    {key}: {value}\")\n",
    "\n",
    "# 可视化调参过程\n",
    "plt.figure(figsize=(12, 8))\n",
    "optuna.visualization.matplotlib.plot_optimization_history(xgboost_study_auc)\n",
    "plt.title('XGBoost Optimization History - AUC')\n",
    "plt.tight_layout()\n",
    "plt.savefig(f'{plots_dir}/optuna_xgboost_auc_history.png')\n",
    "plt.close()\n",
    "\n",
    "# 可视化超参数重要性\n",
    "plt.figure(figsize=(12, 8))\n",
    "optuna.visualization.matplotlib.plot_param_importances(xgboost_study_auc)\n",
    "plt.tight_layout()\n",
    "plt.savefig(f'{plots_dir}/optuna_xgboost_auc_param_importances.png')\n",
    "plt.close()\n",
    "\n",
    "# 使用最佳参数训练最终模型\n",
    "print(\"\\n===== 使用最佳参数训练最终XGBoost模型 =====\")\n",
    "best_params_xgboost = xgboost_study_auc.best_params.copy()\n",
    "best_params_xgboost['objective'] = 'binary:logistic'\n",
    "best_params_xgboost['eval_metric'] = 'auc'\n",
    "best_params_xgboost['tree_method'] = 'hist'\n",
    "best_params_xgboost['n_jobs'] = n_proc\n",
    "best_params_xgboost['verbosity'] = 1\n",
    "best_params_xgboost['random_state'] = 42\n",
    "\n",
    "# 准备数据\n",
    "dtrain = xgb.DMatrix(X_train_final, label=y_train)\n",
    "dval = xgb.DMatrix(X_val_final, label=y_val)\n",
    "dtest = xgb.DMatrix(X_test_final, label=y_test)\n",
    "\n",
    "# 设置评估集\n",
    "evals = [(dtrain, 'train'), (dval, 'val')]\n",
    "evals_result = {}\n",
    "\n",
    "# 开始训练计时\n",
    "start_time = time.time()\n",
    "\n",
    "# 训练最终模型\n",
    "final_xgboost_model = xgb.train(\n",
    "    params=best_params_xgboost,\n",
    "    dtrain=dtrain,\n",
    "    num_boost_round=3000,  # 设置足够大的最大迭代次数\n",
    "    evals=evals,\n",
    "    early_stopping_rounds=50,\n",
    "    evals_result=evals_result,\n",
    "    verbose_eval=50  # 每50轮显示一次进度\n",
    ")\n",
    "\n",
    "# 结束训练计时\n",
    "end_time = time.time()\n",
    "\n",
    "# 计算平均每迭代训练时间\n",
    "training_time = end_time - start_time\n",
    "actual_iterations = final_xgboost_model.best_iteration + 1  # +1因为迭代从0开始\n",
    "avg_time_per_iteration = training_time / actual_iterations\n",
    "\n",
    "print(f\"最终模型训练完成! 总耗时: {training_time:.2f}秒\")\n",
    "print(f\"实际迭代次数: {actual_iterations}\")\n",
    "print(f\"平均每迭代时间: {avg_time_per_iteration:.4f}秒\")\n",
    "\n",
    "# 保存训练时间指标\n",
    "xgboost_time_metrics = {\n",
    "    'model': 'XGBoost',\n",
    "    'total_training_time': training_time,\n",
    "    'iterations': actual_iterations,\n",
    "    'avg_time_per_iteration': avg_time_per_iteration\n",
    "}\n",
    "\n",
    "# 保存最佳模型\n",
    "model_path = f'{models_dir}/xgboost_auc.pkl'\n",
    "joblib.dump(final_xgboost_model, model_path)\n",
    "print(f\"\\n最佳模型已保存到: {model_path}\")\n",
    "\n",
    "# 保存所选特征列表\n",
    "with open(f'{models_dir}/xgboost_selected_features.txt', 'w') as f:\n",
    "    f.write('\\n'.join(selected_features))\n",
    "print(f\"特征列表已保存到: {models_dir}/xgboost_selected_features.txt\")\n",
    "\n",
    "# 使用评估函数评估模型\n",
    "xgboost_results = evaluate_model(\n",
    "    final_xgboost_model, \n",
    "    X_train_final, y_train, \n",
    "    X_val_final, y_val, \n",
    "    X_test_final, y_test,\n",
    "    \"XGBoost\",\n",
    "    is_xgb=True\n",
    ")\n",
    "\n",
    "# 将时间指标添加到结果中\n",
    "xgboost_results['time_metrics'] = xgboost_time_metrics"
   ]
  },
  {
   "cell_type": "markdown",
   "id": "b11bfbdc",
   "metadata": {},
   "source": [
    "## 10. 模型性能比较"
   ]
  },
  {
   "cell_type": "code",
   "execution_count": 41,
   "id": "c3ca1228",
   "metadata": {},
   "outputs": [
    {
     "name": "stdout",
     "output_type": "stream",
     "text": [
      "\n",
      "===== 验证集上的模型性能比较 =====\n",
      "      Model       AUC  Accuracy  F1 Score  Weighted F1\n",
      "0  CatBoost  0.996002     0.964  0.972222     0.963977\n",
      "1  LightGBM  0.996348     0.964  0.972222     0.963977\n",
      "2   XGBoost  0.995906     0.963  0.971517     0.962939\n",
      "\n",
      "===== 测试集上的模型性能比较 =====\n",
      "      Model       AUC  Accuracy  F1 Score  Weighted F1\n",
      "0  CatBoost  0.997412     0.979  0.983373     0.978970\n",
      "1  LightGBM  0.997142     0.971  0.977075     0.970942\n",
      "2   XGBoost  0.997227     0.969  0.975455     0.968956\n",
      "\n",
      "===== 模型训练时间性能比较 =====\n",
      "      Model  Total Training Time (s)  Iterations  Avg Time Per Iteration (s)\n",
      "0  CatBoost                 2.017033         522                    0.003864\n",
      "1  LightGBM                 0.713020         597                    0.001194\n",
      "2   XGBoost                 0.969681         425                    0.002282\n",
      "\n",
      "保存比较结果到: ./comparison\n",
      "比较结果已保存到: ./comparison\n"
     ]
    },
    {
     "name": "stdout",
     "output_type": "stream",
     "text": [
      "\n",
      "===== 模型比较可视化已保存到结果目录 =====\n"
     ]
    }
   ],
   "source": [
    "# 创建模型性能比较表\n",
    "def compare_models(results_list):\n",
    "    \"\"\"比较多个模型的性能\"\"\"\n",
    "    # 提取验证集和测试集的指标\n",
    "    val_metrics = []\n",
    "    test_metrics = []\n",
    "    time_metrics = []\n",
    "    model_names = []\n",
    "    \n",
    "    for result in results_list:\n",
    "        model_names.append(result['model_name'])\n",
    "        val_metrics.append(result['validation'])\n",
    "        test_metrics.append(result['test'])\n",
    "        time_metrics.append(result['time_metrics'])\n",
    "    \n",
    "    # 创建验证集性能比较表\n",
    "    val_comparison = pd.DataFrame({\n",
    "        'Model': model_names,\n",
    "        'AUC': [metrics['auc'] for metrics in val_metrics],\n",
    "        'Accuracy': [metrics['accuracy'] for metrics in val_metrics],\n",
    "        'F1 Score': [metrics['f1'] for metrics in val_metrics],\n",
    "        'Weighted F1': [metrics['f1_weighted'] for metrics in val_metrics]\n",
    "    })\n",
    "    \n",
    "    # 创建测试集性能比较表\n",
    "    test_comparison = pd.DataFrame({\n",
    "        'Model': model_names,\n",
    "        'AUC': [metrics['auc'] for metrics in test_metrics],\n",
    "        'Accuracy': [metrics['accuracy'] for metrics in test_metrics],\n",
    "        'F1 Score': [metrics['f1'] for metrics in test_metrics],\n",
    "        'Weighted F1': [metrics['f1_weighted'] for metrics in test_metrics]\n",
    "    })\n",
    "    \n",
    "    # 创建时间性能比较表\n",
    "    time_comparison = pd.DataFrame({\n",
    "        'Model': model_names,\n",
    "        'Total Training Time (s)': [metrics['total_training_time'] for metrics in time_metrics],\n",
    "        'Iterations': [metrics['iterations'] for metrics in time_metrics],\n",
    "        'Avg Time Per Iteration (s)': [metrics['avg_time_per_iteration'] for metrics in time_metrics]\n",
    "    })\n",
    "    \n",
    "    return val_comparison, test_comparison, time_comparison\n",
    "\n",
    "# 整合所有模型的结果\n",
    "all_results = [catboost_results, lightgbm_results, xgboost_results]\n",
    "\n",
    "# 生成比较表\n",
    "val_comparison, test_comparison, time_comparison = compare_models(all_results)\n",
    "\n",
    "print(\"\\n===== 验证集上的模型性能比较 =====\")\n",
    "print(val_comparison)\n",
    "\n",
    "print(\"\\n===== 测试集上的模型性能比较 =====\")\n",
    "print(test_comparison)\n",
    "\n",
    "print(\"\\n===== 模型训练时间性能比较 =====\")\n",
    "print(time_comparison)\n",
    "\n",
    "\n",
    "# 使用比较目录保存比较结果\n",
    "print(f\"\\n保存比较结果到: {comparison_dir}\")\n",
    "\n",
    "# 保存比较结果到比较目录\n",
    "val_comparison.to_csv(f'{comparison_dir}/validation_comparison.csv', index=False)\n",
    "test_comparison.to_csv(f'{comparison_dir}/test_comparison.csv', index=False)\n",
    "time_comparison.to_csv(f'{comparison_dir}/time_performance_comparison.csv', index=False)\n",
    "print(f\"比较结果已保存到: {comparison_dir}\")\n",
    "\n",
    "# 可视化比较结果\n",
    "# 验证集AUC比较\n",
    "plt.figure(figsize=(12, 6))\n",
    "plt.bar(val_comparison['Model'], val_comparison['AUC'])\n",
    "plt.title('Validation Set - AUC Comparison')\n",
    "plt.ylabel('AUC Score')\n",
    "plt.ylim(0.9, 1.0)  # 调整Y轴范围使差异更明显\n",
    "for i, v in enumerate(val_comparison['AUC']):\n",
    "    plt.text(i, v + 0.005, f\"{v:.4f}\", ha='center')\n",
    "plt.tight_layout()\n",
    "plt.savefig(f'{comparison_dir}/validation_auc_comparison.png')\n",
    "plt.close()\n",
    "\n",
    "# 测试集AUC比较\n",
    "plt.figure(figsize=(12, 6))\n",
    "plt.bar(test_comparison['Model'], test_comparison['AUC'])\n",
    "plt.title('Test Set - AUC Comparison')\n",
    "plt.ylabel('AUC Score')\n",
    "plt.ylim(0.9, 1.0)  # 调整Y轴范围使差异更明显\n",
    "for i, v in enumerate(test_comparison['AUC']):\n",
    "    plt.text(i, v + 0.005, f\"{v:.4f}\", ha='center')\n",
    "plt.tight_layout()\n",
    "plt.savefig(f'{comparison_dir}/test_auc_comparison.png')\n",
    "plt.close()\n",
    "\n",
    "# 训练时间比较\n",
    "plt.figure(figsize=(12, 6))\n",
    "plt.bar(time_comparison['Model'], time_comparison['Avg Time Per Iteration (s)'])\n",
    "plt.title('Average Time Per Iteration Comparison')\n",
    "plt.ylabel('Time (seconds)')\n",
    "for i, v in enumerate(time_comparison['Avg Time Per Iteration (s)']):\n",
    "    plt.text(i, v + 0.005, f\"{v:.4f}s\", ha='center')\n",
    "plt.tight_layout()\n",
    "plt.savefig(f'{comparison_dir}/avg_time_per_iteration_comparison.png')\n",
    "plt.close()\n",
    "\n",
    "# 创建综合性能指标的雷达图\n",
    "def plot_radar_chart(data, save_path, title):\n",
    "    # 准备雷达图数据\n",
    "    metrics = ['AUC', 'Accuracy', 'F1 Score', 'Weighted F1']\n",
    "    models = data['Model']\n",
    "    \n",
    "    # 计算角度\n",
    "    N = len(metrics)\n",
    "    angles = np.linspace(0, 2*np.pi, N, endpoint=False).tolist()\n",
    "    angles += angles[:1]  # 闭合图形\n",
    "    \n",
    "    # 创建图形\n",
    "    fig, ax = plt.subplots(figsize=(10, 8), subplot_kw=dict(polar=True))\n",
    "    \n",
    "    # 为每个模型添加数据\n",
    "    for i, model in enumerate(models):\n",
    "        values = data.loc[i, metrics].values.flatten().tolist()\n",
    "        values += values[:1]  # 闭合图形\n",
    "        ax.plot(angles, values, linewidth=2, label=model)\n",
    "        ax.fill(angles, values, alpha=0.1)\n",
    "    \n",
    "    # 设置雷达图的刻度标签\n",
    "    ax.set_xticks(angles[:-1])\n",
    "    ax.set_xticklabels(metrics)\n",
    "    \n",
    "    # 设置Y轴范围\n",
    "    ax.set_ylim(0.8, 1.0)\n",
    "    \n",
    "    # 添加标题和图例\n",
    "    plt.title(title, size=15, pad=20)\n",
    "    plt.legend(loc='upper right')\n",
    "    plt.tight_layout()\n",
    "    \n",
    "    # 保存图形\n",
    "    plt.savefig(save_path)\n",
    "    plt.close()\n",
    "\n",
    "# 绘制雷达图\n",
    "plot_radar_chart(val_comparison, f'{comparison_dir}/validation_radar_comparison.png', 'Validation Set - Model Performance Comparison')\n",
    "plot_radar_chart(test_comparison, f'{comparison_dir}/test_radar_comparison.png', 'Test Set - Model Performance Comparison')\n",
    "\n",
    "print(\"\\n===== 模型比较可视化已保存到结果目录 =====\")"
   ]
  },
  {
   "cell_type": "markdown",
   "id": "8893707b",
   "metadata": {},
   "source": [
    "## 11. SHAP值分析 - 特征重要性解释"
   ]
  },
  {
   "cell_type": "code",
   "execution_count": 38,
   "id": "5ccb59ff",
   "metadata": {},
   "outputs": [
    {
     "name": "stdout",
     "output_type": "stream",
     "text": [
      "\n",
      "===== 使用SHAP进行模型解释 =====\n",
      "\n",
      "分析 CatBoost 模型 - 保存结果到 ./shap/catboost\n"
     ]
    },
    {
     "name": "stdout",
     "output_type": "stream",
     "text": [
      "CatBoost 的SHAP分析完成，图表已保存到: ./shap/catboost\n",
      "\n",
      "分析 LightGBM 模型 - 保存结果到 ./shap/lightgbm\n",
      "LightGBM 的SHAP分析完成，图表已保存到: ./shap/lightgbm\n",
      "\n",
      "分析 XGBoost 模型 - 保存结果到 ./shap/xgboost\n",
      "XGBoost 的SHAP分析完成，图表已保存到: ./shap/xgboost\n",
      "\n",
      "比较不同模型的SHAP特征重要性...\n",
      "\n",
      "比较不同模型的SHAP特征重要性 - 保存到 ./shap\n",
      "特征重要性比较已完成并保存\n",
      "\n",
      "前10个最重要的特征 (基于平均SHAP重要性):\n",
      "           Mean_Importance\n",
      "tau2_g2           2.263767\n",
      "tau4_g4           2.048584\n",
      "tau1_g1           1.966725\n",
      "tau3_g3           1.840156\n",
      "tau_ratio         1.758065\n",
      "tau1              0.854197\n",
      "tau3              0.834777\n",
      "tau4              0.833542\n",
      "g1                0.755996\n",
      "tau2              0.718121\n"
     ]
    },
    {
     "data": {
      "text/plain": [
       "<Figure size 1200x800 with 0 Axes>"
      ]
     },
     "metadata": {},
     "output_type": "display_data"
    },
    {
     "data": {
      "text/plain": [
       "<Figure size 1200x800 with 0 Axes>"
      ]
     },
     "metadata": {},
     "output_type": "display_data"
    },
    {
     "data": {
      "text/plain": [
       "<Figure size 1200x800 with 0 Axes>"
      ]
     },
     "metadata": {},
     "output_type": "display_data"
    },
    {
     "data": {
      "text/plain": [
       "<Figure size 1200x800 with 0 Axes>"
      ]
     },
     "metadata": {},
     "output_type": "display_data"
    },
    {
     "data": {
      "text/plain": [
       "<Figure size 1200x800 with 0 Axes>"
      ]
     },
     "metadata": {},
     "output_type": "display_data"
    },
    {
     "data": {
      "text/plain": [
       "<Figure size 1200x800 with 0 Axes>"
      ]
     },
     "metadata": {},
     "output_type": "display_data"
    },
    {
     "data": {
      "text/plain": [
       "<Figure size 1200x800 with 0 Axes>"
      ]
     },
     "metadata": {},
     "output_type": "display_data"
    },
    {
     "data": {
      "text/plain": [
       "<Figure size 1200x800 with 0 Axes>"
      ]
     },
     "metadata": {},
     "output_type": "display_data"
    },
    {
     "data": {
      "text/plain": [
       "<Figure size 1200x800 with 0 Axes>"
      ]
     },
     "metadata": {},
     "output_type": "display_data"
    },
    {
     "data": {
      "text/plain": [
       "<Figure size 1200x800 with 0 Axes>"
      ]
     },
     "metadata": {},
     "output_type": "display_data"
    },
    {
     "data": {
      "text/plain": [
       "<Figure size 1200x800 with 0 Axes>"
      ]
     },
     "metadata": {},
     "output_type": "display_data"
    },
    {
     "data": {
      "text/plain": [
       "<Figure size 1200x800 with 0 Axes>"
      ]
     },
     "metadata": {},
     "output_type": "display_data"
    },
    {
     "data": {
      "text/plain": [
       "<Figure size 1200x800 with 0 Axes>"
      ]
     },
     "metadata": {},
     "output_type": "display_data"
    },
    {
     "data": {
      "text/plain": [
       "<Figure size 1200x800 with 0 Axes>"
      ]
     },
     "metadata": {},
     "output_type": "display_data"
    },
    {
     "data": {
      "text/plain": [
       "<Figure size 1200x800 with 0 Axes>"
      ]
     },
     "metadata": {},
     "output_type": "display_data"
    },
    {
     "data": {
      "text/plain": [
       "<Figure size 1400x1000 with 0 Axes>"
      ]
     },
     "metadata": {},
     "output_type": "display_data"
    }
   ],
   "source": [
    "# 导入SHAP库\n",
    "import shap\n",
    "import numpy as np\n",
    "import matplotlib.pyplot as plt\n",
    "\n",
    "print(\"\\n===== 使用SHAP进行模型解释 =====\")\n",
    "\n",
    "# 从每个数据集中随机采样一部分数据用于SHAP分析(计算量很大)\n",
    "shap_sample_size = min(500, X_train_final.shape[0])  # 最多使用500个样本\n",
    "np.random.seed(42)  # 设置随机种子确保可重复性\n",
    "shap_indices = np.random.choice(X_train_final.shape[0], shap_sample_size, replace=False)\n",
    "X_shap = X_train_final.iloc[shap_indices]\n",
    "\n",
    "# 分析各个模型的SHAP值\n",
    "models_to_analyze = [\n",
    "    {\"name\": \"CatBoost\", \"model\": final_catboost_model, \"is_tree\": True},\n",
    "    {\"name\": \"LightGBM\", \"model\": final_lightgbm_model, \"is_tree\": True},\n",
    "    {\"name\": \"XGBoost\", \"model\": final_xgboost_model, \"is_tree\": True, \"is_xgb\": True}\n",
    "]\n",
    "\n",
    "for model_info in models_to_analyze:\n",
    "    model_name = model_info[\"name\"]\n",
    "    model = model_info[\"model\"]\n",
    "    is_tree = model_info[\"is_tree\"]\n",
    "    is_xgb = model_info.get(\"is_xgb\", False)\n",
    "    \n",
    "    # 创建模型特定的SHAP结果目录\n",
    "    model_shap_dir = f'{shap_dir}/{model_name.lower()}'\n",
    "    os.makedirs(model_shap_dir, exist_ok=True)\n",
    "    print(f\"\\n分析 {model_name} 模型 - 保存结果到 {model_shap_dir}\")\n",
    "    \n",
    "    # 为不同的模型类型创建正确的解释器\n",
    "    if is_xgb:\n",
    "        # XGBoost模型需要特殊处理\n",
    "        explainer = shap.TreeExplainer(model)\n",
    "        # 创建DMatrix格式的数据\n",
    "        X_shap_dmatrix = xgb.DMatrix(X_shap)\n",
    "        shap_values = explainer.shap_values(X_shap)\n",
    "    elif is_tree:\n",
    "        # 对于基于树的模型\n",
    "        explainer = shap.TreeExplainer(model)\n",
    "        shap_values = explainer.shap_values(X_shap)\n",
    "        # 处理CatBoost和LightGBM模型的特殊情况\n",
    "        if model_name == \"CatBoost\" or model_name == \"LightGBM\":\n",
    "            # 对于二分类模型，通常需要获取正类的SHAP值\n",
    "            if isinstance(shap_values, list) and len(shap_values) > 1:\n",
    "                shap_values = shap_values[1]  # 取正类的SHAP值\n",
    "    else:\n",
    "        # 对于其他类型的模型(如果有的话)\n",
    "        explainer = shap.KernelExplainer(model.predict_proba, X_shap.iloc[:100])  # 对于非树模型，样本量更小\n",
    "        shap_values = explainer.shap_values(X_shap.iloc[:100])\n",
    "        # 取正类的SHAP值\n",
    "        if isinstance(shap_values, list) and len(shap_values) > 1:\n",
    "            shap_values = shap_values[1]  # 取正类的SHAP值\n",
    "    \n",
    "    # 绘制摘要图 - 所有特征的全局重要性\n",
    "    plt.figure(figsize=(12, 10))\n",
    "    shap.summary_plot(shap_values, X_shap, plot_type=\"bar\", show=False)\n",
    "    plt.title(f\"{model_name} - SHAP Feature Importance\")\n",
    "    plt.tight_layout()\n",
    "    plt.savefig(f'{model_shap_dir}/shap_importance.png')\n",
    "    plt.close()\n",
    "    \n",
    "    # 绘制SHAP值的概述图\n",
    "    plt.figure(figsize=(14, 12))\n",
    "    shap.summary_plot(shap_values, X_shap, show=False)\n",
    "    plt.title(f\"{model_name} - SHAP Feature Impact Summary\")\n",
    "    plt.tight_layout()\n",
    "    plt.savefig(f'{model_shap_dir}/shap_summary.png')\n",
    "    plt.close()\n",
    "    \n",
    "    # 为每个重要特征绘制详细的依赖图(最多前5个重要特征)\n",
    "    feature_importance = np.abs(shap_values).mean(0)\n",
    "    feature_names = X_shap.columns.tolist()\n",
    "    most_important_features_idx = np.argsort(-feature_importance)[:5]  # 取前5个最重要的特征\n",
    "    \n",
    "    for idx in most_important_features_idx:\n",
    "        feature_name = feature_names[idx]\n",
    "        plt.figure(figsize=(12, 8))\n",
    "        shap.dependence_plot(idx, shap_values, X_shap, show=False)\n",
    "        plt.title(f\"{model_name} - SHAP Dependence Plot for '{feature_name}'\")\n",
    "        plt.tight_layout()\n",
    "        plt.savefig(f'{model_shap_dir}/shap_dependence_{feature_name}.png')\n",
    "        plt.close()\n",
    "        \n",
    "    print(f\"{model_name} 的SHAP分析完成，图表已保存到: {model_shap_dir}\")\n",
    "\n",
    "# 创建一个比较不同模型的SHAP特征重要性的函数，结果保存到全局比较目录\n",
    "def compare_shap_importance(models_to_analyze, X_shap):\n",
    "    \"\"\"比较不同模型的SHAP特征重要性\"\"\"\n",
    "    print(f\"\\n比较不同模型的SHAP特征重要性 - 保存到 {shap_dir}\")\n",
    "    \n",
    "    # 存储每个模型的特征重要性\n",
    "    model_importance = {}\n",
    "    \n",
    "    for model_info in models_to_analyze:\n",
    "        model_name = model_info[\"name\"]\n",
    "        model = model_info[\"model\"]\n",
    "        is_tree = model_info[\"is_tree\"]\n",
    "        is_xgb = model_info.get(\"is_xgb\", False)\n",
    "        \n",
    "        # 计算SHAP值\n",
    "        if is_xgb:\n",
    "            explainer = shap.TreeExplainer(model)\n",
    "            X_shap_dmatrix = xgb.DMatrix(X_shap)\n",
    "            shap_values = explainer.shap_values(X_shap)\n",
    "        elif is_tree:\n",
    "            explainer = shap.TreeExplainer(model)\n",
    "            shap_values = explainer.shap_values(X_shap)\n",
    "            if isinstance(shap_values, list) and len(shap_values) > 1:\n",
    "                shap_values = shap_values[1]  # 取正类的SHAP值\n",
    "        else:\n",
    "            # 其他类型的模型\n",
    "            explainer = shap.KernelExplainer(model.predict_proba, X_shap.iloc[:100])\n",
    "            shap_values = explainer.shap_values(X_shap.iloc[:100])\n",
    "            if isinstance(shap_values, list) and len(shap_values) > 1:\n",
    "                shap_values = shap_values[1]  # 取正类的SHAP值\n",
    "                \n",
    "        # 计算特征重要性\n",
    "        feature_importance = np.abs(shap_values).mean(0)\n",
    "        model_importance[model_name] = feature_importance\n",
    "    \n",
    "    # 创建DataFrame来比较所有模型的特征重要性\n",
    "    importance_df = pd.DataFrame(index=X_shap.columns)\n",
    "    \n",
    "    for model_name, importance in model_importance.items():\n",
    "        importance_df[model_name] = importance\n",
    "    \n",
    "    # 计算平均重要性并排序\n",
    "    importance_df['Mean_Importance'] = importance_df.mean(axis=1)\n",
    "    importance_df = importance_df.sort_values('Mean_Importance', ascending=False)\n",
    "    \n",
    "    # 保存特征重要性比较\n",
    "    importance_df.to_csv(f'{shap_dir}/shap_feature_importance_comparison.csv')\n",
    "    \n",
    "    # 选择前10个重要特征进行可视化\n",
    "    top_features = importance_df.head(10).index\n",
    "    plot_df = importance_df.loc[top_features].drop('Mean_Importance', axis=1)\n",
    "    \n",
    "    # 可视化不同模型的特征重要性比较\n",
    "    plt.figure(figsize=(14, 10))\n",
    "    plot_df.plot(kind='bar', figsize=(14, 10))\n",
    "    plt.title('SHAP Feature Importance Comparison Across Models (Top 10 Features)')\n",
    "    plt.ylabel('SHAP Feature Importance (Mean |SHAP|)')\n",
    "    plt.xlabel('Features')\n",
    "    plt.xticks(rotation=45, ha='right')\n",
    "    plt.tight_layout()\n",
    "    plt.savefig(f'{shap_dir}/model_feature_importance_comparison.png')\n",
    "    plt.close()\n",
    "    \n",
    "    return importance_df\n",
    "\n",
    "# 比较不同模型的SHAP特征重要性\n",
    "print(\"\\n比较不同模型的SHAP特征重要性...\")\n",
    "importance_comparison = compare_shap_importance(models_to_analyze, X_shap)\n",
    "print(\"特征重要性比较已完成并保存\")\n",
    "\n",
    "# 打印前10个最重要的特征\n",
    "print(\"\\n前10个最重要的特征 (基于平均SHAP重要性):\")\n",
    "print(importance_comparison[['Mean_Importance']].head(10))"
   ]
  },
  {
   "cell_type": "markdown",
   "id": "5cb0315d",
   "metadata": {},
   "source": [
    "备选: 使用Weighted F1作为Optuna优化目标的模型训练\n",
    "\n",
    "\n",
    "\n",
    "```python\n",
    "# CatBoost - Weighted F1优化\n",
    "def objective_catboost_wf1(trial):\n",
    "    # 定义CatBoost参数搜索空间\n",
    "    params = {\n",
    "        'loss_function': 'Logloss',\n",
    "        'eval_metric': 'Logloss',\n",
    "        'verbose': 0,\n",
    "        \n",
    "        # 核心参数\n",
    "        'learning_rate': trial.suggest_float('learning_rate', 0.01, 0.5, log=True),\n",
    "        'iterations': 2000,\n",
    "        'depth': trial.suggest_int('depth', 3, 10),\n",
    "        \n",
    "        # 正则化参数\n",
    "        'l2_leaf_reg': trial.suggest_float('l2_leaf_reg', 1e-8, 10.0, log=True),\n",
    "        'random_strength': trial.suggest_float('random_strength', 1e-8, 10.0, log=True),\n",
    "        'bagging_temperature': trial.suggest_float('bagging_temperature', 0, 10.0),\n",
    "        \n",
    "        # 其他参数\n",
    "        'min_data_in_leaf': trial.suggest_int('min_data_in_leaf', 1, 100),\n",
    "        'rsm': trial.suggest_float('rsm', 0.1, 1.0),\n",
    "        \n",
    "        'thread_count': 16,\n",
    "        'random_seed': 42\n",
    "    }\n",
    "    \n",
    "    # 创建CatBoost模型\n",
    "    model = cb.CatBoostClassifier(**params)\n",
    "    \n",
    "    # 训练模型\n",
    "    model.fit(\n",
    "        X_train_final, y_train,\n",
    "        eval_set=[(X_val_final, y_val)],\n",
    "        early_stopping_rounds=50,\n",
    "        verbose=False\n",
    "    )\n",
    "    \n",
    "    # 在验证集上预测\n",
    "    y_val_pred = model.predict(X_val_final)\n",
    "    \n",
    "    # 计算weighted F1分数\n",
    "    f1_weighted = f1_score(y_val, y_val_pred, average='weighted')\n",
    "    \n",
    "    print(f\"Trial {trial.number}: Weighted F1 = {f1_weighted:.4f}\")\n",
    "    \n",
    "    return f1_weighted\n",
    "\n",
    "# LightGBM - Weighted F1优化\n",
    "def objective_lightgbm_wf1(trial):\n",
    "    # 定义LightGBM参数搜索空间\n",
    "    params = {\n",
    "        'objective': 'binary',\n",
    "        'metric': 'binary_logloss',\n",
    "        'boosting_type': 'gbdt',\n",
    "        'verbosity': -1,\n",
    "        \n",
    "        # 核心参数\n",
    "        'learning_rate': trial.suggest_float('learning_rate', 0.01, 0.5, log=True),\n",
    "        'n_estimators': trial.suggest_int('n_estimators', 30, 1000),\n",
    "        'num_leaves': trial.suggest_int('num_leaves', 10, 150),\n",
    "        'max_depth': trial.suggest_int('max_depth', 3, 20),\n",
    "        \n",
    "        # 正则化参数\n",
    "        'min_child_samples': trial.suggest_int('min_child_samples', 5, 100),\n",
    "        'subsample': trial.suggest_float('subsample', 0.5, 1.0),\n",
    "        'colsample_bytree': trial.suggest_float('colsample_bytree', 0.5, 1.0),\n",
    "        'reg_alpha': trial.suggest_float('reg_alpha', 1e-8, 10.0, log=True),\n",
    "        'reg_lambda': trial.suggest_float('reg_lambda', 1e-8, 10.0, log=True),\n",
    "        \n",
    "        # 其他参数\n",
    "        'min_split_gain': trial.suggest_float('min_split_gain', 0, 0.5),\n",
    "        'min_child_weight': trial.suggest_float('min_child_weight', 1e-5, 10.0, log=True),\n",
    "        \n",
    "        'n_jobs': 16,\n",
    "        'random_state': 42\n",
    "    }\n",
    "    \n",
    "    # 创建LightGBM模型\n",
    "    model = lgb.LGBMClassifier(**params)\n",
    "    \n",
    "    # 训练模型\n",
    "    model.fit(\n",
    "        X_train_final, y_train,\n",
    "        eval_set=[(X_val_final, y_val)],\n",
    "        eval_metric='logloss',\n",
    "        callbacks=[lgb.early_stopping(stopping_rounds=50, verbose=False)]\n",
    "    )\n",
    "    \n",
    "    # 在验证集上预测\n",
    "    y_val_pred = model.predict(X_val_final)\n",
    "    \n",
    "    # 计算weighted F1分数\n",
    "    f1_weighted = f1_score(y_val, y_val_pred, average='weighted')\n",
    "    \n",
    "    print(f\"Trial {trial.number}: Weighted F1 = {f1_weighted:.4f}\")\n",
    "    \n",
    "    return f1_weighted\n",
    "\n",
    "# XGBoost - Weighted F1优化\n",
    "def objective_xgboost_wf1(trial):\n",
    "    # 定义XGBoost参数搜索空间\n",
    "    params = {\n",
    "        'objective': 'binary:logistic',\n",
    "        'eval_metric': 'logloss',\n",
    "        'verbosity': 0,\n",
    "        \n",
    "        # 核心参数\n",
    "        'learning_rate': trial.suggest_float('learning_rate', 0.01, 0.5, log=True),\n",
    "        'max_depth': trial.suggest_int('max_depth', 3, 12),\n",
    "        \n",
    "        # 正则化参数\n",
    "        'min_child_weight': trial.suggest_float('min_child_weight', 1, 10),\n",
    "        'subsample': trial.suggest_float('subsample', 0.5, 1.0),\n",
    "        'colsample_bytree': trial.suggest_float('colsample_bytree', 0.5, 1.0),\n",
    "        'gamma': trial.suggest_float('gamma', 0, 10),\n",
    "        'alpha': trial.suggest_float('alpha', 1e-8, 10.0, log=True),\n",
    "        'lambda': trial.suggest_float('lambda', 1e-8, 10.0, log=True),\n",
    "        \n",
    "        # CPU特定参数\n",
    "        'tree_method': 'hist',\n",
    "        'n_jobs': 16,\n",
    "        \n",
    "        'scale_pos_weight': trial.suggest_float('scale_pos_weight', 0.1, 10.0),\n",
    "        'random_state': 42\n",
    "    }\n",
    "\n",
    "    dtrain = xgb.DMatrix(X_train_final, label=y_train)\n",
    "    dval = xgb.DMatrix(X_val_final, label=y_val)\n",
    "    \n",
    "    evals = [(dtrain, 'train'), (dval, 'val')]\n",
    "    evals_result = {}\n",
    "    \n",
    "    model = xgb.train(\n",
    "        params=params,\n",
    "        dtrain=dtrain,\n",
    "        num_boost_round=2000,\n",
    "        evals=evals,\n",
    "        early_stopping_rounds=50,\n",
    "        evals_result=evals_result,\n",
    "        verbose_eval=False\n",
    "    )\n",
    "    \n",
    "    y_val_prob = model.predict(dval)\n",
    "    y_val_pred = (y_val_prob > 0.5).astype(int)\n",
    "    \n",
    "    f1_weighted = f1_score(y_val, y_val_pred, average='weighted')\n",
    "    \n",
    "    print(f\"Trial {trial.number}: Weighted F1 = {f1_weighted:.4f}\")\n",
    "    \n",
    "    return f1_weighted\n",
    "```"
   ]
  }
 ],
 "metadata": {
  "kernelspec": {
   "display_name": "ee",
   "language": "python",
   "name": "python3"
  },
  "language_info": {
   "codemirror_mode": {
    "name": "ipython",
    "version": 3
   },
   "file_extension": ".py",
   "mimetype": "text/x-python",
   "name": "python",
   "nbconvert_exporter": "python",
   "pygments_lexer": "ipython3",
   "version": "3.8.20"
  }
 },
 "nbformat": 4,
 "nbformat_minor": 5
}
